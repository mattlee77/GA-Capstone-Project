{
 "cells": [
  {
   "cell_type": "code",
   "execution_count": 58,
   "metadata": {
    "collapsed": true
   },
   "outputs": [],
   "source": [
    "import pandas as pd\n",
    "import numpy as np\n",
    "import matplotlib.pyplot as plt\n",
    "import seaborn as sns\n",
    "from sklearn.model_selection import train_test_split, GridSearchCV, cross_val_score\n",
    "from sklearn.feature_selection import SelectKBest, RFE, f_regression, mutual_info_regression\n",
    "from sklearn.linear_model import LinearRegression, LassoCV, RidgeCV\n",
    "from sklearn.neighbors import KNeighborsRegressor\n",
    "from sklearn.tree import DecisionTreeRegressor\n",
    "from sklearn.ensemble import RandomForestRegressor, AdaBoostRegressor, BaggingRegressor, ExtraTreesRegressor, GradientBoostingRegressor\n",
    "from xgboost import XGBRegressor\n",
    "from sklearn import metrics\n",
    "from sklearn.svm import SVR\n",
    "from sklearn.externals import joblib\n",
    "%matplotlib inline"
   ]
  },
  {
   "cell_type": "code",
   "execution_count": 2,
   "metadata": {
    "collapsed": true
   },
   "outputs": [],
   "source": [
    "pd.set_option('display.max_columns',50)\n",
    "pd.set_option('display.max_rows',10000)\n",
    "df = pd.read_csv('/Users/mattlee/GA-Capstone-Project/normalizedoffense.csv')"
   ]
  },
  {
   "cell_type": "code",
   "execution_count": 3,
   "metadata": {},
   "outputs": [
    {
     "data": {
      "text/html": [
       "<div>\n",
       "<table border=\"1\" class=\"dataframe\">\n",
       "  <thead>\n",
       "    <tr style=\"text-align: right;\">\n",
       "      <th></th>\n",
       "      <th>eFG%</th>\n",
       "      <th>TS%</th>\n",
       "      <th>FTr</th>\n",
       "      <th>USG%</th>\n",
       "      <th>ORB%</th>\n",
       "      <th>OWS</th>\n",
       "      <th>TotalOff</th>\n",
       "      <th>Name</th>\n",
       "    </tr>\n",
       "  </thead>\n",
       "  <tbody>\n",
       "    <tr>\n",
       "      <th>0</th>\n",
       "      <td>0.390573</td>\n",
       "      <td>0.460000</td>\n",
       "      <td>0.127585</td>\n",
       "      <td>0.509025</td>\n",
       "      <td>0.057902</td>\n",
       "      <td>0.186347</td>\n",
       "      <td>1.731432</td>\n",
       "      <td>A.J. Price</td>\n",
       "    </tr>\n",
       "    <tr>\n",
       "      <th>1</th>\n",
       "      <td>0.558595</td>\n",
       "      <td>0.626531</td>\n",
       "      <td>0.335511</td>\n",
       "      <td>0.285199</td>\n",
       "      <td>0.684728</td>\n",
       "      <td>0.193727</td>\n",
       "      <td>2.684290</td>\n",
       "      <td>Aaron Gray</td>\n",
       "    </tr>\n",
       "    <tr>\n",
       "      <th>2</th>\n",
       "      <td>0.357301</td>\n",
       "      <td>0.468571</td>\n",
       "      <td>0.215545</td>\n",
       "      <td>0.264440</td>\n",
       "      <td>0.162019</td>\n",
       "      <td>0.223247</td>\n",
       "      <td>1.691124</td>\n",
       "      <td>Aaron Mckie</td>\n",
       "    </tr>\n",
       "    <tr>\n",
       "      <th>3</th>\n",
       "      <td>0.545841</td>\n",
       "      <td>0.728776</td>\n",
       "      <td>0.584368</td>\n",
       "      <td>0.252708</td>\n",
       "      <td>0.606109</td>\n",
       "      <td>0.311808</td>\n",
       "      <td>3.029609</td>\n",
       "      <td>Adam Keefe</td>\n",
       "    </tr>\n",
       "    <tr>\n",
       "      <th>4</th>\n",
       "      <td>0.347874</td>\n",
       "      <td>0.354082</td>\n",
       "      <td>0.255389</td>\n",
       "      <td>0.196751</td>\n",
       "      <td>0.560425</td>\n",
       "      <td>0.140221</td>\n",
       "      <td>1.854742</td>\n",
       "      <td>Adonal Foyle</td>\n",
       "    </tr>\n",
       "  </tbody>\n",
       "</table>\n",
       "</div>"
      ],
      "text/plain": [
       "       eFG%       TS%       FTr      USG%      ORB%       OWS  TotalOff  \\\n",
       "0  0.390573  0.460000  0.127585  0.509025  0.057902  0.186347  1.731432   \n",
       "1  0.558595  0.626531  0.335511  0.285199  0.684728  0.193727  2.684290   \n",
       "2  0.357301  0.468571  0.215545  0.264440  0.162019  0.223247  1.691124   \n",
       "3  0.545841  0.728776  0.584368  0.252708  0.606109  0.311808  3.029609   \n",
       "4  0.347874  0.354082  0.255389  0.196751  0.560425  0.140221  1.854742   \n",
       "\n",
       "           Name  \n",
       "0    A.J. Price  \n",
       "1    Aaron Gray  \n",
       "2   Aaron Mckie  \n",
       "3    Adam Keefe  \n",
       "4  Adonal Foyle  "
      ]
     },
     "execution_count": 3,
     "metadata": {},
     "output_type": "execute_result"
    }
   ],
   "source": [
    "df.head()"
   ]
  },
  {
   "cell_type": "code",
   "execution_count": 4,
   "metadata": {
    "collapsed": true
   },
   "outputs": [],
   "source": [
    "df1 = pd.read_csv('/Users/mattlee/GA-Capstone-Project/normalizedoffdf.csv')"
   ]
  },
  {
   "cell_type": "code",
   "execution_count": 5,
   "metadata": {},
   "outputs": [
    {
     "data": {
      "text/html": [
       "<div>\n",
       "<table border=\"1\" class=\"dataframe\">\n",
       "  <thead>\n",
       "    <tr style=\"text-align: right;\">\n",
       "      <th></th>\n",
       "      <th>Name</th>\n",
       "      <th>Team</th>\n",
       "      <th>PPG</th>\n",
       "      <th>Games Played</th>\n",
       "      <th>MPG</th>\n",
       "      <th>FGM</th>\n",
       "      <th>FGA</th>\n",
       "      <th>FG%</th>\n",
       "      <th>FTM</th>\n",
       "      <th>FTA</th>\n",
       "      <th>FT%</th>\n",
       "      <th>3PM</th>\n",
       "      <th>3PA</th>\n",
       "      <th>3P%</th>\n",
       "      <th>ORB</th>\n",
       "      <th>DRB</th>\n",
       "      <th>RPG</th>\n",
       "      <th>APG</th>\n",
       "      <th>SPG</th>\n",
       "      <th>BPG</th>\n",
       "      <th>TOV</th>\n",
       "      <th>PF</th>\n",
       "      <th>Year</th>\n",
       "      <th>NBATeam</th>\n",
       "      <th>CollegeName</th>\n",
       "      <th>Age at Draft</th>\n",
       "      <th>Weight at Draft</th>\n",
       "      <th>Height Inches</th>\n",
       "      <th>PER</th>\n",
       "      <th>WS</th>\n",
       "      <th>WS/48</th>\n",
       "      <th>BPM</th>\n",
       "      <th>VORP</th>\n",
       "      <th>TopSchool</th>\n",
       "      <th>TotalOff</th>\n",
       "    </tr>\n",
       "  </thead>\n",
       "  <tbody>\n",
       "    <tr>\n",
       "      <th>0</th>\n",
       "      <td>A.J. Price</td>\n",
       "      <td>UConn</td>\n",
       "      <td>12.466667</td>\n",
       "      <td>33.000000</td>\n",
       "      <td>29.30</td>\n",
       "      <td>4.166667</td>\n",
       "      <td>10.10</td>\n",
       "      <td>0.410667</td>\n",
       "      <td>2.633333</td>\n",
       "      <td>3.600000</td>\n",
       "      <td>0.719000</td>\n",
       "      <td>1.50</td>\n",
       "      <td>4.166667</td>\n",
       "      <td>0.348</td>\n",
       "      <td>0.800</td>\n",
       "      <td>2.433333</td>\n",
       "      <td>3.233333</td>\n",
       "      <td>4.566667</td>\n",
       "      <td>1.066667</td>\n",
       "      <td>0.066667</td>\n",
       "      <td>2.300000</td>\n",
       "      <td>1.300000</td>\n",
       "      <td>2009.0</td>\n",
       "      <td>IND</td>\n",
       "      <td>University of Connecticut</td>\n",
       "      <td>22.5</td>\n",
       "      <td>193.0</td>\n",
       "      <td>74.0</td>\n",
       "      <td>11.66</td>\n",
       "      <td>4.4</td>\n",
       "      <td>0.0440</td>\n",
       "      <td>-2.98</td>\n",
       "      <td>-0.3</td>\n",
       "      <td>0</td>\n",
       "      <td>1.545085</td>\n",
       "    </tr>\n",
       "    <tr>\n",
       "      <th>1</th>\n",
       "      <td>Aaron Gray</td>\n",
       "      <td>PITT</td>\n",
       "      <td>8.750000</td>\n",
       "      <td>28.250000</td>\n",
       "      <td>18.40</td>\n",
       "      <td>3.425000</td>\n",
       "      <td>6.25</td>\n",
       "      <td>0.554250</td>\n",
       "      <td>1.900000</td>\n",
       "      <td>3.175000</td>\n",
       "      <td>0.590500</td>\n",
       "      <td>0.00</td>\n",
       "      <td>0.000000</td>\n",
       "      <td>0.000</td>\n",
       "      <td>2.275</td>\n",
       "      <td>3.975000</td>\n",
       "      <td>6.275000</td>\n",
       "      <td>1.175000</td>\n",
       "      <td>0.300000</td>\n",
       "      <td>1.025000</td>\n",
       "      <td>1.350000</td>\n",
       "      <td>1.975000</td>\n",
       "      <td>2007.0</td>\n",
       "      <td>CHI</td>\n",
       "      <td>University of Pittsburgh</td>\n",
       "      <td>22.3</td>\n",
       "      <td>280.0</td>\n",
       "      <td>85.0</td>\n",
       "      <td>12.82</td>\n",
       "      <td>5.5</td>\n",
       "      <td>0.0952</td>\n",
       "      <td>-1.32</td>\n",
       "      <td>0.3</td>\n",
       "      <td>0</td>\n",
       "      <td>2.490563</td>\n",
       "    </tr>\n",
       "    <tr>\n",
       "      <th>2</th>\n",
       "      <td>Al Horford</td>\n",
       "      <td>UF</td>\n",
       "      <td>9.866667</td>\n",
       "      <td>36.333333</td>\n",
       "      <td>25.50</td>\n",
       "      <td>3.766667</td>\n",
       "      <td>6.40</td>\n",
       "      <td>0.565333</td>\n",
       "      <td>2.433333</td>\n",
       "      <td>3.966667</td>\n",
       "      <td>0.612333</td>\n",
       "      <td>0.00</td>\n",
       "      <td>0.066667</td>\n",
       "      <td>0.000</td>\n",
       "      <td>2.300</td>\n",
       "      <td>5.500000</td>\n",
       "      <td>7.766667</td>\n",
       "      <td>1.633333</td>\n",
       "      <td>0.833333</td>\n",
       "      <td>1.700000</td>\n",
       "      <td>1.533333</td>\n",
       "      <td>2.433333</td>\n",
       "      <td>2007.0</td>\n",
       "      <td>ATL</td>\n",
       "      <td>University of Florida</td>\n",
       "      <td>20.8</td>\n",
       "      <td>246.0</td>\n",
       "      <td>82.0</td>\n",
       "      <td>18.16</td>\n",
       "      <td>34.6</td>\n",
       "      <td>0.1580</td>\n",
       "      <td>2.52</td>\n",
       "      <td>12.3</td>\n",
       "      <td>1</td>\n",
       "      <td>2.423414</td>\n",
       "    </tr>\n",
       "    <tr>\n",
       "      <th>3</th>\n",
       "      <td>Al-Farouq Aminu</td>\n",
       "      <td>WF</td>\n",
       "      <td>13.300000</td>\n",
       "      <td>31.000000</td>\n",
       "      <td>30.15</td>\n",
       "      <td>4.650000</td>\n",
       "      <td>9.80</td>\n",
       "      <td>0.481500</td>\n",
       "      <td>3.600000</td>\n",
       "      <td>5.200000</td>\n",
       "      <td>0.684500</td>\n",
       "      <td>0.40</td>\n",
       "      <td>1.550000</td>\n",
       "      <td>0.226</td>\n",
       "      <td>3.050</td>\n",
       "      <td>5.650000</td>\n",
       "      <td>8.700000</td>\n",
       "      <td>1.300000</td>\n",
       "      <td>1.150000</td>\n",
       "      <td>1.250000</td>\n",
       "      <td>2.650000</td>\n",
       "      <td>2.550000</td>\n",
       "      <td>2010.0</td>\n",
       "      <td>LAC</td>\n",
       "      <td>Wake Forest University</td>\n",
       "      <td>19.5</td>\n",
       "      <td>216.0</td>\n",
       "      <td>80.0</td>\n",
       "      <td>12.30</td>\n",
       "      <td>11.6</td>\n",
       "      <td>0.0652</td>\n",
       "      <td>-0.36</td>\n",
       "      <td>3.5</td>\n",
       "      <td>0</td>\n",
       "      <td>1.831858</td>\n",
       "    </tr>\n",
       "    <tr>\n",
       "      <th>4</th>\n",
       "      <td>Alec Burks</td>\n",
       "      <td>UCOL</td>\n",
       "      <td>18.450000</td>\n",
       "      <td>34.000000</td>\n",
       "      <td>30.80</td>\n",
       "      <td>6.100000</td>\n",
       "      <td>12.20</td>\n",
       "      <td>0.503000</td>\n",
       "      <td>5.650000</td>\n",
       "      <td>7.100000</td>\n",
       "      <td>0.798500</td>\n",
       "      <td>0.65</td>\n",
       "      <td>2.150000</td>\n",
       "      <td>0.322</td>\n",
       "      <td>2.100</td>\n",
       "      <td>3.500000</td>\n",
       "      <td>5.650000</td>\n",
       "      <td>2.300000</td>\n",
       "      <td>1.150000</td>\n",
       "      <td>0.350000</td>\n",
       "      <td>2.200000</td>\n",
       "      <td>2.350000</td>\n",
       "      <td>2011.0</td>\n",
       "      <td>UTA</td>\n",
       "      <td>University of Colorado</td>\n",
       "      <td>19.7</td>\n",
       "      <td>193.0</td>\n",
       "      <td>78.0</td>\n",
       "      <td>13.72</td>\n",
       "      <td>8.9</td>\n",
       "      <td>0.0738</td>\n",
       "      <td>-2.10</td>\n",
       "      <td>0.2</td>\n",
       "      <td>0</td>\n",
       "      <td>2.119826</td>\n",
       "    </tr>\n",
       "  </tbody>\n",
       "</table>\n",
       "</div>"
      ],
      "text/plain": [
       "              Name   Team        PPG  Games Played    MPG       FGM    FGA  \\\n",
       "0       A.J. Price  UConn  12.466667     33.000000  29.30  4.166667  10.10   \n",
       "1       Aaron Gray   PITT   8.750000     28.250000  18.40  3.425000   6.25   \n",
       "2       Al Horford     UF   9.866667     36.333333  25.50  3.766667   6.40   \n",
       "3  Al-Farouq Aminu     WF  13.300000     31.000000  30.15  4.650000   9.80   \n",
       "4       Alec Burks   UCOL  18.450000     34.000000  30.80  6.100000  12.20   \n",
       "\n",
       "        FG%       FTM       FTA       FT%   3PM       3PA    3P%    ORB  \\\n",
       "0  0.410667  2.633333  3.600000  0.719000  1.50  4.166667  0.348  0.800   \n",
       "1  0.554250  1.900000  3.175000  0.590500  0.00  0.000000  0.000  2.275   \n",
       "2  0.565333  2.433333  3.966667  0.612333  0.00  0.066667  0.000  2.300   \n",
       "3  0.481500  3.600000  5.200000  0.684500  0.40  1.550000  0.226  3.050   \n",
       "4  0.503000  5.650000  7.100000  0.798500  0.65  2.150000  0.322  2.100   \n",
       "\n",
       "        DRB       RPG       APG       SPG       BPG       TOV        PF  \\\n",
       "0  2.433333  3.233333  4.566667  1.066667  0.066667  2.300000  1.300000   \n",
       "1  3.975000  6.275000  1.175000  0.300000  1.025000  1.350000  1.975000   \n",
       "2  5.500000  7.766667  1.633333  0.833333  1.700000  1.533333  2.433333   \n",
       "3  5.650000  8.700000  1.300000  1.150000  1.250000  2.650000  2.550000   \n",
       "4  3.500000  5.650000  2.300000  1.150000  0.350000  2.200000  2.350000   \n",
       "\n",
       "     Year NBATeam                CollegeName  Age at Draft  Weight at Draft  \\\n",
       "0  2009.0     IND  University of Connecticut          22.5            193.0   \n",
       "1  2007.0     CHI   University of Pittsburgh          22.3            280.0   \n",
       "2  2007.0     ATL      University of Florida          20.8            246.0   \n",
       "3  2010.0     LAC     Wake Forest University          19.5            216.0   \n",
       "4  2011.0     UTA     University of Colorado          19.7            193.0   \n",
       "\n",
       "   Height Inches    PER    WS   WS/48   BPM  VORP  TopSchool  TotalOff  \n",
       "0           74.0  11.66   4.4  0.0440 -2.98  -0.3          0  1.545085  \n",
       "1           85.0  12.82   5.5  0.0952 -1.32   0.3          0  2.490563  \n",
       "2           82.0  18.16  34.6  0.1580  2.52  12.3          1  2.423414  \n",
       "3           80.0  12.30  11.6  0.0652 -0.36   3.5          0  1.831858  \n",
       "4           78.0  13.72   8.9  0.0738 -2.10   0.2          0  2.119826  "
      ]
     },
     "execution_count": 5,
     "metadata": {},
     "output_type": "execute_result"
    }
   ],
   "source": [
    "df1.head()"
   ]
  },
  {
   "cell_type": "code",
   "execution_count": 6,
   "metadata": {
    "collapsed": true
   },
   "outputs": [],
   "source": [
    "df1.drop('TotalOff', axis = 1, inplace = True)"
   ]
  },
  {
   "cell_type": "code",
   "execution_count": 7,
   "metadata": {
    "collapsed": true
   },
   "outputs": [],
   "source": [
    "df2 = df1.merge(df[['Name','TotalOff']], on = 'Name', how = 'left')"
   ]
  },
  {
   "cell_type": "code",
   "execution_count": 10,
   "metadata": {
    "collapsed": true
   },
   "outputs": [],
   "source": [
    "df2.to_csv('normalizedoffdf.csv', index = False)"
   ]
  },
  {
   "cell_type": "code",
   "execution_count": 3,
   "metadata": {
    "collapsed": true
   },
   "outputs": [],
   "source": [
    "df3 = pd.read_csv('/Users/mattlee/GA-Capstone-Project/FEdf.csv')"
   ]
  },
  {
   "cell_type": "code",
   "execution_count": 21,
   "metadata": {
    "collapsed": true
   },
   "outputs": [],
   "source": [
    "df3.drop('TotalOff', axis = 1, inplace = True)"
   ]
  },
  {
   "cell_type": "code",
   "execution_count": 22,
   "metadata": {
    "collapsed": true
   },
   "outputs": [],
   "source": [
    "df4 = df3.merge(df2[['Name','TotalOff']], on = 'Name', how = 'left')"
   ]
  },
  {
   "cell_type": "code",
   "execution_count": 23,
   "metadata": {
    "collapsed": true
   },
   "outputs": [],
   "source": [
    "df4.to_csv('FEdf.csv', index = False)"
   ]
  },
  {
   "cell_type": "code",
   "execution_count": 2,
   "metadata": {
    "collapsed": true
   },
   "outputs": [],
   "source": [
    "df = pd.read_csv('/Users/mattlee/GA-Capstone-Project/FEdf1.csv')"
   ]
  },
  {
   "cell_type": "markdown",
   "metadata": {},
   "source": [
    "**Feature Selection**"
   ]
  },
  {
   "cell_type": "code",
   "execution_count": 3,
   "metadata": {
    "collapsed": true
   },
   "outputs": [],
   "source": [
    "def skb(x,y,features):\n",
    "    kbest = SelectKBest(score_func= mutual_info_regression,k = features)\n",
    "    kbest_columns = kbest.fit_transform(x,y)\n",
    "    mask = kbest.get_support() #list of booleans\n",
    "    new_features = [] # The list of your K best features\n",
    "    for bool, feature in zip(mask, x.columns):\n",
    "        if bool:\n",
    "            new_features.append(feature)\n",
    "    dfkbest = pd.DataFrame(kbest_columns, columns = new_features)\n",
    "    scores = zip(x.columns,list(kbest.scores_))\n",
    "    return dfkbest, scores\n",
    "#made a function that can manually iterate number of desired KBest features"
   ]
  },
  {
   "cell_type": "code",
   "execution_count": 4,
   "metadata": {},
   "outputs": [
    {
     "data": {
      "text/plain": [
       "Index([u'Name', u'Team', u'PPG', u'Games Played', u'MPG', u'FGM', u'FGA',\n",
       "       u'FG%', u'FTM', u'FTA', u'FT%', u'3PM', u'3PA', u'3P%', u'ORB', u'DRB',\n",
       "       u'RPG', u'APG', u'SPG', u'BPG', u'TOV', u'PF', u'Year', u'NBATeam',\n",
       "       u'CollegeName', u'Age at Draft', u'Weight at Draft', u'Height Inches',\n",
       "       u'PER', u'WS', u'WS/48', u'BPM', u'VORP', u'TopSchool', u'Total',\n",
       "       u'TotalWS', u'TotalWS48', u'TotalPCAWS', u'TotalPCAWS48', u'TotalDef',\n",
       "       u'TotalPERWS', u'TotalPERWSBPM', u'TotalWSBPM', u'TotalWSBPMV',\n",
       "       u'PERVORP', u'TotalWV', u'MPG3', u'FTMSR', u'3PMSR', u'ORBSR', u'DRBL',\n",
       "       u'APGCR', u'SPGSR', u'TOVSR', u'Age at Draft SR', u'Height Inches C',\n",
       "       u'TotalWSSR', u'TotalPCAWSSR', u'TotalPERWSSR', u'TotalWSBPMSR',\n",
       "       u'TotalWSBPMVCR', u'PERVORPCR', u'Games Played 4', u'TotalOff',\n",
       "       u'FTASR', u'FT%C', u'3PASR', u'3P%R', u'RPGSR'],\n",
       "      dtype='object')"
      ]
     },
     "execution_count": 4,
     "metadata": {},
     "output_type": "execute_result"
    }
   ],
   "source": [
    "df.columns"
   ]
  },
  {
   "cell_type": "code",
   "execution_count": 6,
   "metadata": {
    "collapsed": true
   },
   "outputs": [],
   "source": [
    "x = df[['PPG','Games Played 4','MPG3','FGM','FG%','FTMSR','FT%C','3PMSR','3P%','ORBSR','APGCR','SPGSR',\n",
    "           'BPG','TOVSR','PF','TopSchool','Age at Draft SR','Weight at Draft','Height Inches C']]\n",
    "y = df['TotalOff']"
   ]
  },
  {
   "cell_type": "code",
   "execution_count": 34,
   "metadata": {
    "collapsed": true
   },
   "outputs": [],
   "source": [
    "dfkbest, scores = skb(x,y,17)"
   ]
  },
  {
   "cell_type": "code",
   "execution_count": 35,
   "metadata": {},
   "outputs": [
    {
     "data": {
      "text/plain": [
       "[('PPG', 0.023819951232362691),\n",
       " ('Games Played 4', 0.018348735933628735),\n",
       " ('MPG3', 0.0),\n",
       " ('FGM', 0.046674478958629528),\n",
       " ('FG%', 0.12269085010280767),\n",
       " ('FTMSR', 0.081443297937870529),\n",
       " ('FT%C', 0.04392391335404966),\n",
       " ('3PMSR', 0.027278740028634729),\n",
       " ('3P%', 0.020438503908605909),\n",
       " ('ORBSR', 0.11302474514880778),\n",
       " ('APGCR', 0.0),\n",
       " ('SPGSR', 0.0),\n",
       " ('BPG', 0.040927037434248081),\n",
       " ('TOVSR', 0.00034425909600477311),\n",
       " ('PF', 0.025283994403795695),\n",
       " ('TopSchool', 0.0),\n",
       " ('Age at Draft SR', 0.0),\n",
       " ('Weight at Draft', 0.11608203976686804),\n",
       " ('Height Inches C', 0.034666383240559817)]"
      ]
     },
     "execution_count": 35,
     "metadata": {},
     "output_type": "execute_result"
    }
   ],
   "source": [
    "scores"
   ]
  },
  {
   "cell_type": "code",
   "execution_count": 36,
   "metadata": {
    "scrolled": true
   },
   "outputs": [
    {
     "data": {
      "text/plain": [
       "Index([u'PPG', u'Games Played 4', u'FGM', u'FG%', u'FTMSR', u'FT%C', u'3PMSR',\n",
       "       u'3P%', u'ORBSR', u'SPGSR', u'BPG', u'TOVSR', u'PF', u'TopSchool',\n",
       "       u'Age at Draft SR', u'Weight at Draft', u'Height Inches C'],\n",
       "      dtype='object')"
      ]
     },
     "execution_count": 36,
     "metadata": {},
     "output_type": "execute_result"
    }
   ],
   "source": [
    "dfkbest.columns"
   ]
  },
  {
   "cell_type": "code",
   "execution_count": 37,
   "metadata": {
    "collapsed": true
   },
   "outputs": [],
   "source": [
    "x = dfkbest"
   ]
  },
  {
   "cell_type": "code",
   "execution_count": 38,
   "metadata": {
    "collapsed": true
   },
   "outputs": [],
   "source": [
    "x_train, x_test, y_train, y_test = train_test_split(x,y,test_size = 0.35)"
   ]
  },
  {
   "cell_type": "code",
   "execution_count": 39,
   "metadata": {
    "collapsed": true
   },
   "outputs": [],
   "source": [
    "rg = RidgeCV(alphas = [0.001, 0.01, 0.1, 1.0, 10])"
   ]
  },
  {
   "cell_type": "code",
   "execution_count": 40,
   "metadata": {
    "scrolled": true
   },
   "outputs": [
    {
     "name": "stdout",
     "output_type": "stream",
     "text": [
      "0.422880912774\n",
      "[ 0.30797523  0.17290329  0.13707967]\n",
      "0.423600633123\n"
     ]
    }
   ],
   "source": [
    "rg.fit(x_train, y_train)\n",
    "print rg.score(x_train, y_train)\n",
    "print cross_val_score(rg,x, y)\n",
    "print rg.score(x_test, y_test)"
   ]
  },
  {
   "cell_type": "code",
   "execution_count": 64,
   "metadata": {},
   "outputs": [
    {
     "data": {
      "text/plain": [
       "[('FG%', 3.725623985271806),\n",
       " ('ORBSR', 0.33519382170965173),\n",
       " ('TopSchool', 0.18627738366061664),\n",
       " ('SPGSR', 0.18596358250700007),\n",
       " ('FTMSR', 0.1685090094050139),\n",
       " ('PPG', 0.099953335137456634),\n",
       " ('3PMSR', 0.054085468735593167),\n",
       " ('BPG', 0.013225191554546711),\n",
       " ('Weight at Draft', 0.0012864150758105097),\n",
       " ('Games Played 4', -7.4505805969238281e-08),\n",
       " ('Height Inches C', -5.5599957704544067e-07),\n",
       " ('Age at Draft SR', -0.0022259379093156895),\n",
       " ('PF', -0.17651875037368114),\n",
       " ('3P%', -0.21847235088770489),\n",
       " ('TOVSR', -0.22736687167528302),\n",
       " ('FGM', -0.26452708685175708),\n",
       " ('FT%C', -0.54088427678284745)]"
      ]
     },
     "execution_count": 64,
     "metadata": {},
     "output_type": "execute_result"
    }
   ],
   "source": [
    "zipped = zip(dfkbest.columns,rg.coef_)\n",
    "zipped.sort(key = lambda t: t[1], reverse = True)\n",
    "zipped"
   ]
  },
  {
   "cell_type": "code",
   "execution_count": 73,
   "metadata": {},
   "outputs": [
    {
     "data": {
      "text/html": [
       "<div>\n",
       "<table border=\"1\" class=\"dataframe\">\n",
       "  <thead>\n",
       "    <tr style=\"text-align: right;\">\n",
       "      <th></th>\n",
       "      <th>Coefficients</th>\n",
       "    </tr>\n",
       "  </thead>\n",
       "  <tbody>\n",
       "    <tr>\n",
       "      <th>FG%</th>\n",
       "      <td>3.725624e+00</td>\n",
       "    </tr>\n",
       "    <tr>\n",
       "      <th>ORBSR</th>\n",
       "      <td>3.351938e-01</td>\n",
       "    </tr>\n",
       "    <tr>\n",
       "      <th>TopSchool</th>\n",
       "      <td>1.862774e-01</td>\n",
       "    </tr>\n",
       "    <tr>\n",
       "      <th>SPGSR</th>\n",
       "      <td>1.859636e-01</td>\n",
       "    </tr>\n",
       "    <tr>\n",
       "      <th>FTMSR</th>\n",
       "      <td>1.685090e-01</td>\n",
       "    </tr>\n",
       "    <tr>\n",
       "      <th>PPG</th>\n",
       "      <td>9.995334e-02</td>\n",
       "    </tr>\n",
       "    <tr>\n",
       "      <th>3PMSR</th>\n",
       "      <td>5.408547e-02</td>\n",
       "    </tr>\n",
       "    <tr>\n",
       "      <th>BPG</th>\n",
       "      <td>1.322519e-02</td>\n",
       "    </tr>\n",
       "    <tr>\n",
       "      <th>Weight at Draft</th>\n",
       "      <td>1.286415e-03</td>\n",
       "    </tr>\n",
       "    <tr>\n",
       "      <th>Games Played 4</th>\n",
       "      <td>-7.450581e-08</td>\n",
       "    </tr>\n",
       "    <tr>\n",
       "      <th>Height Inches C</th>\n",
       "      <td>-5.559996e-07</td>\n",
       "    </tr>\n",
       "    <tr>\n",
       "      <th>Age at Draft SR</th>\n",
       "      <td>-2.225938e-03</td>\n",
       "    </tr>\n",
       "    <tr>\n",
       "      <th>PF</th>\n",
       "      <td>-1.765188e-01</td>\n",
       "    </tr>\n",
       "    <tr>\n",
       "      <th>3P%</th>\n",
       "      <td>-2.184724e-01</td>\n",
       "    </tr>\n",
       "    <tr>\n",
       "      <th>TOVSR</th>\n",
       "      <td>-2.273669e-01</td>\n",
       "    </tr>\n",
       "    <tr>\n",
       "      <th>FGM</th>\n",
       "      <td>-2.645271e-01</td>\n",
       "    </tr>\n",
       "    <tr>\n",
       "      <th>FT%C</th>\n",
       "      <td>-5.408843e-01</td>\n",
       "    </tr>\n",
       "  </tbody>\n",
       "</table>\n",
       "</div>"
      ],
      "text/plain": [
       "                 Coefficients\n",
       "FG%              3.725624e+00\n",
       "ORBSR            3.351938e-01\n",
       "TopSchool        1.862774e-01\n",
       "SPGSR            1.859636e-01\n",
       "FTMSR            1.685090e-01\n",
       "PPG              9.995334e-02\n",
       "3PMSR            5.408547e-02\n",
       "BPG              1.322519e-02\n",
       "Weight at Draft  1.286415e-03\n",
       "Games Played 4  -7.450581e-08\n",
       "Height Inches C -5.559996e-07\n",
       "Age at Draft SR -2.225938e-03\n",
       "PF              -1.765188e-01\n",
       "3P%             -2.184724e-01\n",
       "TOVSR           -2.273669e-01\n",
       "FGM             -2.645271e-01\n",
       "FT%C            -5.408843e-01"
      ]
     },
     "execution_count": 73,
     "metadata": {},
     "output_type": "execute_result"
    }
   ],
   "source": [
    "coef = pd.DataFrame(rg.coef_,dfkbest.columns, columns = ['Coefficients'])\n",
    "coef.sort_values(by = 'Coefficients', ascending = False)"
   ]
  },
  {
   "cell_type": "code",
   "execution_count": 70,
   "metadata": {},
   "outputs": [
    {
     "data": {
      "text/plain": [
       "0.01"
      ]
     },
     "execution_count": 70,
     "metadata": {},
     "output_type": "execute_result"
    }
   ],
   "source": [
    "rg.alpha_"
   ]
  },
  {
   "cell_type": "code",
   "execution_count": 72,
   "metadata": {
    "scrolled": false
   },
   "outputs": [
    {
     "data": {
      "text/html": [
       "<div>\n",
       "<table border=\"1\" class=\"dataframe\">\n",
       "  <thead>\n",
       "    <tr style=\"text-align: right;\">\n",
       "      <th></th>\n",
       "      <th>Predictions</th>\n",
       "      <th>TotalOff</th>\n",
       "    </tr>\n",
       "  </thead>\n",
       "  <tbody>\n",
       "    <tr>\n",
       "      <th>0</th>\n",
       "      <td>2.493228</td>\n",
       "      <td>2.054002</td>\n",
       "    </tr>\n",
       "    <tr>\n",
       "      <th>1</th>\n",
       "      <td>2.326191</td>\n",
       "      <td>2.068574</td>\n",
       "    </tr>\n",
       "    <tr>\n",
       "      <th>2</th>\n",
       "      <td>2.523909</td>\n",
       "      <td>2.548952</td>\n",
       "    </tr>\n",
       "    <tr>\n",
       "      <th>3</th>\n",
       "      <td>2.702432</td>\n",
       "      <td>2.885219</td>\n",
       "    </tr>\n",
       "    <tr>\n",
       "      <th>4</th>\n",
       "      <td>2.277809</td>\n",
       "      <td>1.948123</td>\n",
       "    </tr>\n",
       "  </tbody>\n",
       "</table>\n",
       "</div>"
      ],
      "text/plain": [
       "   Predictions  TotalOff\n",
       "0     2.493228  2.054002\n",
       "1     2.326191  2.068574\n",
       "2     2.523909  2.548952\n",
       "3     2.702432  2.885219\n",
       "4     2.277809  1.948123"
      ]
     },
     "execution_count": 72,
     "metadata": {},
     "output_type": "execute_result"
    }
   ],
   "source": [
    "rgpredict = (rg.predict(x_test))\n",
    "pre = pd.DataFrame(rgpredict, columns = ['Predictions'])\n",
    "forpredf = pd.DataFrame(y_test).reset_index(drop = True)\n",
    "pre1 = pre.merge(forpredf, left_index=True, right_index=True)\n",
    "pre1.head()"
   ]
  },
  {
   "cell_type": "code",
   "execution_count": 68,
   "metadata": {},
   "outputs": [
    {
     "name": "stdout",
     "output_type": "stream",
     "text": [
      "RMSE: 0.429827346855\n"
     ]
    }
   ],
   "source": [
    "print 'RMSE:', np.sqrt(metrics.mean_squared_error(y_test, rgpredict))"
   ]
  },
  {
   "cell_type": "code",
   "execution_count": 75,
   "metadata": {},
   "outputs": [
    {
     "data": {
      "text/plain": [
       "<seaborn.axisgrid.JointGrid at 0x119c1b6d0>"
      ]
     },
     "execution_count": 75,
     "metadata": {},
     "output_type": "execute_result"
    },
    {
     "data": {
      "image/png": "[encoded data removed]",
      "text/plain": [
       "<matplotlib.figure.Figure at 0x119b6d410>"
      ]
     },
     "metadata": {},
     "output_type": "display_data"
    }
   ],
   "source": [
    "sns.set(rc={'axes.facecolor':'snow', 'figure.facecolor':'aliceblue','axes.grid':False})\n",
    "\n",
    "sns.jointplot(x = 'TotalOff', y = 'Predictions', data = pre1, kind = 'scatter', \n",
    "              color = 'dodgerblue', stat_func = None, size = 10)"
   ]
  },
  {
   "cell_type": "code",
   "execution_count": 60,
   "metadata": {},
   "outputs": [
    {
     "data": {
      "text/plain": [
       "['Offense_Ridge.pkl']"
      ]
     },
     "execution_count": 60,
     "metadata": {},
     "output_type": "execute_result"
    }
   ],
   "source": [
    "joblib.dump(rg, 'Offense_Ridge.pkl')"
   ]
  },
  {
   "cell_type": "code",
   "execution_count": 41,
   "metadata": {
    "collapsed": true
   },
   "outputs": [],
   "source": [
    "gb = GradientBoostingRegressor()"
   ]
  },
  {
   "cell_type": "code",
   "execution_count": 42,
   "metadata": {
    "collapsed": true
   },
   "outputs": [],
   "source": [
    "params = {'learning_rate':[0.001,0.01,0.1,0.2,0.3],\n",
    "         'n_estimators':[100],\n",
    "         'max_depth':[1,5,10],\n",
    "         'min_samples_split':[2,5,8],\n",
    "         'min_samples_leaf':[1,3,5],\n",
    "         'max_features':[0.4,'sqrt']}"
   ]
  },
  {
   "cell_type": "code",
   "execution_count": 43,
   "metadata": {
    "collapsed": true
   },
   "outputs": [],
   "source": [
    "gsgb = GridSearchCV(gb, params, n_jobs= -1)"
   ]
  },
  {
   "cell_type": "code",
   "execution_count": 44,
   "metadata": {},
   "outputs": [
    {
     "data": {
      "text/plain": [
       "GridSearchCV(cv=None, error_score='raise',\n",
       "       estimator=GradientBoostingRegressor(alpha=0.9, criterion='friedman_mse', init=None,\n",
       "             learning_rate=0.1, loss='ls', max_depth=3, max_features=None,\n",
       "             max_leaf_nodes=None, min_impurity_split=1e-07,\n",
       "             min_samples_leaf=1, min_samples_split=2,\n",
       "             min_weight_fraction_leaf=0.0, n_estimators=100,\n",
       "             presort='auto', random_state=None, subsample=1.0, verbose=0,\n",
       "             warm_start=False),\n",
       "       fit_params={}, iid=True, n_jobs=-1,\n",
       "       param_grid={'learning_rate': [0.001, 0.01, 0.1, 0.2, 0.3], 'min_samples_leaf': [1, 3, 5], 'n_estimators': [100], 'max_features': [0.4, 'sqrt'], 'min_samples_split': [2, 5, 8], 'max_depth': [1, 5, 10]},\n",
       "       pre_dispatch='2*n_jobs', refit=True, return_train_score=True,\n",
       "       scoring=None, verbose=0)"
      ]
     },
     "execution_count": 44,
     "metadata": {},
     "output_type": "execute_result"
    }
   ],
   "source": [
    "gsgb.fit(x_train, y_train)"
   ]
  },
  {
   "cell_type": "code",
   "execution_count": 45,
   "metadata": {},
   "outputs": [
    {
     "data": {
      "text/plain": [
       "GradientBoostingRegressor(alpha=0.9, criterion='friedman_mse', init=None,\n",
       "             learning_rate=0.1, loss='ls', max_depth=1,\n",
       "             max_features='sqrt', max_leaf_nodes=None,\n",
       "             min_impurity_split=1e-07, min_samples_leaf=5,\n",
       "             min_samples_split=8, min_weight_fraction_leaf=0.0,\n",
       "             n_estimators=100, presort='auto', random_state=None,\n",
       "             subsample=1.0, verbose=0, warm_start=False)"
      ]
     },
     "execution_count": 45,
     "metadata": {},
     "output_type": "execute_result"
    }
   ],
   "source": [
    "gsgb.best_estimator_.fit(x_train, y_train)"
   ]
  },
  {
   "cell_type": "code",
   "execution_count": 46,
   "metadata": {},
   "outputs": [
    {
     "data": {
      "text/plain": [
       "0.54314334263212238"
      ]
     },
     "execution_count": 46,
     "metadata": {},
     "output_type": "execute_result"
    }
   ],
   "source": [
    "gsgb.best_estimator_.score(x_train, y_train)"
   ]
  },
  {
   "cell_type": "code",
   "execution_count": 47,
   "metadata": {},
   "outputs": [
    {
     "data": {
      "text/plain": [
       "0.36180119397523014"
      ]
     },
     "execution_count": 47,
     "metadata": {},
     "output_type": "execute_result"
    }
   ],
   "source": [
    "gsgb.best_estimator_.score(x_test, y_test)"
   ]
  },
  {
   "cell_type": "code",
   "execution_count": 48,
   "metadata": {
    "collapsed": true
   },
   "outputs": [],
   "source": [
    "ln = LinearRegression()"
   ]
  },
  {
   "cell_type": "code",
   "execution_count": 49,
   "metadata": {
    "collapsed": true
   },
   "outputs": [],
   "source": [
    "gsln = GridSearchCV(ln,param_grid = {})"
   ]
  },
  {
   "cell_type": "code",
   "execution_count": 50,
   "metadata": {},
   "outputs": [
    {
     "data": {
      "text/plain": [
       "GridSearchCV(cv=None, error_score='raise',\n",
       "       estimator=LinearRegression(copy_X=True, fit_intercept=True, n_jobs=1, normalize=False),\n",
       "       fit_params={}, iid=True, n_jobs=1, param_grid={},\n",
       "       pre_dispatch='2*n_jobs', refit=True, return_train_score=True,\n",
       "       scoring=None, verbose=0)"
      ]
     },
     "execution_count": 50,
     "metadata": {},
     "output_type": "execute_result"
    }
   ],
   "source": [
    "gsln.fit(x_train, y_train)"
   ]
  },
  {
   "cell_type": "code",
   "execution_count": 51,
   "metadata": {},
   "outputs": [
    {
     "data": {
      "text/plain": [
       "LinearRegression(copy_X=True, fit_intercept=True, n_jobs=1, normalize=False)"
      ]
     },
     "execution_count": 51,
     "metadata": {},
     "output_type": "execute_result"
    }
   ],
   "source": [
    "gsln.best_estimator_.fit(x_train, y_train)"
   ]
  },
  {
   "cell_type": "code",
   "execution_count": 52,
   "metadata": {},
   "outputs": [
    {
     "data": {
      "text/plain": [
       "0.4234691786418463"
      ]
     },
     "execution_count": 52,
     "metadata": {},
     "output_type": "execute_result"
    }
   ],
   "source": [
    "gsln.best_estimator_.score(x_train, y_train)"
   ]
  },
  {
   "cell_type": "code",
   "execution_count": 53,
   "metadata": {},
   "outputs": [
    {
     "data": {
      "text/plain": [
       "0.42206403186313124"
      ]
     },
     "execution_count": 53,
     "metadata": {},
     "output_type": "execute_result"
    }
   ],
   "source": [
    "gsln.best_estimator_.score(x_test, y_test)"
   ]
  },
  {
   "cell_type": "code",
   "execution_count": 65,
   "metadata": {},
   "outputs": [
    {
     "data": {
      "text/plain": [
       "[('FG%', 4.0173243876951483),\n",
       " ('ORBSR', 0.34389570574740019),\n",
       " ('FTMSR', 0.18549459399474003),\n",
       " ('TopSchool', 0.18243424126494986),\n",
       " ('SPGSR', 0.18199629698068484),\n",
       " ('PPG', 0.095368833393335767),\n",
       " ('3PMSR', 0.086911839870226784),\n",
       " ('BPG', 0.011230847154947599),\n",
       " ('Weight at Draft', 0.0012600454624742685),\n",
       " ('Games Played 4', -9.2081644776062858e-08),\n",
       " ('Height Inches C', -6.3159185881289659e-07),\n",
       " ('Age at Draft SR', -0.0022316260983137326),\n",
       " ('PF', -0.18074955759271455),\n",
       " ('TOVSR', -0.20691949340022894),\n",
       " ('3P%', -0.23264837613849146),\n",
       " ('FGM', -0.26014710344712527),\n",
       " ('FT%C', -0.54502689105017565)]"
      ]
     },
     "execution_count": 65,
     "metadata": {},
     "output_type": "execute_result"
    }
   ],
   "source": [
    "zipped1 = zip(dfkbest.columns,gsln.best_estimator_.coef_)\n",
    "zipped1.sort(key = lambda t: t[1], reverse = True)\n",
    "zipped1"
   ]
  },
  {
   "cell_type": "code",
   "execution_count": 62,
   "metadata": {},
   "outputs": [
    {
     "data": {
      "text/plain": [
       "['Offense_LR.pkl']"
      ]
     },
     "execution_count": 62,
     "metadata": {},
     "output_type": "execute_result"
    }
   ],
   "source": [
    "joblib.dump(gsln.best_estimator_, 'Offense_LR.pkl')"
   ]
  },
  {
   "cell_type": "code",
   "execution_count": 54,
   "metadata": {},
   "outputs": [
    {
     "data": {
      "text/plain": [
       "GridSearchCV(cv=None, error_score='raise',\n",
       "       estimator=LassoCV(alphas=[0.001, 0.01, 0.1, 1.0, 10], copy_X=True, cv=None, eps=0.001,\n",
       "    fit_intercept=True, max_iter=1000, n_alphas=100, n_jobs=1,\n",
       "    normalize=False, positive=False, precompute='auto', random_state=None,\n",
       "    selection='cyclic', tol=0.0001, verbose=False),\n",
       "       fit_params={}, iid=True, n_jobs=1, param_grid={},\n",
       "       pre_dispatch='2*n_jobs', refit=True, return_train_score=True,\n",
       "       scoring=None, verbose=0)"
      ]
     },
     "execution_count": 54,
     "metadata": {},
     "output_type": "execute_result"
    }
   ],
   "source": [
    "lass = LassoCV(alphas = [0.001, 0.01, 0.1, 1.0, 10])\n",
    "gslass = GridSearchCV(lass,param_grid={})\n",
    "gslass.fit(x_train, y_train)"
   ]
  },
  {
   "cell_type": "code",
   "execution_count": 55,
   "metadata": {},
   "outputs": [
    {
     "data": {
      "text/plain": [
       "LassoCV(alphas=[0.001, 0.01, 0.1, 1.0, 10], copy_X=True, cv=None, eps=0.001,\n",
       "    fit_intercept=True, max_iter=1000, n_alphas=100, n_jobs=1,\n",
       "    normalize=False, positive=False, precompute='auto', random_state=None,\n",
       "    selection='cyclic', tol=0.0001, verbose=False)"
      ]
     },
     "execution_count": 55,
     "metadata": {},
     "output_type": "execute_result"
    }
   ],
   "source": [
    "gslass.best_estimator_.fit(x_train, y_train)"
   ]
  },
  {
   "cell_type": "code",
   "execution_count": 56,
   "metadata": {},
   "outputs": [
    {
     "name": "stdout",
     "output_type": "stream",
     "text": [
      "0.417072658819\n",
      "0.434771115973\n"
     ]
    }
   ],
   "source": [
    "print gslass.best_estimator_.score(x_train, y_train)\n",
    "print gslass.best_estimator_.score(x_test, y_test)"
   ]
  },
  {
   "cell_type": "code",
   "execution_count": 66,
   "metadata": {},
   "outputs": [
    {
     "data": {
      "text/plain": [
       "[('FG%', 2.9604524323153401),\n",
       " ('ORBSR', 0.30047400241855249),\n",
       " ('TopSchool', 0.18817489170741813),\n",
       " ('SPGSR', 0.16343446577522275),\n",
       " ('PPG', 0.1023203039103492),\n",
       " ('FTMSR', 0.10035175476169175),\n",
       " ('BPG', 0.018841254992986604),\n",
       " ('Weight at Draft', 0.001611297959990148),\n",
       " ('Games Played 4', -7.664293994681823e-08),\n",
       " ('Height Inches C', -5.7089337294642379e-07),\n",
       " ('Age at Draft SR', -0.0022242871642078922),\n",
       " ('3PMSR', -0.048829239053904863),\n",
       " ('3P%', -0.11212073383301155),\n",
       " ('PF', -0.15639979649633026),\n",
       " ('TOVSR', -0.21815536331714119),\n",
       " ('FGM', -0.2508324074008077),\n",
       " ('FT%C', -0.37385162965759883)]"
      ]
     },
     "execution_count": 66,
     "metadata": {},
     "output_type": "execute_result"
    }
   ],
   "source": [
    "zipped2 = zip(dfkbest.columns,gslass.best_estimator_.coef_)\n",
    "zipped2.sort(key = lambda t: t[1], reverse = True)\n",
    "zipped2"
   ]
  },
  {
   "cell_type": "code",
   "execution_count": 63,
   "metadata": {},
   "outputs": [
    {
     "data": {
      "text/plain": [
       "['Offense_LS.pkl']"
      ]
     },
     "execution_count": 63,
     "metadata": {},
     "output_type": "execute_result"
    }
   ],
   "source": [
    "joblib.dump(gslass.best_estimator_, 'Offense_LS.pkl')"
   ]
  },
  {
   "cell_type": "markdown",
   "metadata": {
    "collapsed": true
   },
   "source": [
    "Below is just scrap work, please ignore\n",
    "=="
   ]
  },
  {
   "cell_type": "code",
   "execution_count": 33,
   "metadata": {},
   "outputs": [
    {
     "data": {
      "text/plain": [
       "{1: (0.24183352636236533, 0.13595512587192038),\n",
       " 2: (0.17125171153235108, 0.33127667264861116),\n",
       " 3: (0.20613822107577517, 0.35974308084972184),\n",
       " 4: (0.39684345673575205, 0.12306997490981596),\n",
       " 5: (0.27537466045943348, 0.44972355223539606),\n",
       " 6: (0.31408703315515685, 0.34870896888124692),\n",
       " 7: (0.36683591154017581, 0.20304776682649661),\n",
       " 8: (0.3206397265508677, 0.32081153679780072),\n",
       " 9: (0.42964101677308969, 0.064060605057317588),\n",
       " 10: (0.34705929702207095, 0.29505144452089549),\n",
       " 11: (0.41636151543066968, 0.15800901034386994),\n",
       " 12: (0.3595536246638128, 0.25584040793330298),\n",
       " 13: (0.43686552761841546, 0.14237813058675819),\n",
       " 14: (0.43354249075968715, -0.045470257714625983),\n",
       " 15: (0.44517470553987565, 0.30296819268831621),\n",
       " 16: (0.45745233834732446, 0.27681217672915603),\n",
       " 17: (0.4161734810608318, 0.43248915542898292),\n",
       " 18: (0.45141646267084196, 0.37625774630092335),\n",
       " 'all': (0.48536290756508793, 0.23542822052074108)}"
      ]
     },
     "execution_count": 33,
     "metadata": {},
     "output_type": "execute_result"
    }
   ],
   "source": [
    "lr = LinearRegression()\n",
    "score_dict = {}\n",
    "for rng in range(1,19):\n",
    "    dfkbest, scores = skb(x,y,rng)\n",
    "    x_train, x_test, y_train, y_test = train_test_split(dfkbest, y,\n",
    "                                                   test_size=0.30)\n",
    "    modellr = lr.fit(x_train, y_train)\n",
    "    score_dict[rng] = (modellr.score(x_train, y_train),modellr.score(x_test, y_test))\n",
    "dfkbest, scores = skb(x,y,'all')\n",
    "x_train, x_test, y_train, y_test = train_test_split(dfkbest, y,\n",
    "                                                   test_size=0.35)\n",
    "modellr = lr.fit(x_train, y_train)\n",
    "score_dict['all'] = (modellr.score(x_train, y_train),modellr.score(x_test, y_test))\n",
    "score_dict\n",
    "#test out scores on how many features used"
   ]
  }
 ],
 "metadata": {
  "kernelspec": {
   "display_name": "Python 2",
   "language": "python",
   "name": "python2"
  },
  "language_info": {
   "codemirror_mode": {
    "name": "ipython",
    "version": 2
   },
   "file_extension": ".py",
   "mimetype": "text/x-python",
   "name": "python",
   "nbconvert_exporter": "python",
   "pygments_lexer": "ipython2",
   "version": "2.7.13"
  }
 },
 "nbformat": 4,
 "nbformat_minor": 2
}
