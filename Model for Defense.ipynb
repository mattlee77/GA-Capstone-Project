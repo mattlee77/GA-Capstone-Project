{
 "cells": [
  {
   "cell_type": "code",
   "execution_count": 165,
   "metadata": {
    "collapsed": true
   },
   "outputs": [],
   "source": [
    "import pandas as pd\n",
    "import numpy as np\n",
    "import matplotlib.pyplot as plt\n",
    "import seaborn as sns\n",
    "from sklearn.model_selection import train_test_split, GridSearchCV, cross_val_score\n",
    "from sklearn.feature_selection import SelectKBest, RFE, f_regression, mutual_info_regression\n",
    "from sklearn.linear_model import LinearRegression, LassoCV, RidgeCV\n",
    "from sklearn.neighbors import KNeighborsRegressor\n",
    "from sklearn.tree import DecisionTreeRegressor\n",
    "from sklearn.ensemble import RandomForestRegressor, AdaBoostRegressor, BaggingRegressor, ExtraTreesRegressor, GradientBoostingRegressor\n",
    "from xgboost import XGBRegressor\n",
    "from sklearn import metrics\n",
    "from sklearn.externals import joblib\n",
    "%matplotlib inline"
   ]
  },
  {
   "cell_type": "code",
   "execution_count": 2,
   "metadata": {},
   "outputs": [
    {
     "data": {
      "text/html": [
       "<div>\n",
       "<table border=\"1\" class=\"dataframe\">\n",
       "  <thead>\n",
       "    <tr style=\"text-align: right;\">\n",
       "      <th></th>\n",
       "      <th>Name</th>\n",
       "      <th>Team</th>\n",
       "      <th>PPG</th>\n",
       "      <th>Games Played</th>\n",
       "      <th>MPG</th>\n",
       "      <th>FGM</th>\n",
       "      <th>FGA</th>\n",
       "      <th>FG%</th>\n",
       "      <th>FTM</th>\n",
       "      <th>FTA</th>\n",
       "      <th>FT%</th>\n",
       "      <th>3PM</th>\n",
       "      <th>3PA</th>\n",
       "      <th>3P%</th>\n",
       "      <th>ORB</th>\n",
       "      <th>DRB</th>\n",
       "      <th>RPG</th>\n",
       "      <th>APG</th>\n",
       "      <th>SPG</th>\n",
       "      <th>BPG</th>\n",
       "      <th>TOV</th>\n",
       "      <th>PF</th>\n",
       "      <th>Year</th>\n",
       "      <th>NBATeam</th>\n",
       "      <th>CollegeName</th>\n",
       "      <th>...</th>\n",
       "      <th>PERVORP</th>\n",
       "      <th>TotalWV</th>\n",
       "      <th>MPG3</th>\n",
       "      <th>FTMSR</th>\n",
       "      <th>3PMSR</th>\n",
       "      <th>ORBSR</th>\n",
       "      <th>DRBL</th>\n",
       "      <th>APGCR</th>\n",
       "      <th>SPGSR</th>\n",
       "      <th>TOVSR</th>\n",
       "      <th>Age at Draft SR</th>\n",
       "      <th>Height Inches C</th>\n",
       "      <th>TotalWSSR</th>\n",
       "      <th>TotalPCAWSSR</th>\n",
       "      <th>TotalPERWSSR</th>\n",
       "      <th>TotalWSBPMSR</th>\n",
       "      <th>TotalWSBPMVCR</th>\n",
       "      <th>PERVORPCR</th>\n",
       "      <th>Games Played 4</th>\n",
       "      <th>TotalOff</th>\n",
       "      <th>FTASR</th>\n",
       "      <th>FT%C</th>\n",
       "      <th>3PASR</th>\n",
       "      <th>3P%R</th>\n",
       "      <th>RPGSR</th>\n",
       "    </tr>\n",
       "  </thead>\n",
       "  <tbody>\n",
       "    <tr>\n",
       "      <th>0</th>\n",
       "      <td>A.J. Price</td>\n",
       "      <td>UConn</td>\n",
       "      <td>12.466667</td>\n",
       "      <td>33.000000</td>\n",
       "      <td>29.30</td>\n",
       "      <td>4.166667</td>\n",
       "      <td>10.10</td>\n",
       "      <td>0.410667</td>\n",
       "      <td>2.633333</td>\n",
       "      <td>3.600000</td>\n",
       "      <td>0.719000</td>\n",
       "      <td>1.50</td>\n",
       "      <td>4.166667</td>\n",
       "      <td>0.348</td>\n",
       "      <td>0.800</td>\n",
       "      <td>2.433333</td>\n",
       "      <td>3.233333</td>\n",
       "      <td>4.566667</td>\n",
       "      <td>1.066667</td>\n",
       "      <td>0.066667</td>\n",
       "      <td>2.300000</td>\n",
       "      <td>1.300000</td>\n",
       "      <td>2009.0</td>\n",
       "      <td>IND</td>\n",
       "      <td>University of Connecticut</td>\n",
       "      <td>...</td>\n",
       "      <td>0.532868</td>\n",
       "      <td>0.739942</td>\n",
       "      <td>25153.757000</td>\n",
       "      <td>1.622755</td>\n",
       "      <td>1.224745</td>\n",
       "      <td>0.894427</td>\n",
       "      <td>0.889262</td>\n",
       "      <td>1.659077</td>\n",
       "      <td>1.032796</td>\n",
       "      <td>1.516575</td>\n",
       "      <td>506.25</td>\n",
       "      <td>405224.0</td>\n",
       "      <td>1.074640</td>\n",
       "      <td>NaN</td>\n",
       "      <td>0.692077</td>\n",
       "      <td>0.788659</td>\n",
       "      <td>0.912516</td>\n",
       "      <td>0.810724</td>\n",
       "      <td>1.185921e+06</td>\n",
       "      <td>1.731432</td>\n",
       "      <td>1.897367</td>\n",
       "      <td>0.371695</td>\n",
       "      <td>2.041241</td>\n",
       "      <td>1.000053</td>\n",
       "      <td>1.798147</td>\n",
       "    </tr>\n",
       "    <tr>\n",
       "      <th>1</th>\n",
       "      <td>Aaron Gray</td>\n",
       "      <td>PITT</td>\n",
       "      <td>8.750000</td>\n",
       "      <td>28.250000</td>\n",
       "      <td>18.40</td>\n",
       "      <td>3.425000</td>\n",
       "      <td>6.25</td>\n",
       "      <td>0.554250</td>\n",
       "      <td>1.900000</td>\n",
       "      <td>3.175000</td>\n",
       "      <td>0.590500</td>\n",
       "      <td>0.00</td>\n",
       "      <td>0.000000</td>\n",
       "      <td>0.000</td>\n",
       "      <td>2.275</td>\n",
       "      <td>3.975000</td>\n",
       "      <td>6.275000</td>\n",
       "      <td>1.175000</td>\n",
       "      <td>0.300000</td>\n",
       "      <td>1.025000</td>\n",
       "      <td>1.350000</td>\n",
       "      <td>1.975000</td>\n",
       "      <td>2007.0</td>\n",
       "      <td>CHI</td>\n",
       "      <td>University of Pittsburgh</td>\n",
       "      <td>...</td>\n",
       "      <td>0.592658</td>\n",
       "      <td>0.758726</td>\n",
       "      <td>6229.504000</td>\n",
       "      <td>1.378405</td>\n",
       "      <td>0.000000</td>\n",
       "      <td>1.508310</td>\n",
       "      <td>1.380025</td>\n",
       "      <td>1.055227</td>\n",
       "      <td>0.547723</td>\n",
       "      <td>1.161895</td>\n",
       "      <td>497.29</td>\n",
       "      <td>614125.0</td>\n",
       "      <td>1.141701</td>\n",
       "      <td>NaN</td>\n",
       "      <td>0.736290</td>\n",
       "      <td>0.843103</td>\n",
       "      <td>0.951634</td>\n",
       "      <td>0.839978</td>\n",
       "      <td>6.369038e+05</td>\n",
       "      <td>2.684290</td>\n",
       "      <td>1.781853</td>\n",
       "      <td>0.205902</td>\n",
       "      <td>0.000000</td>\n",
       "      <td>inf</td>\n",
       "      <td>2.504995</td>\n",
       "    </tr>\n",
       "    <tr>\n",
       "      <th>2</th>\n",
       "      <td>Al Horford</td>\n",
       "      <td>UF</td>\n",
       "      <td>9.866667</td>\n",
       "      <td>36.333333</td>\n",
       "      <td>25.50</td>\n",
       "      <td>3.766667</td>\n",
       "      <td>6.40</td>\n",
       "      <td>0.565333</td>\n",
       "      <td>2.433333</td>\n",
       "      <td>3.966667</td>\n",
       "      <td>0.612333</td>\n",
       "      <td>0.00</td>\n",
       "      <td>0.066667</td>\n",
       "      <td>0.000</td>\n",
       "      <td>2.300</td>\n",
       "      <td>5.500000</td>\n",
       "      <td>7.766667</td>\n",
       "      <td>1.633333</td>\n",
       "      <td>0.833333</td>\n",
       "      <td>1.700000</td>\n",
       "      <td>1.533333</td>\n",
       "      <td>2.433333</td>\n",
       "      <td>2007.0</td>\n",
       "      <td>ATL</td>\n",
       "      <td>University of Florida</td>\n",
       "      <td>...</td>\n",
       "      <td>1.070043</td>\n",
       "      <td>0.989856</td>\n",
       "      <td>16581.375000</td>\n",
       "      <td>1.559915</td>\n",
       "      <td>0.000000</td>\n",
       "      <td>1.516575</td>\n",
       "      <td>1.704748</td>\n",
       "      <td>1.177674</td>\n",
       "      <td>0.912871</td>\n",
       "      <td>1.238278</td>\n",
       "      <td>432.64</td>\n",
       "      <td>551368.0</td>\n",
       "      <td>1.544184</td>\n",
       "      <td>0.641559</td>\n",
       "      <td>1.092341</td>\n",
       "      <td>1.146499</td>\n",
       "      <td>1.200006</td>\n",
       "      <td>1.022823</td>\n",
       "      <td>1.742693e+06</td>\n",
       "      <td>2.954779</td>\n",
       "      <td>1.991649</td>\n",
       "      <td>0.229596</td>\n",
       "      <td>0.258199</td>\n",
       "      <td>inf</td>\n",
       "      <td>2.786874</td>\n",
       "    </tr>\n",
       "    <tr>\n",
       "      <th>3</th>\n",
       "      <td>Al-Farouq Aminu</td>\n",
       "      <td>WF</td>\n",
       "      <td>13.300000</td>\n",
       "      <td>31.000000</td>\n",
       "      <td>30.15</td>\n",
       "      <td>4.650000</td>\n",
       "      <td>9.80</td>\n",
       "      <td>0.481500</td>\n",
       "      <td>3.600000</td>\n",
       "      <td>5.200000</td>\n",
       "      <td>0.684500</td>\n",
       "      <td>0.40</td>\n",
       "      <td>1.550000</td>\n",
       "      <td>0.226</td>\n",
       "      <td>3.050</td>\n",
       "      <td>5.650000</td>\n",
       "      <td>8.700000</td>\n",
       "      <td>1.300000</td>\n",
       "      <td>1.150000</td>\n",
       "      <td>1.250000</td>\n",
       "      <td>2.650000</td>\n",
       "      <td>2.550000</td>\n",
       "      <td>2010.0</td>\n",
       "      <td>LAC</td>\n",
       "      <td>Wake Forest University</td>\n",
       "      <td>...</td>\n",
       "      <td>0.641763</td>\n",
       "      <td>0.837860</td>\n",
       "      <td>27407.028375</td>\n",
       "      <td>1.897367</td>\n",
       "      <td>0.632456</td>\n",
       "      <td>1.746425</td>\n",
       "      <td>1.731656</td>\n",
       "      <td>1.091393</td>\n",
       "      <td>1.072381</td>\n",
       "      <td>1.627882</td>\n",
       "      <td>380.25</td>\n",
       "      <td>512000.0</td>\n",
       "      <td>1.218966</td>\n",
       "      <td>NaN</td>\n",
       "      <td>0.782726</td>\n",
       "      <td>0.918758</td>\n",
       "      <td>1.021253</td>\n",
       "      <td>0.862564</td>\n",
       "      <td>9.235210e+05</td>\n",
       "      <td>2.034810</td>\n",
       "      <td>2.280351</td>\n",
       "      <td>0.320716</td>\n",
       "      <td>1.244990</td>\n",
       "      <td>1.000074</td>\n",
       "      <td>2.949576</td>\n",
       "    </tr>\n",
       "    <tr>\n",
       "      <th>4</th>\n",
       "      <td>Alec Burks</td>\n",
       "      <td>UCOL</td>\n",
       "      <td>18.450000</td>\n",
       "      <td>34.000000</td>\n",
       "      <td>30.80</td>\n",
       "      <td>6.100000</td>\n",
       "      <td>12.20</td>\n",
       "      <td>0.503000</td>\n",
       "      <td>5.650000</td>\n",
       "      <td>7.100000</td>\n",
       "      <td>0.798500</td>\n",
       "      <td>0.65</td>\n",
       "      <td>2.150000</td>\n",
       "      <td>0.322</td>\n",
       "      <td>2.100</td>\n",
       "      <td>3.500000</td>\n",
       "      <td>5.650000</td>\n",
       "      <td>2.300000</td>\n",
       "      <td>1.150000</td>\n",
       "      <td>0.350000</td>\n",
       "      <td>2.200000</td>\n",
       "      <td>2.350000</td>\n",
       "      <td>2011.0</td>\n",
       "      <td>UTA</td>\n",
       "      <td>University of Colorado</td>\n",
       "      <td>...</td>\n",
       "      <td>0.626673</td>\n",
       "      <td>0.786119</td>\n",
       "      <td>29218.112000</td>\n",
       "      <td>2.376973</td>\n",
       "      <td>0.806226</td>\n",
       "      <td>1.449138</td>\n",
       "      <td>1.252763</td>\n",
       "      <td>1.320006</td>\n",
       "      <td>1.072381</td>\n",
       "      <td>1.483240</td>\n",
       "      <td>388.09</td>\n",
       "      <td>474552.0</td>\n",
       "      <td>1.163819</td>\n",
       "      <td>NaN</td>\n",
       "      <td>0.793285</td>\n",
       "      <td>0.853113</td>\n",
       "      <td>0.957048</td>\n",
       "      <td>0.855750</td>\n",
       "      <td>1.336336e+06</td>\n",
       "      <td>2.392888</td>\n",
       "      <td>2.664583</td>\n",
       "      <td>0.509125</td>\n",
       "      <td>1.466288</td>\n",
       "      <td>1.000057</td>\n",
       "      <td>2.376973</td>\n",
       "    </tr>\n",
       "  </tbody>\n",
       "</table>\n",
       "<p>5 rows × 69 columns</p>\n",
       "</div>"
      ],
      "text/plain": [
       "              Name   Team        PPG  Games Played    MPG       FGM    FGA  \\\n",
       "0       A.J. Price  UConn  12.466667     33.000000  29.30  4.166667  10.10   \n",
       "1       Aaron Gray   PITT   8.750000     28.250000  18.40  3.425000   6.25   \n",
       "2       Al Horford     UF   9.866667     36.333333  25.50  3.766667   6.40   \n",
       "3  Al-Farouq Aminu     WF  13.300000     31.000000  30.15  4.650000   9.80   \n",
       "4       Alec Burks   UCOL  18.450000     34.000000  30.80  6.100000  12.20   \n",
       "\n",
       "        FG%       FTM       FTA       FT%   3PM       3PA    3P%    ORB  \\\n",
       "0  0.410667  2.633333  3.600000  0.719000  1.50  4.166667  0.348  0.800   \n",
       "1  0.554250  1.900000  3.175000  0.590500  0.00  0.000000  0.000  2.275   \n",
       "2  0.565333  2.433333  3.966667  0.612333  0.00  0.066667  0.000  2.300   \n",
       "3  0.481500  3.600000  5.200000  0.684500  0.40  1.550000  0.226  3.050   \n",
       "4  0.503000  5.650000  7.100000  0.798500  0.65  2.150000  0.322  2.100   \n",
       "\n",
       "        DRB       RPG       APG       SPG       BPG       TOV        PF  \\\n",
       "0  2.433333  3.233333  4.566667  1.066667  0.066667  2.300000  1.300000   \n",
       "1  3.975000  6.275000  1.175000  0.300000  1.025000  1.350000  1.975000   \n",
       "2  5.500000  7.766667  1.633333  0.833333  1.700000  1.533333  2.433333   \n",
       "3  5.650000  8.700000  1.300000  1.150000  1.250000  2.650000  2.550000   \n",
       "4  3.500000  5.650000  2.300000  1.150000  0.350000  2.200000  2.350000   \n",
       "\n",
       "     Year NBATeam                CollegeName    ...      PERVORP   TotalWV  \\\n",
       "0  2009.0     IND  University of Connecticut    ...     0.532868  0.739942   \n",
       "1  2007.0     CHI   University of Pittsburgh    ...     0.592658  0.758726   \n",
       "2  2007.0     ATL      University of Florida    ...     1.070043  0.989856   \n",
       "3  2010.0     LAC     Wake Forest University    ...     0.641763  0.837860   \n",
       "4  2011.0     UTA     University of Colorado    ...     0.626673  0.786119   \n",
       "\n",
       "           MPG3     FTMSR     3PMSR     ORBSR      DRBL     APGCR     SPGSR  \\\n",
       "0  25153.757000  1.622755  1.224745  0.894427  0.889262  1.659077  1.032796   \n",
       "1   6229.504000  1.378405  0.000000  1.508310  1.380025  1.055227  0.547723   \n",
       "2  16581.375000  1.559915  0.000000  1.516575  1.704748  1.177674  0.912871   \n",
       "3  27407.028375  1.897367  0.632456  1.746425  1.731656  1.091393  1.072381   \n",
       "4  29218.112000  2.376973  0.806226  1.449138  1.252763  1.320006  1.072381   \n",
       "\n",
       "      TOVSR  Age at Draft SR  Height Inches C  TotalWSSR  TotalPCAWSSR  \\\n",
       "0  1.516575           506.25         405224.0   1.074640           NaN   \n",
       "1  1.161895           497.29         614125.0   1.141701           NaN   \n",
       "2  1.238278           432.64         551368.0   1.544184      0.641559   \n",
       "3  1.627882           380.25         512000.0   1.218966           NaN   \n",
       "4  1.483240           388.09         474552.0   1.163819           NaN   \n",
       "\n",
       "   TotalPERWSSR  TotalWSBPMSR  TotalWSBPMVCR  PERVORPCR  Games Played 4  \\\n",
       "0      0.692077      0.788659       0.912516   0.810724    1.185921e+06   \n",
       "1      0.736290      0.843103       0.951634   0.839978    6.369038e+05   \n",
       "2      1.092341      1.146499       1.200006   1.022823    1.742693e+06   \n",
       "3      0.782726      0.918758       1.021253   0.862564    9.235210e+05   \n",
       "4      0.793285      0.853113       0.957048   0.855750    1.336336e+06   \n",
       "\n",
       "   TotalOff     FTASR      FT%C     3PASR      3P%R     RPGSR  \n",
       "0  1.731432  1.897367  0.371695  2.041241  1.000053  1.798147  \n",
       "1  2.684290  1.781853  0.205902  0.000000       inf  2.504995  \n",
       "2  2.954779  1.991649  0.229596  0.258199       inf  2.786874  \n",
       "3  2.034810  2.280351  0.320716  1.244990  1.000074  2.949576  \n",
       "4  2.392888  2.664583  0.509125  1.466288  1.000057  2.376973  \n",
       "\n",
       "[5 rows x 69 columns]"
      ]
     },
     "execution_count": 2,
     "metadata": {},
     "output_type": "execute_result"
    }
   ],
   "source": [
    "pd.set_option('display.max_columns',50)\n",
    "pd.set_option('display.max_rows',10000)\n",
    "df = pd.read_csv('/Users/mattlee/GA-Capstone-Project/FEdf1.csv')\n",
    "df.head()"
   ]
  },
  {
   "cell_type": "markdown",
   "metadata": {},
   "source": [
    "**Feature Selection**"
   ]
  },
  {
   "cell_type": "code",
   "execution_count": 3,
   "metadata": {
    "collapsed": true
   },
   "outputs": [],
   "source": [
    "def skb(x,y,features):\n",
    "    kbest = SelectKBest(score_func= mutual_info_regression,k = features)\n",
    "    kbest_columns = kbest.fit_transform(x,y)\n",
    "    mask = kbest.get_support() #list of booleans\n",
    "    new_features = [] # The list of your K best features\n",
    "    for bool, feature in zip(mask, x.columns):\n",
    "        if bool:\n",
    "            new_features.append(feature)\n",
    "    dfkbest = pd.DataFrame(kbest_columns, columns = new_features)\n",
    "    scores = zip(x.columns,list(kbest.scores_))\n",
    "    return dfkbest, scores\n",
    "#made a function that can manually iterate number of desired KBest features"
   ]
  },
  {
   "cell_type": "code",
   "execution_count": 4,
   "metadata": {},
   "outputs": [
    {
     "data": {
      "text/plain": [
       "Index([u'Name', u'Team', u'PPG', u'Games Played', u'MPG', u'FGM', u'FGA',\n",
       "       u'FG%', u'FTM', u'FTA', u'FT%', u'3PM', u'3PA', u'3P%', u'ORB', u'DRB',\n",
       "       u'RPG', u'APG', u'SPG', u'BPG', u'TOV', u'PF', u'Year', u'NBATeam',\n",
       "       u'CollegeName', u'Age at Draft', u'Weight at Draft', u'Height Inches',\n",
       "       u'PER', u'WS', u'WS/48', u'BPM', u'VORP', u'TopSchool', u'Total',\n",
       "       u'TotalWS', u'TotalWS48', u'TotalPCAWS', u'TotalPCAWS48', u'TotalDef',\n",
       "       u'TotalPERWS', u'TotalPERWSBPM', u'TotalWSBPM', u'TotalWSBPMV',\n",
       "       u'PERVORP', u'TotalWV', u'MPG3', u'FTMSR', u'3PMSR', u'ORBSR', u'DRBL',\n",
       "       u'APGCR', u'SPGSR', u'TOVSR', u'Age at Draft SR', u'Height Inches C',\n",
       "       u'TotalWSSR', u'TotalPCAWSSR', u'TotalPERWSSR', u'TotalWSBPMSR',\n",
       "       u'TotalWSBPMVCR', u'PERVORPCR', u'Games Played 4', u'TotalOff',\n",
       "       u'FTASR', u'FT%C', u'3PASR', u'3P%R', u'RPGSR'],\n",
       "      dtype='object')"
      ]
     },
     "execution_count": 4,
     "metadata": {},
     "output_type": "execute_result"
    }
   ],
   "source": [
    "df.columns"
   ]
  },
  {
   "cell_type": "code",
   "execution_count": 112,
   "metadata": {
    "collapsed": true
   },
   "outputs": [],
   "source": [
    "x = df[['PPG','Games Played 4','MPG3','FGM','FG%','FTMSR','FT%C','3PMSR','DRBL','APGCR','SPGSR','TOVSR','BPG',\n",
    "       'PF','Age at Draft SR','Weight at Draft','Height Inches C','TopSchool']]\n",
    "y = df['TotalDef']"
   ]
  },
  {
   "cell_type": "code",
   "execution_count": 116,
   "metadata": {
    "collapsed": true
   },
   "outputs": [],
   "source": [
    "dfkbest, scores = skb(x,y,15)"
   ]
  },
  {
   "cell_type": "code",
   "execution_count": 117,
   "metadata": {},
   "outputs": [
    {
     "data": {
      "text/plain": [
       "[('PPG', 0.0),\n",
       " ('Games Played 4', 0.0),\n",
       " ('MPG3', 0.03217565636833708),\n",
       " ('FGM', 0.0),\n",
       " ('FG%', 0.19827705173200005),\n",
       " ('FTMSR', 0.0),\n",
       " ('FT%C', 0.14235284751923727),\n",
       " ('3PMSR', 0.2337520065789338),\n",
       " ('DRBL', 0.29812141790768543),\n",
       " ('APGCR', 0.097881264170796012),\n",
       " ('SPGSR', 0.054790707306582753),\n",
       " ('TOVSR', 0.06394795012891219),\n",
       " ('BPG', 0.26665758003370588),\n",
       " ('PF', 0.055971629271762247),\n",
       " ('Age at Draft SR', 0.12002733277186373),\n",
       " ('Weight at Draft', 0.26341840075514744),\n",
       " ('Height Inches C', 0.231276787797698),\n",
       " ('TopSchool', 0.0048543515654964065)]"
      ]
     },
     "execution_count": 117,
     "metadata": {},
     "output_type": "execute_result"
    }
   ],
   "source": [
    "scores"
   ]
  },
  {
   "cell_type": "code",
   "execution_count": 118,
   "metadata": {},
   "outputs": [
    {
     "data": {
      "text/plain": [
       "Index([u'MPG3', u'FG%', u'FTMSR', u'FT%C', u'3PMSR', u'DRBL', u'APGCR',\n",
       "       u'SPGSR', u'TOVSR', u'BPG', u'PF', u'Age at Draft SR',\n",
       "       u'Weight at Draft', u'Height Inches C', u'TopSchool'],\n",
       "      dtype='object')"
      ]
     },
     "execution_count": 118,
     "metadata": {},
     "output_type": "execute_result"
    }
   ],
   "source": [
    "dfkbest.columns"
   ]
  },
  {
   "cell_type": "code",
   "execution_count": 119,
   "metadata": {
    "collapsed": true
   },
   "outputs": [],
   "source": [
    "x = dfkbest"
   ]
  },
  {
   "cell_type": "code",
   "execution_count": 146,
   "metadata": {
    "collapsed": true
   },
   "outputs": [],
   "source": [
    "x_train, x_test, y_train, y_test = train_test_split(x,y,test_size = 0.35)"
   ]
  },
  {
   "cell_type": "code",
   "execution_count": 147,
   "metadata": {
    "collapsed": true
   },
   "outputs": [],
   "source": [
    "ln = LinearRegression()"
   ]
  },
  {
   "cell_type": "code",
   "execution_count": 148,
   "metadata": {
    "collapsed": true
   },
   "outputs": [],
   "source": [
    "gsln = GridSearchCV(ln, param_grid={})"
   ]
  },
  {
   "cell_type": "code",
   "execution_count": 149,
   "metadata": {},
   "outputs": [
    {
     "data": {
      "text/plain": [
       "GridSearchCV(cv=None, error_score='raise',\n",
       "       estimator=LinearRegression(copy_X=True, fit_intercept=True, n_jobs=1, normalize=False),\n",
       "       fit_params={}, iid=True, n_jobs=1, param_grid={},\n",
       "       pre_dispatch='2*n_jobs', refit=True, return_train_score=True,\n",
       "       scoring=None, verbose=0)"
      ]
     },
     "execution_count": 149,
     "metadata": {},
     "output_type": "execute_result"
    }
   ],
   "source": [
    "gsln.fit(x_train,y_train)"
   ]
  },
  {
   "cell_type": "code",
   "execution_count": 150,
   "metadata": {},
   "outputs": [
    {
     "data": {
      "text/plain": [
       "LinearRegression(copy_X=True, fit_intercept=True, n_jobs=1, normalize=False)"
      ]
     },
     "execution_count": 150,
     "metadata": {},
     "output_type": "execute_result"
    }
   ],
   "source": [
    "gsln.best_estimator_.fit(x_train, y_train)"
   ]
  },
  {
   "cell_type": "code",
   "execution_count": 151,
   "metadata": {},
   "outputs": [
    {
     "data": {
      "text/plain": [
       "0.67742963458372463"
      ]
     },
     "execution_count": 151,
     "metadata": {},
     "output_type": "execute_result"
    }
   ],
   "source": [
    "gsln.best_estimator_.score(x_train,y_train)"
   ]
  },
  {
   "cell_type": "code",
   "execution_count": 152,
   "metadata": {
    "scrolled": true
   },
   "outputs": [
    {
     "data": {
      "text/plain": [
       "0.73386864853929179"
      ]
     },
     "execution_count": 152,
     "metadata": {},
     "output_type": "execute_result"
    }
   ],
   "source": [
    "gsln.best_estimator_.score(x_test, y_test)"
   ]
  },
  {
   "cell_type": "code",
   "execution_count": 176,
   "metadata": {},
   "outputs": [
    {
     "data": {
      "text/plain": [
       "[('FG%', 1.0417905820515403),\n",
       " ('SPGSR', 0.49711166640011462),\n",
       " ('DRBL', 0.39227341055140463),\n",
       " ('APGCR', 0.31834309449880732),\n",
       " ('TopSchool', 0.1251764152631557),\n",
       " ('BPG', 0.031979150820973357),\n",
       " ('PF', 0.030647733190519916),\n",
       " ('Weight at Draft', 0.00085393325513349883),\n",
       " ('Height Inches C', 1.3222066632678775e-06),\n",
       " ('MPG3', -5.4125409380894275e-06),\n",
       " ('Age at Draft SR', -0.0012670226825561848),\n",
       " ('FT%C', -0.090585140170996545),\n",
       " ('TOVSR', -0.097537428585996511),\n",
       " ('FTMSR', -0.12612124034861691),\n",
       " ('3PMSR', -0.18364403168306168)]"
      ]
     },
     "execution_count": 176,
     "metadata": {},
     "output_type": "execute_result"
    }
   ],
   "source": [
    "zipped1 = zip(dfkbest.columns,gsln.best_estimator_.coef_)\n",
    "zipped1.sort(key = lambda t: t[1], reverse = True)\n",
    "zipped1"
   ]
  },
  {
   "cell_type": "code",
   "execution_count": 166,
   "metadata": {},
   "outputs": [
    {
     "data": {
      "text/plain": [
       "['Defense_LR.pkl']"
      ]
     },
     "execution_count": 166,
     "metadata": {},
     "output_type": "execute_result"
    }
   ],
   "source": [
    "joblib.dump(gsln.best_estimator_, 'Defense_LR.pkl')"
   ]
  },
  {
   "cell_type": "code",
   "execution_count": 153,
   "metadata": {
    "collapsed": true
   },
   "outputs": [],
   "source": [
    "rg = RidgeCV(alphas = [0.001, 0.01, 0.1, 1.0, 10])"
   ]
  },
  {
   "cell_type": "code",
   "execution_count": 154,
   "metadata": {},
   "outputs": [
    {
     "data": {
      "text/plain": [
       "RidgeCV(alphas=[0.001, 0.01, 0.1, 1.0, 10], cv=None, fit_intercept=True,\n",
       "    gcv_mode=None, normalize=False, scoring=None, store_cv_values=False)"
      ]
     },
     "execution_count": 154,
     "metadata": {},
     "output_type": "execute_result"
    }
   ],
   "source": [
    "rg.fit(x_train,y_train)"
   ]
  },
  {
   "cell_type": "code",
   "execution_count": 155,
   "metadata": {},
   "outputs": [
    {
     "data": {
      "text/plain": [
       "0.67604194024924613"
      ]
     },
     "execution_count": 155,
     "metadata": {},
     "output_type": "execute_result"
    }
   ],
   "source": [
    "rg.score(x_train,y_train)"
   ]
  },
  {
   "cell_type": "code",
   "execution_count": 156,
   "metadata": {},
   "outputs": [
    {
     "data": {
      "text/plain": [
       "0.73611438637108773"
      ]
     },
     "execution_count": 156,
     "metadata": {},
     "output_type": "execute_result"
    }
   ],
   "source": [
    "rg.score(x_test,y_test)"
   ]
  },
  {
   "cell_type": "code",
   "execution_count": 175,
   "metadata": {},
   "outputs": [
    {
     "data": {
      "text/plain": [
       "[('FG%', 0.65277711044430031),\n",
       " ('SPGSR', 0.49187190186169816),\n",
       " ('DRBL', 0.3901921742293708),\n",
       " ('APGCR', 0.3045845010438597),\n",
       " ('TopSchool', 0.12711166526712603),\n",
       " ('PF', 0.035210125151737159),\n",
       " ('BPG', 0.034565280209655214),\n",
       " ('Weight at Draft', 0.00089958904813158824),\n",
       " ('Height Inches C', 1.3523967936635017e-06),\n",
       " ('MPG3', -5.3905387176200747e-06),\n",
       " ('Age at Draft SR', -0.001265223049585984),\n",
       " ('FT%C', -0.080574681843052165),\n",
       " ('TOVSR', -0.097183727878772386),\n",
       " ('FTMSR', -0.11815561944027309),\n",
       " ('3PMSR', -0.20521934974035894)]"
      ]
     },
     "execution_count": 175,
     "metadata": {},
     "output_type": "execute_result"
    }
   ],
   "source": [
    "zipped = zip(dfkbest.columns,rg.coef_)\n",
    "zipped.sort(key = lambda t: t[1], reverse = True)\n",
    "zipped"
   ]
  },
  {
   "cell_type": "code",
   "execution_count": 167,
   "metadata": {},
   "outputs": [
    {
     "data": {
      "text/plain": [
       "['Defense_Ridge.pkl']"
      ]
     },
     "execution_count": 167,
     "metadata": {},
     "output_type": "execute_result"
    }
   ],
   "source": [
    "joblib.dump(rg, 'Defense_Ridge.pkl')"
   ]
  },
  {
   "cell_type": "code",
   "execution_count": 157,
   "metadata": {
    "collapsed": true
   },
   "outputs": [],
   "source": [
    "gb = GradientBoostingRegressor()"
   ]
  },
  {
   "cell_type": "code",
   "execution_count": 158,
   "metadata": {
    "collapsed": true
   },
   "outputs": [],
   "source": [
    "params = {'learning_rate':[0.001,0.01,0.1,0.2,0.3],\n",
    "         'n_estimators':[100,500],\n",
    "         'max_depth':[1,20,25],\n",
    "         'min_samples_split':[3,4,5],\n",
    "         'min_samples_leaf':[3,4,5],\n",
    "         'max_features':['sqrt']}"
   ]
  },
  {
   "cell_type": "code",
   "execution_count": 159,
   "metadata": {
    "collapsed": true
   },
   "outputs": [],
   "source": [
    "gsgb = GridSearchCV(gb,params,n_jobs=-1)"
   ]
  },
  {
   "cell_type": "code",
   "execution_count": 160,
   "metadata": {},
   "outputs": [
    {
     "data": {
      "text/plain": [
       "GridSearchCV(cv=None, error_score='raise',\n",
       "       estimator=GradientBoostingRegressor(alpha=0.9, criterion='friedman_mse', init=None,\n",
       "             learning_rate=0.1, loss='ls', max_depth=3, max_features=None,\n",
       "             max_leaf_nodes=None, min_impurity_split=1e-07,\n",
       "             min_samples_leaf=1, min_samples_split=2,\n",
       "             min_weight_fraction_leaf=0.0, n_estimators=100,\n",
       "             presort='auto', random_state=None, subsample=1.0, verbose=0,\n",
       "             warm_start=False),\n",
       "       fit_params={}, iid=True, n_jobs=-1,\n",
       "       param_grid={'learning_rate': [0.001, 0.01, 0.1, 0.2, 0.3], 'min_samples_leaf': [3, 4, 5], 'n_estimators': [100, 500], 'max_features': ['sqrt'], 'min_samples_split': [3, 4, 5], 'max_depth': [1, 20, 25]},\n",
       "       pre_dispatch='2*n_jobs', refit=True, return_train_score=True,\n",
       "       scoring=None, verbose=0)"
      ]
     },
     "execution_count": 160,
     "metadata": {},
     "output_type": "execute_result"
    }
   ],
   "source": [
    "gsgb.fit(x_train,y_train)"
   ]
  },
  {
   "cell_type": "code",
   "execution_count": 161,
   "metadata": {},
   "outputs": [
    {
     "data": {
      "text/plain": [
       "GradientBoostingRegressor(alpha=0.9, criterion='friedman_mse', init=None,\n",
       "             learning_rate=0.2, loss='ls', max_depth=1,\n",
       "             max_features='sqrt', max_leaf_nodes=None,\n",
       "             min_impurity_split=1e-07, min_samples_leaf=3,\n",
       "             min_samples_split=3, min_weight_fraction_leaf=0.0,\n",
       "             n_estimators=100, presort='auto', random_state=None,\n",
       "             subsample=1.0, verbose=0, warm_start=False)"
      ]
     },
     "execution_count": 161,
     "metadata": {},
     "output_type": "execute_result"
    }
   ],
   "source": [
    "gsgb.best_estimator_.fit(x_train,y_train)"
   ]
  },
  {
   "cell_type": "code",
   "execution_count": 162,
   "metadata": {},
   "outputs": [
    {
     "data": {
      "text/plain": [
       "0.8144571929083616"
      ]
     },
     "execution_count": 162,
     "metadata": {},
     "output_type": "execute_result"
    }
   ],
   "source": [
    "gsgb.best_estimator_.score(x_train,y_train)"
   ]
  },
  {
   "cell_type": "code",
   "execution_count": 163,
   "metadata": {
    "scrolled": true
   },
   "outputs": [
    {
     "data": {
      "text/plain": [
       "0.60780483066675695"
      ]
     },
     "execution_count": 163,
     "metadata": {},
     "output_type": "execute_result"
    }
   ],
   "source": [
    "gsgb.best_estimator_.score(x_test, y_test)"
   ]
  },
  {
   "cell_type": "code",
   "execution_count": 168,
   "metadata": {},
   "outputs": [
    {
     "data": {
      "text/plain": [
       "['Defense_GBR.pkl']"
      ]
     },
     "execution_count": 168,
     "metadata": {},
     "output_type": "execute_result"
    }
   ],
   "source": [
    "joblib.dump(gsgb.best_estimator_, 'Defense_GBR.pkl')"
   ]
  },
  {
   "cell_type": "code",
   "execution_count": 164,
   "metadata": {
    "scrolled": true
   },
   "outputs": [
    {
     "data": {
      "text/plain": [
       "0.72926911741379941"
      ]
     },
     "execution_count": 164,
     "metadata": {},
     "output_type": "execute_result"
    }
   ],
   "source": [
    "lass = LassoCV(alphas = [0.001, 0.01, 0.1, 1.0, 10])\n",
    "lass.fit(x_train, y_train)\n",
    "lass.score(x_train, y_train)\n",
    "lass.score(x_test, y_test)"
   ]
  },
  {
   "cell_type": "code",
   "execution_count": 177,
   "metadata": {},
   "outputs": [
    {
     "data": {
      "text/plain": [
       "[('SPGSR', 0.49273330332440973),\n",
       " ('DRBL', 0.37923425952823564),\n",
       " ('APGCR', 0.22187565630040668),\n",
       " ('FG%', 0.17867321164066505),\n",
       " ('TopSchool', 0.12576951812557438),\n",
       " ('BPG', 0.036124062527893366),\n",
       " ('PF', 0.026555367462522111),\n",
       " ('Weight at Draft', 0.0011588346413914405),\n",
       " ('Height Inches C', 1.2557528112274954e-06),\n",
       " ('FT%C', -0.0),\n",
       " ('TOVSR', -0.0),\n",
       " ('MPG3', -5.7775437575430874e-06),\n",
       " ('Age at Draft SR', -0.0012264637422481066),\n",
       " ('FTMSR', -0.12204284791594916),\n",
       " ('3PMSR', -0.23599256825593579)]"
      ]
     },
     "execution_count": 177,
     "metadata": {},
     "output_type": "execute_result"
    }
   ],
   "source": [
    "zipped2 = zip(dfkbest.columns,lass.coef_)\n",
    "zipped2.sort(key = lambda t: t[1], reverse = True)\n",
    "zipped2"
   ]
  },
  {
   "cell_type": "code",
   "execution_count": 180,
   "metadata": {},
   "outputs": [
    {
     "data": {
      "text/html": [
       "<div>\n",
       "<table border=\"1\" class=\"dataframe\">\n",
       "  <thead>\n",
       "    <tr style=\"text-align: right;\">\n",
       "      <th></th>\n",
       "      <th>Predictions</th>\n",
       "      <th>TotalDef</th>\n",
       "    </tr>\n",
       "  </thead>\n",
       "  <tbody>\n",
       "    <tr>\n",
       "      <th>0</th>\n",
       "      <td>1.314487</td>\n",
       "      <td>1.167864</td>\n",
       "    </tr>\n",
       "    <tr>\n",
       "      <th>1</th>\n",
       "      <td>0.756653</td>\n",
       "      <td>0.900125</td>\n",
       "    </tr>\n",
       "    <tr>\n",
       "      <th>2</th>\n",
       "      <td>1.080901</td>\n",
       "      <td>1.280863</td>\n",
       "    </tr>\n",
       "    <tr>\n",
       "      <th>3</th>\n",
       "      <td>1.801870</td>\n",
       "      <td>2.397835</td>\n",
       "    </tr>\n",
       "    <tr>\n",
       "      <th>4</th>\n",
       "      <td>1.498183</td>\n",
       "      <td>1.198795</td>\n",
       "    </tr>\n",
       "  </tbody>\n",
       "</table>\n",
       "</div>"
      ],
      "text/plain": [
       "   Predictions  TotalDef\n",
       "0     1.314487  1.167864\n",
       "1     0.756653  0.900125\n",
       "2     1.080901  1.280863\n",
       "3     1.801870  2.397835\n",
       "4     1.498183  1.198795"
      ]
     },
     "execution_count": 180,
     "metadata": {},
     "output_type": "execute_result"
    }
   ],
   "source": [
    "lasspredict = (lass.predict(x_test))\n",
    "pre = pd.DataFrame(lasspredict, columns = ['Predictions'])\n",
    "forpredf = pd.DataFrame(y_test).reset_index(drop = True)\n",
    "pre1 = pre.merge(forpredf, left_index=True, right_index=True)\n",
    "pre1.head()"
   ]
  },
  {
   "cell_type": "code",
   "execution_count": 181,
   "metadata": {},
   "outputs": [
    {
     "name": "stdout",
     "output_type": "stream",
     "text": [
      "RMSE: 0.208997098269\n"
     ]
    }
   ],
   "source": [
    "print 'RMSE:', np.sqrt(metrics.mean_squared_error(y_test, lasspredict))"
   ]
  },
  {
   "cell_type": "code",
   "execution_count": 184,
   "metadata": {},
   "outputs": [
    {
     "data": {
      "text/plain": [
       "0.001"
      ]
     },
     "execution_count": 184,
     "metadata": {},
     "output_type": "execute_result"
    }
   ],
   "source": [
    "lass.alpha_"
   ]
  },
  {
   "cell_type": "code",
   "execution_count": 186,
   "metadata": {},
   "outputs": [
    {
     "data": {
      "text/plain": [
       "<seaborn.axisgrid.JointGrid at 0x115123490>"
      ]
     },
     "execution_count": 186,
     "metadata": {},
     "output_type": "execute_result"
    },
    {
     "data": {
      "image/png": "[encoded data removed]",
      "text/plain": [
       "<matplotlib.figure.Figure at 0x11a2f9810>"
      ]
     },
     "metadata": {},
     "output_type": "display_data"
    }
   ],
   "source": [
    "sns.set(rc={'axes.facecolor':'snow', 'figure.facecolor':'aliceblue','axes.grid':False})\n",
    "\n",
    "sns.jointplot(x = 'TotalDef', y = 'Predictions', data = pre1, kind = 'scatter', \n",
    "              color = 'dodgerblue', stat_func = None, size = 10)"
   ]
  },
  {
   "cell_type": "code",
   "execution_count": 183,
   "metadata": {},
   "outputs": [
    {
     "data": {
      "text/html": [
       "<div>\n",
       "<table border=\"1\" class=\"dataframe\">\n",
       "  <thead>\n",
       "    <tr style=\"text-align: right;\">\n",
       "      <th></th>\n",
       "      <th>Coefficients</th>\n",
       "    </tr>\n",
       "  </thead>\n",
       "  <tbody>\n",
       "    <tr>\n",
       "      <th>SPGSR</th>\n",
       "      <td>0.492733</td>\n",
       "    </tr>\n",
       "    <tr>\n",
       "      <th>DRBL</th>\n",
       "      <td>0.379234</td>\n",
       "    </tr>\n",
       "    <tr>\n",
       "      <th>APGCR</th>\n",
       "      <td>0.221876</td>\n",
       "    </tr>\n",
       "    <tr>\n",
       "      <th>FG%</th>\n",
       "      <td>0.178673</td>\n",
       "    </tr>\n",
       "    <tr>\n",
       "      <th>TopSchool</th>\n",
       "      <td>0.125770</td>\n",
       "    </tr>\n",
       "    <tr>\n",
       "      <th>BPG</th>\n",
       "      <td>0.036124</td>\n",
       "    </tr>\n",
       "    <tr>\n",
       "      <th>PF</th>\n",
       "      <td>0.026555</td>\n",
       "    </tr>\n",
       "    <tr>\n",
       "      <th>Weight at Draft</th>\n",
       "      <td>0.001159</td>\n",
       "    </tr>\n",
       "    <tr>\n",
       "      <th>Height Inches C</th>\n",
       "      <td>0.000001</td>\n",
       "    </tr>\n",
       "    <tr>\n",
       "      <th>FT%C</th>\n",
       "      <td>-0.000000</td>\n",
       "    </tr>\n",
       "    <tr>\n",
       "      <th>TOVSR</th>\n",
       "      <td>-0.000000</td>\n",
       "    </tr>\n",
       "    <tr>\n",
       "      <th>MPG3</th>\n",
       "      <td>-0.000006</td>\n",
       "    </tr>\n",
       "    <tr>\n",
       "      <th>Age at Draft SR</th>\n",
       "      <td>-0.001226</td>\n",
       "    </tr>\n",
       "    <tr>\n",
       "      <th>FTMSR</th>\n",
       "      <td>-0.122043</td>\n",
       "    </tr>\n",
       "    <tr>\n",
       "      <th>3PMSR</th>\n",
       "      <td>-0.235993</td>\n",
       "    </tr>\n",
       "  </tbody>\n",
       "</table>\n",
       "</div>"
      ],
      "text/plain": [
       "                 Coefficients\n",
       "SPGSR                0.492733\n",
       "DRBL                 0.379234\n",
       "APGCR                0.221876\n",
       "FG%                  0.178673\n",
       "TopSchool            0.125770\n",
       "BPG                  0.036124\n",
       "PF                   0.026555\n",
       "Weight at Draft      0.001159\n",
       "Height Inches C      0.000001\n",
       "FT%C                -0.000000\n",
       "TOVSR               -0.000000\n",
       "MPG3                -0.000006\n",
       "Age at Draft SR     -0.001226\n",
       "FTMSR               -0.122043\n",
       "3PMSR               -0.235993"
      ]
     },
     "execution_count": 183,
     "metadata": {},
     "output_type": "execute_result"
    }
   ],
   "source": [
    "coef = pd.DataFrame(lass.coef_,dfkbest.columns, columns = ['Coefficients'])\n",
    "coef.sort_values(by = 'Coefficients', ascending = False)"
   ]
  },
  {
   "cell_type": "code",
   "execution_count": 169,
   "metadata": {},
   "outputs": [
    {
     "data": {
      "text/plain": [
       "['Defense_LS.pkl']"
      ]
     },
     "execution_count": 169,
     "metadata": {},
     "output_type": "execute_result"
    }
   ],
   "source": [
    "joblib.dump(lass, 'Defense_LS.pkl')"
   ]
  },
  {
   "cell_type": "markdown",
   "metadata": {
    "collapsed": true
   },
   "source": [
    "Below is just scrap work, please ignore\n",
    "=="
   ]
  },
  {
   "cell_type": "code",
   "execution_count": 115,
   "metadata": {},
   "outputs": [
    {
     "data": {
      "text/plain": [
       "{1: (0.32658007510830345, 0.42996707670300521),\n",
       " 2: (0.41560853859881963, 0.45176568795184002),\n",
       " 3: (0.48576344547781419, 0.46206334265528443),\n",
       " 4: (0.49944401484185136, 0.59497170298003721),\n",
       " 5: (0.58743936000910923, 0.44845002077100571),\n",
       " 6: (0.50833283200501522, 0.6090444441398557),\n",
       " 7: (0.57616823232268644, 0.51735314051071113),\n",
       " 8: (0.58962103693944412, 0.55880514882196874),\n",
       " 9: (0.61368642565962706, 0.59211194911470055),\n",
       " 10: (0.58245210970277772, 0.61474753585642761),\n",
       " 11: (0.63789567627667176, 0.62249254141825583),\n",
       " 12: (0.65097982138993071, 0.65252622909797342),\n",
       " 13: (0.73579155896738402, 0.55695380169886199),\n",
       " 14: (0.69363259280894252, 0.66314194927068493),\n",
       " 15: (0.68875901199614264, 0.70887480312896334),\n",
       " 16: (0.71847240276192847, 0.63838243928340987),\n",
       " 17: (0.69684932660824228, 0.69552861035588742),\n",
       " 'all': (0.73954590674721754, 0.52426602111529053)}"
      ]
     },
     "execution_count": 115,
     "metadata": {},
     "output_type": "execute_result"
    }
   ],
   "source": [
    "lr = RidgeCV(alphas = [0.001,0.01,0.1,1.0])\n",
    "score_dict = {}\n",
    "for rng in range(1,18):\n",
    "    dfkbest, scores = skb(x,y,rng)\n",
    "    x_train, x_test, y_train, y_test = train_test_split(dfkbest, y,\n",
    "                                                   test_size=0.35)\n",
    "    modellr = lr.fit(x_train, y_train)\n",
    "    score_dict[rng] = (modellr.score(x_train, y_train),modellr.score(x_test, y_test))\n",
    "dfkbest, scores = skb(x,y,'all')\n",
    "x_train, x_test, y_train, y_test = train_test_split(dfkbest, y,\n",
    "                                                   test_size=0.35)\n",
    "modellr = lr.fit(x_train, y_train)\n",
    "score_dict['all'] = (modellr.score(x_train, y_train),modellr.score(x_test, y_test))\n",
    "score_dict\n",
    "#test out scores on how many features used"
   ]
  }
 ],
 "metadata": {
  "kernelspec": {
   "display_name": "Python 2",
   "language": "python",
   "name": "python2"
  },
  "language_info": {
   "codemirror_mode": {
    "name": "ipython",
    "version": 2
   },
   "file_extension": ".py",
   "mimetype": "text/x-python",
   "name": "python",
   "nbconvert_exporter": "python",
   "pygments_lexer": "ipython2",
   "version": "2.7.13"
  }
 },
 "nbformat": 4,
 "nbformat_minor": 2
}
