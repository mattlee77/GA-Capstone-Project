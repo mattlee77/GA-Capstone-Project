{
 "cells": [
  {
   "cell_type": "code",
   "execution_count": 411,
   "metadata": {
    "collapsed": true
   },
   "outputs": [],
   "source": [
    "import pandas as pd\n",
    "import numpy as np\n",
    "import matplotlib.pyplot as plt\n",
    "import seaborn as sns\n",
    "from sklearn.model_selection import train_test_split, GridSearchCV, cross_val_score\n",
    "from sklearn.feature_selection import SelectKBest, RFE, f_regression, mutual_info_regression\n",
    "from sklearn.linear_model import LinearRegression, LassoCV, RidgeCV\n",
    "from sklearn.neighbors import KNeighborsRegressor\n",
    "from sklearn.tree import DecisionTreeRegressor\n",
    "from sklearn.ensemble import RandomForestRegressor, AdaBoostRegressor, BaggingRegressor, ExtraTreesRegressor, GradientBoostingRegressor\n",
    "from xgboost import XGBRegressor\n",
    "from sklearn import metrics\n",
    "from sklearn.externals import joblib\n",
    "%matplotlib inline"
   ]
  },
  {
   "cell_type": "code",
   "execution_count": 2,
   "metadata": {},
   "outputs": [
    {
     "data": {
      "text/html": [
       "<div>\n",
       "<table border=\"1\" class=\"dataframe\">\n",
       "  <thead>\n",
       "    <tr style=\"text-align: right;\">\n",
       "      <th></th>\n",
       "      <th>Name</th>\n",
       "      <th>Team</th>\n",
       "      <th>PPG</th>\n",
       "      <th>Games Played</th>\n",
       "      <th>MPG</th>\n",
       "      <th>FGM</th>\n",
       "      <th>FGA</th>\n",
       "      <th>FG%</th>\n",
       "      <th>FTM</th>\n",
       "      <th>FTA</th>\n",
       "      <th>FT%</th>\n",
       "      <th>3PM</th>\n",
       "      <th>3PA</th>\n",
       "      <th>3P%</th>\n",
       "      <th>ORB</th>\n",
       "      <th>DRB</th>\n",
       "      <th>RPG</th>\n",
       "      <th>APG</th>\n",
       "      <th>SPG</th>\n",
       "      <th>BPG</th>\n",
       "      <th>TOV</th>\n",
       "      <th>PF</th>\n",
       "      <th>Year</th>\n",
       "      <th>NBATeam</th>\n",
       "      <th>CollegeName</th>\n",
       "      <th>...</th>\n",
       "      <th>PERVORP</th>\n",
       "      <th>TotalWV</th>\n",
       "      <th>MPG3</th>\n",
       "      <th>FTMSR</th>\n",
       "      <th>3PMSR</th>\n",
       "      <th>ORBSR</th>\n",
       "      <th>DRBL</th>\n",
       "      <th>APGCR</th>\n",
       "      <th>SPGSR</th>\n",
       "      <th>TOVSR</th>\n",
       "      <th>Age at Draft SR</th>\n",
       "      <th>Height Inches C</th>\n",
       "      <th>TotalWSSR</th>\n",
       "      <th>TotalPCAWSSR</th>\n",
       "      <th>TotalPERWSSR</th>\n",
       "      <th>TotalWSBPMSR</th>\n",
       "      <th>TotalWSBPMVCR</th>\n",
       "      <th>PERVORPCR</th>\n",
       "      <th>Games Played 4</th>\n",
       "      <th>TotalOff</th>\n",
       "      <th>FTASR</th>\n",
       "      <th>FT%C</th>\n",
       "      <th>3PASR</th>\n",
       "      <th>3P%R</th>\n",
       "      <th>RPGSR</th>\n",
       "    </tr>\n",
       "  </thead>\n",
       "  <tbody>\n",
       "    <tr>\n",
       "      <th>0</th>\n",
       "      <td>A.J. Price</td>\n",
       "      <td>UConn</td>\n",
       "      <td>12.466667</td>\n",
       "      <td>33.000000</td>\n",
       "      <td>29.30</td>\n",
       "      <td>4.166667</td>\n",
       "      <td>10.10</td>\n",
       "      <td>0.410667</td>\n",
       "      <td>2.633333</td>\n",
       "      <td>3.600000</td>\n",
       "      <td>0.719000</td>\n",
       "      <td>1.50</td>\n",
       "      <td>4.166667</td>\n",
       "      <td>0.348</td>\n",
       "      <td>0.800</td>\n",
       "      <td>2.433333</td>\n",
       "      <td>3.233333</td>\n",
       "      <td>4.566667</td>\n",
       "      <td>1.066667</td>\n",
       "      <td>0.066667</td>\n",
       "      <td>2.300000</td>\n",
       "      <td>1.300000</td>\n",
       "      <td>2009.0</td>\n",
       "      <td>IND</td>\n",
       "      <td>University of Connecticut</td>\n",
       "      <td>...</td>\n",
       "      <td>0.532868</td>\n",
       "      <td>0.739942</td>\n",
       "      <td>25153.757000</td>\n",
       "      <td>1.622755</td>\n",
       "      <td>1.224745</td>\n",
       "      <td>0.894427</td>\n",
       "      <td>0.889262</td>\n",
       "      <td>1.659077</td>\n",
       "      <td>1.032796</td>\n",
       "      <td>1.516575</td>\n",
       "      <td>506.25</td>\n",
       "      <td>405224.0</td>\n",
       "      <td>1.074640</td>\n",
       "      <td>NaN</td>\n",
       "      <td>0.692077</td>\n",
       "      <td>0.788659</td>\n",
       "      <td>0.912516</td>\n",
       "      <td>0.810724</td>\n",
       "      <td>1.185921e+06</td>\n",
       "      <td>1.731432</td>\n",
       "      <td>1.897367</td>\n",
       "      <td>0.371695</td>\n",
       "      <td>2.041241</td>\n",
       "      <td>1.000053</td>\n",
       "      <td>1.798147</td>\n",
       "    </tr>\n",
       "    <tr>\n",
       "      <th>1</th>\n",
       "      <td>Aaron Gray</td>\n",
       "      <td>PITT</td>\n",
       "      <td>8.750000</td>\n",
       "      <td>28.250000</td>\n",
       "      <td>18.40</td>\n",
       "      <td>3.425000</td>\n",
       "      <td>6.25</td>\n",
       "      <td>0.554250</td>\n",
       "      <td>1.900000</td>\n",
       "      <td>3.175000</td>\n",
       "      <td>0.590500</td>\n",
       "      <td>0.00</td>\n",
       "      <td>0.000000</td>\n",
       "      <td>0.000</td>\n",
       "      <td>2.275</td>\n",
       "      <td>3.975000</td>\n",
       "      <td>6.275000</td>\n",
       "      <td>1.175000</td>\n",
       "      <td>0.300000</td>\n",
       "      <td>1.025000</td>\n",
       "      <td>1.350000</td>\n",
       "      <td>1.975000</td>\n",
       "      <td>2007.0</td>\n",
       "      <td>CHI</td>\n",
       "      <td>University of Pittsburgh</td>\n",
       "      <td>...</td>\n",
       "      <td>0.592658</td>\n",
       "      <td>0.758726</td>\n",
       "      <td>6229.504000</td>\n",
       "      <td>1.378405</td>\n",
       "      <td>0.000000</td>\n",
       "      <td>1.508310</td>\n",
       "      <td>1.380025</td>\n",
       "      <td>1.055227</td>\n",
       "      <td>0.547723</td>\n",
       "      <td>1.161895</td>\n",
       "      <td>497.29</td>\n",
       "      <td>614125.0</td>\n",
       "      <td>1.141701</td>\n",
       "      <td>NaN</td>\n",
       "      <td>0.736290</td>\n",
       "      <td>0.843103</td>\n",
       "      <td>0.951634</td>\n",
       "      <td>0.839978</td>\n",
       "      <td>6.369038e+05</td>\n",
       "      <td>2.684290</td>\n",
       "      <td>1.781853</td>\n",
       "      <td>0.205902</td>\n",
       "      <td>0.000000</td>\n",
       "      <td>inf</td>\n",
       "      <td>2.504995</td>\n",
       "    </tr>\n",
       "    <tr>\n",
       "      <th>2</th>\n",
       "      <td>Al Horford</td>\n",
       "      <td>UF</td>\n",
       "      <td>9.866667</td>\n",
       "      <td>36.333333</td>\n",
       "      <td>25.50</td>\n",
       "      <td>3.766667</td>\n",
       "      <td>6.40</td>\n",
       "      <td>0.565333</td>\n",
       "      <td>2.433333</td>\n",
       "      <td>3.966667</td>\n",
       "      <td>0.612333</td>\n",
       "      <td>0.00</td>\n",
       "      <td>0.066667</td>\n",
       "      <td>0.000</td>\n",
       "      <td>2.300</td>\n",
       "      <td>5.500000</td>\n",
       "      <td>7.766667</td>\n",
       "      <td>1.633333</td>\n",
       "      <td>0.833333</td>\n",
       "      <td>1.700000</td>\n",
       "      <td>1.533333</td>\n",
       "      <td>2.433333</td>\n",
       "      <td>2007.0</td>\n",
       "      <td>ATL</td>\n",
       "      <td>University of Florida</td>\n",
       "      <td>...</td>\n",
       "      <td>1.070043</td>\n",
       "      <td>0.989856</td>\n",
       "      <td>16581.375000</td>\n",
       "      <td>1.559915</td>\n",
       "      <td>0.000000</td>\n",
       "      <td>1.516575</td>\n",
       "      <td>1.704748</td>\n",
       "      <td>1.177674</td>\n",
       "      <td>0.912871</td>\n",
       "      <td>1.238278</td>\n",
       "      <td>432.64</td>\n",
       "      <td>551368.0</td>\n",
       "      <td>1.544184</td>\n",
       "      <td>0.641559</td>\n",
       "      <td>1.092341</td>\n",
       "      <td>1.146499</td>\n",
       "      <td>1.200006</td>\n",
       "      <td>1.022823</td>\n",
       "      <td>1.742693e+06</td>\n",
       "      <td>2.954779</td>\n",
       "      <td>1.991649</td>\n",
       "      <td>0.229596</td>\n",
       "      <td>0.258199</td>\n",
       "      <td>inf</td>\n",
       "      <td>2.786874</td>\n",
       "    </tr>\n",
       "    <tr>\n",
       "      <th>3</th>\n",
       "      <td>Al-Farouq Aminu</td>\n",
       "      <td>WF</td>\n",
       "      <td>13.300000</td>\n",
       "      <td>31.000000</td>\n",
       "      <td>30.15</td>\n",
       "      <td>4.650000</td>\n",
       "      <td>9.80</td>\n",
       "      <td>0.481500</td>\n",
       "      <td>3.600000</td>\n",
       "      <td>5.200000</td>\n",
       "      <td>0.684500</td>\n",
       "      <td>0.40</td>\n",
       "      <td>1.550000</td>\n",
       "      <td>0.226</td>\n",
       "      <td>3.050</td>\n",
       "      <td>5.650000</td>\n",
       "      <td>8.700000</td>\n",
       "      <td>1.300000</td>\n",
       "      <td>1.150000</td>\n",
       "      <td>1.250000</td>\n",
       "      <td>2.650000</td>\n",
       "      <td>2.550000</td>\n",
       "      <td>2010.0</td>\n",
       "      <td>LAC</td>\n",
       "      <td>Wake Forest University</td>\n",
       "      <td>...</td>\n",
       "      <td>0.641763</td>\n",
       "      <td>0.837860</td>\n",
       "      <td>27407.028375</td>\n",
       "      <td>1.897367</td>\n",
       "      <td>0.632456</td>\n",
       "      <td>1.746425</td>\n",
       "      <td>1.731656</td>\n",
       "      <td>1.091393</td>\n",
       "      <td>1.072381</td>\n",
       "      <td>1.627882</td>\n",
       "      <td>380.25</td>\n",
       "      <td>512000.0</td>\n",
       "      <td>1.218966</td>\n",
       "      <td>NaN</td>\n",
       "      <td>0.782726</td>\n",
       "      <td>0.918758</td>\n",
       "      <td>1.021253</td>\n",
       "      <td>0.862564</td>\n",
       "      <td>9.235210e+05</td>\n",
       "      <td>2.034810</td>\n",
       "      <td>2.280351</td>\n",
       "      <td>0.320716</td>\n",
       "      <td>1.244990</td>\n",
       "      <td>1.000074</td>\n",
       "      <td>2.949576</td>\n",
       "    </tr>\n",
       "    <tr>\n",
       "      <th>4</th>\n",
       "      <td>Alec Burks</td>\n",
       "      <td>UCOL</td>\n",
       "      <td>18.450000</td>\n",
       "      <td>34.000000</td>\n",
       "      <td>30.80</td>\n",
       "      <td>6.100000</td>\n",
       "      <td>12.20</td>\n",
       "      <td>0.503000</td>\n",
       "      <td>5.650000</td>\n",
       "      <td>7.100000</td>\n",
       "      <td>0.798500</td>\n",
       "      <td>0.65</td>\n",
       "      <td>2.150000</td>\n",
       "      <td>0.322</td>\n",
       "      <td>2.100</td>\n",
       "      <td>3.500000</td>\n",
       "      <td>5.650000</td>\n",
       "      <td>2.300000</td>\n",
       "      <td>1.150000</td>\n",
       "      <td>0.350000</td>\n",
       "      <td>2.200000</td>\n",
       "      <td>2.350000</td>\n",
       "      <td>2011.0</td>\n",
       "      <td>UTA</td>\n",
       "      <td>University of Colorado</td>\n",
       "      <td>...</td>\n",
       "      <td>0.626673</td>\n",
       "      <td>0.786119</td>\n",
       "      <td>29218.112000</td>\n",
       "      <td>2.376973</td>\n",
       "      <td>0.806226</td>\n",
       "      <td>1.449138</td>\n",
       "      <td>1.252763</td>\n",
       "      <td>1.320006</td>\n",
       "      <td>1.072381</td>\n",
       "      <td>1.483240</td>\n",
       "      <td>388.09</td>\n",
       "      <td>474552.0</td>\n",
       "      <td>1.163819</td>\n",
       "      <td>NaN</td>\n",
       "      <td>0.793285</td>\n",
       "      <td>0.853113</td>\n",
       "      <td>0.957048</td>\n",
       "      <td>0.855750</td>\n",
       "      <td>1.336336e+06</td>\n",
       "      <td>2.392888</td>\n",
       "      <td>2.664583</td>\n",
       "      <td>0.509125</td>\n",
       "      <td>1.466288</td>\n",
       "      <td>1.000057</td>\n",
       "      <td>2.376973</td>\n",
       "    </tr>\n",
       "  </tbody>\n",
       "</table>\n",
       "<p>5 rows × 69 columns</p>\n",
       "</div>"
      ],
      "text/plain": [
       "              Name   Team        PPG  Games Played    MPG       FGM    FGA  \\\n",
       "0       A.J. Price  UConn  12.466667     33.000000  29.30  4.166667  10.10   \n",
       "1       Aaron Gray   PITT   8.750000     28.250000  18.40  3.425000   6.25   \n",
       "2       Al Horford     UF   9.866667     36.333333  25.50  3.766667   6.40   \n",
       "3  Al-Farouq Aminu     WF  13.300000     31.000000  30.15  4.650000   9.80   \n",
       "4       Alec Burks   UCOL  18.450000     34.000000  30.80  6.100000  12.20   \n",
       "\n",
       "        FG%       FTM       FTA       FT%   3PM       3PA    3P%    ORB  \\\n",
       "0  0.410667  2.633333  3.600000  0.719000  1.50  4.166667  0.348  0.800   \n",
       "1  0.554250  1.900000  3.175000  0.590500  0.00  0.000000  0.000  2.275   \n",
       "2  0.565333  2.433333  3.966667  0.612333  0.00  0.066667  0.000  2.300   \n",
       "3  0.481500  3.600000  5.200000  0.684500  0.40  1.550000  0.226  3.050   \n",
       "4  0.503000  5.650000  7.100000  0.798500  0.65  2.150000  0.322  2.100   \n",
       "\n",
       "        DRB       RPG       APG       SPG       BPG       TOV        PF  \\\n",
       "0  2.433333  3.233333  4.566667  1.066667  0.066667  2.300000  1.300000   \n",
       "1  3.975000  6.275000  1.175000  0.300000  1.025000  1.350000  1.975000   \n",
       "2  5.500000  7.766667  1.633333  0.833333  1.700000  1.533333  2.433333   \n",
       "3  5.650000  8.700000  1.300000  1.150000  1.250000  2.650000  2.550000   \n",
       "4  3.500000  5.650000  2.300000  1.150000  0.350000  2.200000  2.350000   \n",
       "\n",
       "     Year NBATeam                CollegeName    ...      PERVORP   TotalWV  \\\n",
       "0  2009.0     IND  University of Connecticut    ...     0.532868  0.739942   \n",
       "1  2007.0     CHI   University of Pittsburgh    ...     0.592658  0.758726   \n",
       "2  2007.0     ATL      University of Florida    ...     1.070043  0.989856   \n",
       "3  2010.0     LAC     Wake Forest University    ...     0.641763  0.837860   \n",
       "4  2011.0     UTA     University of Colorado    ...     0.626673  0.786119   \n",
       "\n",
       "           MPG3     FTMSR     3PMSR     ORBSR      DRBL     APGCR     SPGSR  \\\n",
       "0  25153.757000  1.622755  1.224745  0.894427  0.889262  1.659077  1.032796   \n",
       "1   6229.504000  1.378405  0.000000  1.508310  1.380025  1.055227  0.547723   \n",
       "2  16581.375000  1.559915  0.000000  1.516575  1.704748  1.177674  0.912871   \n",
       "3  27407.028375  1.897367  0.632456  1.746425  1.731656  1.091393  1.072381   \n",
       "4  29218.112000  2.376973  0.806226  1.449138  1.252763  1.320006  1.072381   \n",
       "\n",
       "      TOVSR  Age at Draft SR  Height Inches C  TotalWSSR  TotalPCAWSSR  \\\n",
       "0  1.516575           506.25         405224.0   1.074640           NaN   \n",
       "1  1.161895           497.29         614125.0   1.141701           NaN   \n",
       "2  1.238278           432.64         551368.0   1.544184      0.641559   \n",
       "3  1.627882           380.25         512000.0   1.218966           NaN   \n",
       "4  1.483240           388.09         474552.0   1.163819           NaN   \n",
       "\n",
       "   TotalPERWSSR  TotalWSBPMSR  TotalWSBPMVCR  PERVORPCR  Games Played 4  \\\n",
       "0      0.692077      0.788659       0.912516   0.810724    1.185921e+06   \n",
       "1      0.736290      0.843103       0.951634   0.839978    6.369038e+05   \n",
       "2      1.092341      1.146499       1.200006   1.022823    1.742693e+06   \n",
       "3      0.782726      0.918758       1.021253   0.862564    9.235210e+05   \n",
       "4      0.793285      0.853113       0.957048   0.855750    1.336336e+06   \n",
       "\n",
       "   TotalOff     FTASR      FT%C     3PASR      3P%R     RPGSR  \n",
       "0  1.731432  1.897367  0.371695  2.041241  1.000053  1.798147  \n",
       "1  2.684290  1.781853  0.205902  0.000000       inf  2.504995  \n",
       "2  2.954779  1.991649  0.229596  0.258199       inf  2.786874  \n",
       "3  2.034810  2.280351  0.320716  1.244990  1.000074  2.949576  \n",
       "4  2.392888  2.664583  0.509125  1.466288  1.000057  2.376973  \n",
       "\n",
       "[5 rows x 69 columns]"
      ]
     },
     "execution_count": 2,
     "metadata": {},
     "output_type": "execute_result"
    }
   ],
   "source": [
    "pd.set_option('display.max_columns',50)\n",
    "pd.set_option('display.max_rows',10000)\n",
    "df = pd.read_csv('/Users/mattlee/GA-Capstone-Project/FEdf1.csv')\n",
    "df.head()"
   ]
  },
  {
   "cell_type": "code",
   "execution_count": 3,
   "metadata": {
    "collapsed": true
   },
   "outputs": [],
   "source": [
    "def rundefaultmodels(x,y,xtest,ytest):\n",
    "    ln = LinearRegression()\n",
    "    modelln = ln.fit(x,y)\n",
    "    predictionsln = modelln.predict(xtest)\n",
    "    print 'Linear Regression'\n",
    "    print 'Cross-validation score:', cross_val_score(modelln, x,y)\n",
    "    print 'Training R^2:', modelln.score(x,y)\n",
    "    print 'Test R^2:', modelln.score(xtest,ytest)\n",
    "    print 'MAE:', metrics.mean_absolute_error(ytest, predictionsln)\n",
    "    print 'MSE:', metrics.mean_squared_error(ytest, predictionsln)\n",
    "    print 'RMSE:', np.sqrt(metrics.mean_squared_error(ytest, predictionsln))\n",
    "    print '\\n'\n",
    "    \n",
    "    ls = LassoCV()\n",
    "    modells = ls.fit(x,y)\n",
    "    predictionsls = modells.predict(xtest)\n",
    "    print 'Lasso Regression'\n",
    "    print 'Cross-validation score:', cross_val_score(modells, x,y)\n",
    "    print 'Training R^2:', modells.score(x,y)\n",
    "    print 'Test R^2:', modells.score(xtest,ytest)\n",
    "    print 'MAE:', metrics.mean_absolute_error(ytest, predictionsls)\n",
    "    print 'MSE:', metrics.mean_squared_error(ytest, predictionsls)\n",
    "    print 'RMSE:', np.sqrt(metrics.mean_squared_error(ytest, predictionsls))\n",
    "    print '\\n'\n",
    "    \n",
    "    rg = RidgeCV()\n",
    "    modelrg = rg.fit(x,y)\n",
    "    predictionsrg = modelrg.predict(xtest)\n",
    "    print 'Ridge Regression'\n",
    "    print 'Cross-validation score:', cross_val_score(modelrg, x,y)\n",
    "    print 'Training R^2:', modelrg.score(x,y)\n",
    "    print 'Test R^2:', modelrg.score(xtest,ytest)\n",
    "    print 'MAE:', metrics.mean_absolute_error(ytest, predictionsrg)\n",
    "    print 'MSE:', metrics.mean_squared_error(ytest, predictionsrg)\n",
    "    print 'RMSE:', np.sqrt(metrics.mean_squared_error(ytest, predictionsrg))\n",
    "    print '\\n'\n",
    "    \n",
    "    knn = KNeighborsRegressor()\n",
    "    modelknn = knn.fit(x,y)\n",
    "    predictionsknn = modelknn.predict(xtest)\n",
    "    print 'K-Nearest Neighbors Regression'\n",
    "    print 'Cross-validation score:', cross_val_score(modelknn, x,y)\n",
    "    print 'Training R^2:', modelknn.score(x,y)\n",
    "    print 'Test R^2:', modelknn.score(xtest,ytest)\n",
    "    print 'MAE:', metrics.mean_absolute_error(ytest, predictionsknn)\n",
    "    print 'MSE:', metrics.mean_squared_error(ytest, predictionsknn)\n",
    "    print 'RMSE:', np.sqrt(metrics.mean_squared_error(ytest, predictionsknn))\n",
    "    print '\\n'\n",
    "    \n",
    "    dt = DecisionTreeRegressor()\n",
    "    modeldt = dt.fit(x,y)\n",
    "    predictionsdt = modeldt.predict(xtest)\n",
    "    print 'Decision Tree Regression'\n",
    "    print 'Cross-validation score:', cross_val_score(modeldt, x,y)\n",
    "    print 'Training R^2:', modeldt.score(x,y)\n",
    "    print 'Test R^2:', modeldt.score(xtest,ytest)\n",
    "    print 'MAE:', metrics.mean_absolute_error(ytest, predictionsdt)\n",
    "    print 'MSE:', metrics.mean_squared_error(ytest, predictionsdt)\n",
    "    print 'RMSE:', np.sqrt(metrics.mean_squared_error(ytest, predictionsdt))\n",
    "    print '\\n'\n",
    "    \n",
    "    rf = RandomForestRegressor()\n",
    "    modelrf = rf.fit(x,y)\n",
    "    predictionsrf = modelrf.predict(xtest)\n",
    "    print 'Random Forest Regression'\n",
    "    print 'Cross-validation score:', cross_val_score(modelrf, x,y)\n",
    "    print 'Training R^2:', modelrf.score(x,y)\n",
    "    print 'Test R^2:', modelrf.score(xtest,ytest)\n",
    "    print 'MAE:', metrics.mean_absolute_error(ytest, predictionsrf)\n",
    "    print 'MSE:', metrics.mean_squared_error(ytest, predictionsrf)\n",
    "    print 'RMSE:', np.sqrt(metrics.mean_squared_error(ytest, predictionsrf))\n",
    "    print '\\n'\n",
    "    \n",
    "    et = ExtraTreesRegressor()\n",
    "    modelet = et.fit(x,y)\n",
    "    predictionset = modelet.predict(xtest)\n",
    "    print 'Extra Trees Regression'\n",
    "    print 'Cross-validation score:', cross_val_score(modelet, x,y)\n",
    "    print 'Training R^2:', modelet.score(x,y)\n",
    "    print 'Test R^2:', modelet.score(xtest,ytest)\n",
    "    print 'MAE:', metrics.mean_absolute_error(ytest, predictionset)\n",
    "    print 'MSE:', metrics.mean_squared_error(ytest, predictionset)\n",
    "    print 'RMSE:', np.sqrt(metrics.mean_squared_error(ytest, predictionset))\n",
    "    print '\\n'\n",
    "    \n",
    "    ada = AdaBoostRegressor()\n",
    "    modelada = ada.fit(x,y)\n",
    "    predictionsada = modelada.predict(xtest)\n",
    "    print 'AdaBoost Regression'\n",
    "    print 'Cross-validation score:', cross_val_score(modelada, x,y)\n",
    "    print 'Training R^2:', modelada.score(x,y)\n",
    "    print 'Test R^2:', modelada.score(xtest,ytest)\n",
    "    print 'MAE:', metrics.mean_absolute_error(ytest, predictionsada)\n",
    "    print 'MSE:', metrics.mean_squared_error(ytest, predictionsada)\n",
    "    print 'RMSE:', np.sqrt(metrics.mean_squared_error(ytest, predictionsada))\n",
    "    print '\\n'\n",
    "    \n",
    "    gb = GradientBoostingRegressor()\n",
    "    modelgb = gb.fit(x,y)\n",
    "    predictionsgb = modelgb.predict(xtest)\n",
    "    print 'GradientBoost Regression'\n",
    "    print 'Cross-validation score:', cross_val_score(modelgb, x,y)\n",
    "    print 'Training R^2:', modelgb.score(x,y)\n",
    "    print 'Test R^2:', modelgb.score(xtest,ytest)\n",
    "    print 'MAE:', metrics.mean_absolute_error(ytest, predictionsgb)\n",
    "    print 'MSE:', metrics.mean_squared_error(ytest, predictionsgb)\n",
    "    print 'RMSE:', np.sqrt(metrics.mean_squared_error(ytest, predictionsgb))\n",
    "    print '\\n'\n",
    "    \n",
    "    bag = BaggingRegressor()\n",
    "    modelbag = bag.fit(x,y)\n",
    "    predictionsbag = modelbag.predict(xtest)\n",
    "    print 'Bagging Regression'\n",
    "    print 'Cross-validation score:', cross_val_score(modelbag, x,y)\n",
    "    print 'Training R^2:', modelbag.score(x,y)\n",
    "    print 'Test R^2:', modelbag.score(xtest,ytest)\n",
    "    print 'MAE:', metrics.mean_absolute_error(ytest, predictionsbag)\n",
    "    print 'MSE:', metrics.mean_squared_error(ytest, predictionsbag)\n",
    "    print 'RMSE:', np.sqrt(metrics.mean_squared_error(ytest, predictionsbag))\n",
    "    print '\\n'\n",
    "    \n",
    "    xgb = XGBRegressor()\n",
    "    modelxgb = xgb.fit(x,y)\n",
    "    predictionsxgb = modelxgb.predict(xtest)\n",
    "    print 'XGBoost Regression'\n",
    "    print 'Cross-validation score:', cross_val_score(modelxgb, x,y)\n",
    "    print 'Training R^2:', modelxgb.score(x,y)\n",
    "    print 'Test R^2:', modelxgb.score(xtest,ytest)\n",
    "    print 'MAE:', metrics.mean_absolute_error(ytest, predictionsxgb)\n",
    "    print 'MSE:', metrics.mean_squared_error(ytest, predictionsxgb)\n",
    "    print 'RMSE:', np.sqrt(metrics.mean_squared_error(ytest, predictionsxgb))\n",
    "    print '\\n'"
   ]
  },
  {
   "cell_type": "code",
   "execution_count": 83,
   "metadata": {},
   "outputs": [
    {
     "data": {
      "text/plain": [
       "<matplotlib.axes._subplots.AxesSubplot at 0x112f74f10>"
      ]
     },
     "execution_count": 83,
     "metadata": {},
     "output_type": "execute_result"
    },
    {
     "data": {
      "image/png": "[encoded data removed]",
      "text/plain": [
       "<matplotlib.figure.Figure at 0x112d63050>"
      ]
     },
     "metadata": {},
     "output_type": "display_data"
    }
   ],
   "source": [
    "plt.subplots(figsize=(14,10))\n",
    "sns.heatmap(df.corr())"
   ]
  },
  {
   "cell_type": "code",
   "execution_count": 84,
   "metadata": {
    "scrolled": true
   },
   "outputs": [
    {
     "data": {
      "text/plain": [
       "Index([u'Name', u'Team', u'PPG', u'Games Played', u'MPG', u'FGM', u'FGA',\n",
       "       u'FG%', u'FTM', u'FTA', u'FT%', u'3PM', u'3PA', u'3P%', u'ORB', u'DRB',\n",
       "       u'RPG', u'APG', u'SPG', u'BPG', u'TOV', u'PF', u'Year', u'NBATeam',\n",
       "       u'CollegeName', u'Age at Draft', u'Weight at Draft', u'Height Inches',\n",
       "       u'PER', u'WS', u'WS/48', u'BPM', u'VORP', u'TopSchool', u'Total',\n",
       "       u'TotalWS', u'TotalWS48', u'TotalPCAWS', u'TotalPCAWS48', u'TotalDef',\n",
       "       u'TotalPERWS', u'TotalPERWSBPM', u'TotalWSBPM', u'TotalWSBPMV',\n",
       "       u'PERVORP', u'TotalWV', u'MPG3', u'FTMSR', u'3PMSR', u'ORBSR', u'DRBL',\n",
       "       u'APGCR', u'SPGSR', u'TOVSR', u'Age at Draft SR', u'Height Inches C',\n",
       "       u'TotalWSSR', u'TotalPCAWSSR', u'TotalPERWSSR', u'TotalWSBPMSR',\n",
       "       u'TotalWSBPMVCR', u'PERVORPCR', u'Games Played 4', u'TotalOff',\n",
       "       u'FTASR', u'FT%C', u'3PASR', u'3P%R', u'RPGSR'],\n",
       "      dtype='object')"
      ]
     },
     "execution_count": 84,
     "metadata": {},
     "output_type": "execute_result"
    }
   ],
   "source": [
    "df.columns"
   ]
  },
  {
   "cell_type": "code",
   "execution_count": 352,
   "metadata": {
    "collapsed": true
   },
   "outputs": [],
   "source": [
    "x = df[['PPG','Games Played 4','MPG3','FGM','FG%','FTMSR','FT%C','3PMSR','RPG','APGCR','SPGSR','TOVSR',\n",
    "       'PF','Age at Draft SR','Weight at Draft','Height Inches C','TopSchool','BPG']]\n",
    "y = df['TotalWS']"
   ]
  },
  {
   "cell_type": "code",
   "execution_count": 9,
   "metadata": {
    "collapsed": true
   },
   "outputs": [],
   "source": [
    "def skb(x,y,features):\n",
    "    kbest = SelectKBest(score_func= mutual_info_regression, k = features)\n",
    "    kbest_columns = kbest.fit_transform(x,y)\n",
    "    mask = kbest.get_support() #list of booleans\n",
    "    new_features = [] # The list of your K best features\n",
    "    for bool, feature in zip(mask, x.columns):\n",
    "        if bool:\n",
    "            new_features.append(feature)\n",
    "    dfkbest = pd.DataFrame(kbest_columns, columns = new_features)\n",
    "    scores = zip(x.columns,list(kbest.scores_))\n",
    "    return dfkbest, scores\n",
    "#made a function that can manually iterate number of desired KBest features"
   ]
  },
  {
   "cell_type": "code",
   "execution_count": 360,
   "metadata": {},
   "outputs": [
    {
     "data": {
      "text/plain": [
       "{1: (0.032253460075168161, 0.08117102804601628),\n",
       " 2: (0.016419777977894623, 0.077661014138534878),\n",
       " 3: (0.047356320372412886, -0.10002109118758207),\n",
       " 4: (0.12799672834235121, -0.01962112185261744),\n",
       " 5: (0.16379632932372279, 0.083718518061119851),\n",
       " 6: (0.18094198616399282, 0.097115227131050252),\n",
       " 7: (0.12514826279709068, 0.07390148922744777),\n",
       " 8: (0.35585110382501473, 0.051612131634598657),\n",
       " 9: (0.32874764271092483, 0.19726176017786812),\n",
       " 10: (0.33420350729600068, 0.27485575220385938),\n",
       " 11: (0.35559247241616798, 0.04113184990786567),\n",
       " 12: (0.36131831715400298, 0.23027850519482784),\n",
       " 13: (0.32399874438346377, 0.29143492799210091),\n",
       " 14: (0.38825841280727635, 0.078741225122266889),\n",
       " 15: (0.29483271984362103, 0.34461996058900418),\n",
       " 16: (0.3742312294499176, 0.39175412863159587),\n",
       " 17: (0.43293619539064343, 0.29851543586963192),\n",
       " 18: (0.49974546330358133, 0.10739483693481022)}"
      ]
     },
     "execution_count": 360,
     "metadata": {},
     "output_type": "execute_result"
    }
   ],
   "source": [
    "lr = LinearRegression()\n",
    "score_dict = {}\n",
    "for rng in range(1,19):\n",
    "    dfkbest, scores = skb(x,y,rng)\n",
    "    x_train, x_test, y_train, y_test = train_test_split(dfkbest, y,\n",
    "                                                   test_size=0.35)\n",
    "    modellr = lr.fit(x_train, y_train)\n",
    "    \n",
    "    score_dict[rng] = (modellr.score(x_train, y_train),modellr.score(x_test, y_test))\n",
    "score_dict\n",
    "#test out scores on how many features used"
   ]
  },
  {
   "cell_type": "code",
   "execution_count": 361,
   "metadata": {
    "collapsed": true
   },
   "outputs": [],
   "source": [
    "dfkbest, scores = skb(x,y,16)"
   ]
  },
  {
   "cell_type": "code",
   "execution_count": 362,
   "metadata": {},
   "outputs": [
    {
     "data": {
      "text/plain": [
       "[('PPG', 0.044220977075721812),\n",
       " ('Games Played 4', 0.0),\n",
       " ('MPG3', 0.0),\n",
       " ('FGM', 0.09599765948723693),\n",
       " ('FG%', 0.016348795371665226),\n",
       " ('FTMSR', 0.12256659550451188),\n",
       " ('FT%C', 0.0045382726628213632),\n",
       " ('3PMSR', 0.033144087258770494),\n",
       " ('RPG', 0.015142130978311741),\n",
       " ('APGCR', 0.0),\n",
       " ('SPGSR', 0.021966538540979741),\n",
       " ('TOVSR', 0.042613136020700715),\n",
       " ('PF', 0.0),\n",
       " ('Age at Draft SR', 0.043621848207281211),\n",
       " ('Weight at Draft', 0.0),\n",
       " ('Height Inches C', 0.0),\n",
       " ('TopSchool', 0.044540940209778945),\n",
       " ('BPG', 0.0039146499349236308)]"
      ]
     },
     "execution_count": 362,
     "metadata": {},
     "output_type": "execute_result"
    }
   ],
   "source": [
    "scores"
   ]
  },
  {
   "cell_type": "code",
   "execution_count": 363,
   "metadata": {},
   "outputs": [
    {
     "data": {
      "text/plain": [
       "Index([u'PPG', u'FGM', u'FG%', u'FTMSR', u'FT%C', u'3PMSR', u'RPG', u'APGCR',\n",
       "       u'SPGSR', u'TOVSR', u'PF', u'Age at Draft SR', u'Weight at Draft',\n",
       "       u'Height Inches C', u'TopSchool', u'BPG'],\n",
       "      dtype='object')"
      ]
     },
     "execution_count": 363,
     "metadata": {},
     "output_type": "execute_result"
    }
   ],
   "source": [
    "dfkbest.columns"
   ]
  },
  {
   "cell_type": "code",
   "execution_count": 407,
   "metadata": {
    "collapsed": true
   },
   "outputs": [],
   "source": [
    "x_train, x_test, y_train, y_test = train_test_split(dfkbest,y,test_size = 0.35)"
   ]
  },
  {
   "cell_type": "code",
   "execution_count": 412,
   "metadata": {
    "collapsed": true
   },
   "outputs": [],
   "source": [
    "gsln = GridSearchCV(LinearRegression(),param_grid={})"
   ]
  },
  {
   "cell_type": "code",
   "execution_count": 413,
   "metadata": {},
   "outputs": [
    {
     "data": {
      "text/plain": [
       "GridSearchCV(cv=None, error_score='raise',\n",
       "       estimator=LinearRegression(copy_X=True, fit_intercept=True, n_jobs=1, normalize=False),\n",
       "       fit_params={}, iid=True, n_jobs=1, param_grid={},\n",
       "       pre_dispatch='2*n_jobs', refit=True, return_train_score=True,\n",
       "       scoring=None, verbose=0)"
      ]
     },
     "execution_count": 413,
     "metadata": {},
     "output_type": "execute_result"
    }
   ],
   "source": [
    "gsln.fit(x_train, y_train)"
   ]
  },
  {
   "cell_type": "code",
   "execution_count": 414,
   "metadata": {},
   "outputs": [
    {
     "name": "stdout",
     "output_type": "stream",
     "text": [
      "0.356923012467\n",
      "0.400411826863\n"
     ]
    }
   ],
   "source": [
    "print gsln.best_estimator_.score(x_train, y_train)\n",
    "print gsln.best_estimator_.score(x_test, y_test)"
   ]
  },
  {
   "cell_type": "code",
   "execution_count": 421,
   "metadata": {},
   "outputs": [
    {
     "data": {
      "text/plain": [
       "[('FG%', 2.0797179974215498),\n",
       " ('APGCR', 0.88068788116211183),\n",
       " ('SPGSR', 0.66568045979762946),\n",
       " ('FT%C', 0.092234004658862459),\n",
       " ('PPG', 0.081933197317411777),\n",
       " ('RPG', 0.072770266389588292),\n",
       " ('TopSchool', 0.062337827034192092),\n",
       " ('PF', 0.037839193456633557),\n",
       " ('FTMSR', 0.035200816388020147),\n",
       " ('Weight at Draft', 0.00062287209546119104),\n",
       " ('Height Inches C', 1.1230308040177661e-06),\n",
       " ('Age at Draft SR', -0.002553220233914022),\n",
       " ('3PMSR', -0.046628343104773429),\n",
       " ('BPG', -0.05327667639117617),\n",
       " ('FGM', -0.26230907807501813),\n",
       " ('TOVSR', -0.69152491466684163)]"
      ]
     },
     "execution_count": 421,
     "metadata": {},
     "output_type": "execute_result"
    }
   ],
   "source": [
    "zipped2 = zip(dfkbest.columns,gsln.best_estimator_.coef_)\n",
    "zipped2.sort(key = lambda t: t[1], reverse = True)\n",
    "zipped2"
   ]
  },
  {
   "cell_type": "code",
   "execution_count": 415,
   "metadata": {
    "scrolled": true
   },
   "outputs": [
    {
     "data": {
      "text/plain": [
       "['OVR_LR.pkl']"
      ]
     },
     "execution_count": 415,
     "metadata": {},
     "output_type": "execute_result"
    }
   ],
   "source": [
    "joblib.dump(gsln.best_estimator_, 'OVR_LR.pkl')"
   ]
  },
  {
   "cell_type": "code",
   "execution_count": 409,
   "metadata": {},
   "outputs": [
    {
     "name": "stdout",
     "output_type": "stream",
     "text": [
      "0.353888956954\n",
      "0.385199480796\n"
     ]
    }
   ],
   "source": [
    "rg1 = RidgeCV(alphas = [0.001,0.01,0.1,1.0,10])\n",
    "rg1.fit(x_train,y_train)\n",
    "print rg1.score(x_train, y_train)\n",
    "print rg1.score(x_test, y_test)"
   ]
  },
  {
   "cell_type": "code",
   "execution_count": 420,
   "metadata": {
    "scrolled": true
   },
   "outputs": [
    {
     "data": {
      "text/plain": [
       "[('FG%', 1.2777753749777752),\n",
       " ('APGCR', 0.82284194709750569),\n",
       " ('SPGSR', 0.66458062393390804),\n",
       " ('FT%C', 0.10002430860066891),\n",
       " ('PPG', 0.088723558150235249),\n",
       " ('RPG', 0.071290912140753449),\n",
       " ('TopSchool', 0.069495133807182086),\n",
       " ('PF', 0.039477589383775324),\n",
       " ('FTMSR', 0.0078724606311180167),\n",
       " ('Weight at Draft', 0.00061782923853570537),\n",
       " ('Height Inches C', 1.1187512427568436e-06),\n",
       " ('Age at Draft SR', -0.0025219297451215539),\n",
       " ('BPG', -0.055337715793221776),\n",
       " ('3PMSR', -0.11924037664877574),\n",
       " ('FGM', -0.2665755742689413),\n",
       " ('TOVSR', -0.66156563251826395)]"
      ]
     },
     "execution_count": 420,
     "metadata": {},
     "output_type": "execute_result"
    }
   ],
   "source": [
    "zipped1 = zip(dfkbest.columns,rg1.coef_)\n",
    "zipped1.sort(key = lambda t: t[1], reverse = True)\n",
    "zipped1"
   ]
  },
  {
   "cell_type": "code",
   "execution_count": 457,
   "metadata": {},
   "outputs": [
    {
     "data": {
      "text/html": [
       "<div>\n",
       "<table border=\"1\" class=\"dataframe\">\n",
       "  <thead>\n",
       "    <tr style=\"text-align: right;\">\n",
       "      <th></th>\n",
       "      <th>Predictions</th>\n",
       "      <th>TotalWS</th>\n",
       "    </tr>\n",
       "  </thead>\n",
       "  <tbody>\n",
       "    <tr>\n",
       "      <th>0</th>\n",
       "      <td>1.427984</td>\n",
       "      <td>1.343079</td>\n",
       "    </tr>\n",
       "    <tr>\n",
       "      <th>1</th>\n",
       "      <td>1.916726</td>\n",
       "      <td>1.727395</td>\n",
       "    </tr>\n",
       "    <tr>\n",
       "      <th>2</th>\n",
       "      <td>1.539241</td>\n",
       "      <td>1.214493</td>\n",
       "    </tr>\n",
       "    <tr>\n",
       "      <th>3</th>\n",
       "      <td>1.278553</td>\n",
       "      <td>1.232636</td>\n",
       "    </tr>\n",
       "    <tr>\n",
       "      <th>4</th>\n",
       "      <td>1.346248</td>\n",
       "      <td>1.116272</td>\n",
       "    </tr>\n",
       "  </tbody>\n",
       "</table>\n",
       "</div>"
      ],
      "text/plain": [
       "   Predictions   TotalWS\n",
       "0     1.427984  1.343079\n",
       "1     1.916726  1.727395\n",
       "2     1.539241  1.214493\n",
       "3     1.278553  1.232636\n",
       "4     1.346248  1.116272"
      ]
     },
     "execution_count": 457,
     "metadata": {},
     "output_type": "execute_result"
    }
   ],
   "source": [
    "rg1predict = (rg1.predict(x_test))\n",
    "pre = pd.DataFrame(rg1predict, columns = ['Predictions'])\n",
    "forpredf = pd.DataFrame(y_test).reset_index(drop = True)\n",
    "pre1 = pre.merge(forpredf, left_index=True, right_index=True)\n",
    "pre1.head()"
   ]
  },
  {
   "cell_type": "code",
   "execution_count": 483,
   "metadata": {},
   "outputs": [
    {
     "name": "stdout",
     "output_type": "stream",
     "text": [
      "RMSE: 0.413471998413\n"
     ]
    }
   ],
   "source": [
    "print 'RMSE:', np.sqrt(metrics.mean_squared_error(y_test, rg1predict))"
   ]
  },
  {
   "cell_type": "code",
   "execution_count": 493,
   "metadata": {},
   "outputs": [
    {
     "data": {
      "text/plain": [
       "<seaborn.axisgrid.JointGrid at 0x121e0a650>"
      ]
     },
     "execution_count": 493,
     "metadata": {},
     "output_type": "execute_result"
    },
    {
     "data": {
      "image/png": "[encoded data removed]",
      "text/plain": [
       "<matplotlib.figure.Figure at 0x121e0a750>"
      ]
     },
     "metadata": {},
     "output_type": "display_data"
    }
   ],
   "source": [
    "sns.set(rc={'axes.facecolor':'snow', 'figure.facecolor':'aliceblue','axes.grid':False})\n",
    "\n",
    "sns.jointplot(x = 'TotalWS', y = 'Predictions', data = pre1, kind = 'scatter',\n",
    "              color = 'dodgerblue', stat_func = None, size = 10)"
   ]
  },
  {
   "cell_type": "code",
   "execution_count": 428,
   "metadata": {},
   "outputs": [
    {
     "data": {
      "text/html": [
       "<div>\n",
       "<table border=\"1\" class=\"dataframe\">\n",
       "  <thead>\n",
       "    <tr style=\"text-align: right;\">\n",
       "      <th></th>\n",
       "      <th>Coefficients</th>\n",
       "    </tr>\n",
       "  </thead>\n",
       "  <tbody>\n",
       "    <tr>\n",
       "      <th>FG%</th>\n",
       "      <td>1.277775</td>\n",
       "    </tr>\n",
       "    <tr>\n",
       "      <th>APGCR</th>\n",
       "      <td>0.822842</td>\n",
       "    </tr>\n",
       "    <tr>\n",
       "      <th>SPGSR</th>\n",
       "      <td>0.664581</td>\n",
       "    </tr>\n",
       "    <tr>\n",
       "      <th>FT%C</th>\n",
       "      <td>0.100024</td>\n",
       "    </tr>\n",
       "    <tr>\n",
       "      <th>PPG</th>\n",
       "      <td>0.088724</td>\n",
       "    </tr>\n",
       "    <tr>\n",
       "      <th>RPG</th>\n",
       "      <td>0.071291</td>\n",
       "    </tr>\n",
       "    <tr>\n",
       "      <th>TopSchool</th>\n",
       "      <td>0.069495</td>\n",
       "    </tr>\n",
       "    <tr>\n",
       "      <th>PF</th>\n",
       "      <td>0.039478</td>\n",
       "    </tr>\n",
       "    <tr>\n",
       "      <th>FTMSR</th>\n",
       "      <td>0.007872</td>\n",
       "    </tr>\n",
       "    <tr>\n",
       "      <th>Weight at Draft</th>\n",
       "      <td>0.000618</td>\n",
       "    </tr>\n",
       "    <tr>\n",
       "      <th>Height Inches C</th>\n",
       "      <td>0.000001</td>\n",
       "    </tr>\n",
       "    <tr>\n",
       "      <th>Age at Draft SR</th>\n",
       "      <td>-0.002522</td>\n",
       "    </tr>\n",
       "    <tr>\n",
       "      <th>BPG</th>\n",
       "      <td>-0.055338</td>\n",
       "    </tr>\n",
       "    <tr>\n",
       "      <th>3PMSR</th>\n",
       "      <td>-0.119240</td>\n",
       "    </tr>\n",
       "    <tr>\n",
       "      <th>FGM</th>\n",
       "      <td>-0.266576</td>\n",
       "    </tr>\n",
       "    <tr>\n",
       "      <th>TOVSR</th>\n",
       "      <td>-0.661566</td>\n",
       "    </tr>\n",
       "  </tbody>\n",
       "</table>\n",
       "</div>"
      ],
      "text/plain": [
       "                 Coefficients\n",
       "FG%                  1.277775\n",
       "APGCR                0.822842\n",
       "SPGSR                0.664581\n",
       "FT%C                 0.100024\n",
       "PPG                  0.088724\n",
       "RPG                  0.071291\n",
       "TopSchool            0.069495\n",
       "PF                   0.039478\n",
       "FTMSR                0.007872\n",
       "Weight at Draft      0.000618\n",
       "Height Inches C      0.000001\n",
       "Age at Draft SR     -0.002522\n",
       "BPG                 -0.055338\n",
       "3PMSR               -0.119240\n",
       "FGM                 -0.266576\n",
       "TOVSR               -0.661566"
      ]
     },
     "execution_count": 428,
     "metadata": {},
     "output_type": "execute_result"
    }
   ],
   "source": [
    "coef = pd.DataFrame(rg1.coef_,dfkbest.columns, columns = ['Coefficients'])\n",
    "coef.sort_values(by = 'Coefficients', ascending = False)"
   ]
  },
  {
   "cell_type": "code",
   "execution_count": 416,
   "metadata": {},
   "outputs": [
    {
     "data": {
      "text/plain": [
       "['OVR_rg1.pkl']"
      ]
     },
     "execution_count": 416,
     "metadata": {},
     "output_type": "execute_result"
    }
   ],
   "source": [
    "joblib.dump(rg1, 'OVR_rg1.pkl')"
   ]
  },
  {
   "cell_type": "code",
   "execution_count": 410,
   "metadata": {},
   "outputs": [
    {
     "name": "stdout",
     "output_type": "stream",
     "text": [
      "0.352016661814\n",
      "0.38006155048\n"
     ]
    }
   ],
   "source": [
    "ls1 = LassoCV(alphas = [0.001,0.01,0.1,1.0,10])\n",
    "ls1.fit(x_train, y_train)\n",
    "print ls1.score(x_train, y_train)\n",
    "print ls1.score(x_test, y_test)"
   ]
  },
  {
   "cell_type": "code",
   "execution_count": 419,
   "metadata": {},
   "outputs": [
    {
     "data": {
      "text/plain": [
       "[('FG%', 1.237828175932594),\n",
       " ('APGCR', 0.77900379299937705),\n",
       " ('SPGSR', 0.63805274559427227),\n",
       " ('PPG', 0.086235610777837549),\n",
       " ('RPG', 0.070693823073757364),\n",
       " ('TopSchool', 0.056373400120238074),\n",
       " ('PF', 0.02842853167823485),\n",
       " ('FTMSR', 0.01858317117584703),\n",
       " ('Weight at Draft', 0.00068639561168528187),\n",
       " ('Height Inches C', 1.0669700778300689e-06),\n",
       " ('FT%C', 0.0),\n",
       " ('Age at Draft SR', -0.002492405156512883),\n",
       " ('BPG', -0.057396698171696528),\n",
       " ('3PMSR', -0.092330550896171509),\n",
       " ('FGM', -0.26291112358152907),\n",
       " ('TOVSR', -0.58674503071667317)]"
      ]
     },
     "execution_count": 419,
     "metadata": {},
     "output_type": "execute_result"
    }
   ],
   "source": [
    "zipped = zip(dfkbest.columns,ls1.coef_)\n",
    "zipped.sort(key = lambda t: t[1], reverse = True)\n",
    "zipped"
   ]
  },
  {
   "cell_type": "code",
   "execution_count": 417,
   "metadata": {},
   "outputs": [
    {
     "data": {
      "text/plain": [
       "['OVR_ls1.pkl']"
      ]
     },
     "execution_count": 417,
     "metadata": {},
     "output_type": "execute_result"
    }
   ],
   "source": [
    "joblib.dump(ls1, 'OVR_ls1.pkl')"
   ]
  },
  {
   "cell_type": "markdown",
   "metadata": {},
   "source": [
    "Below is just scrap work, please ignore\n",
    "=="
   ]
  },
  {
   "cell_type": "code",
   "execution_count": 54,
   "metadata": {},
   "outputs": [
    {
     "data": {
      "text/plain": [
       "{1: (0.055143885950000859, 0.038494371000988847),\n",
       " 2: (0.045498922735399461, 0.0061447665400317097),\n",
       " 3: (0.1056561171439697, 0.10789909898319328),\n",
       " 4: (0.14217349121647327, 0.0092353369735342916),\n",
       " 5: (0.15320711608569104, -0.020050822705869775),\n",
       " 6: (0.12076423089539336, 0.039670228696564336),\n",
       " 7: (0.24799920121587227, 0.18927344771657517),\n",
       " 8: (0.19450312570248085, 0.2418966078223258),\n",
       " 9: (0.16636489239872332, 0.28985523179484018),\n",
       " 10: (0.31091059330930193, 0.19789528844863657),\n",
       " 11: (0.38050045220014828, 0.033524746738633593),\n",
       " 12: (0.22922922413372349, 0.25157435132261485),\n",
       " 13: (0.36452270067537085, 0.28478543931123224),\n",
       " 14: (0.33168527558439087, 0.3350683356203274),\n",
       " 15: (0.31527561473246946, 0.42623761853819364),\n",
       " 16: (0.43065884951986694, 0.22968750582704245)}"
      ]
     },
     "execution_count": 54,
     "metadata": {},
     "output_type": "execute_result"
    }
   ],
   "source": [
    "rg = RidgeCV(alphas = [0.001,0.01,0.1,1.0,10])\n",
    "score_dict = {}\n",
    "for rng in range(1,17):\n",
    "    dfkbest1, scores1 = skb(x,y,rng)\n",
    "    x_train1, x_test1, y_train1, y_test1 = train_test_split(dfkbest1, y,\n",
    "                                                   test_size=0.35)\n",
    "    modelrg = rg.fit(x_train1, y_train1)\n",
    "    \n",
    "    score_dict[rng] = (modelrg.score(x_train1, y_train1),modelrg.score(x_test1, y_test1))\n",
    "score_dict\n",
    "#test out scores on how many features used"
   ]
  },
  {
   "cell_type": "code",
   "execution_count": 55,
   "metadata": {
    "collapsed": true
   },
   "outputs": [],
   "source": [
    "dfkbest1, scores1 = skb(x,y,15)"
   ]
  },
  {
   "cell_type": "code",
   "execution_count": 72,
   "metadata": {},
   "outputs": [
    {
     "data": {
      "text/plain": [
       "[('PPG', 0.044826840995715767),\n",
       " ('Games Played 4', 0.0),\n",
       " ('MPG3', 0.0),\n",
       " ('FGM', 0.097826215227120539),\n",
       " ('FG%', 0.013728501712464869),\n",
       " ('FTMSR', 0.11889456655241304),\n",
       " ('FT%C', 0.0048756563895748783),\n",
       " ('3PMSR', 0.026333608721886392),\n",
       " ('ORBSR', 0.0),\n",
       " ('APGCR', 0.0),\n",
       " ('SPGSR', 0.023144375543770135),\n",
       " ('TOVSR', 0.035755046568596072),\n",
       " ('PF', 0.0),\n",
       " ('Age at Draft SR', 0.043015699386513173),\n",
       " ('Weight at Draft', 0.0),\n",
       " ('Height Inches C', 0.0)]"
      ]
     },
     "execution_count": 72,
     "metadata": {},
     "output_type": "execute_result"
    }
   ],
   "source": [
    "scores1"
   ]
  },
  {
   "cell_type": "code",
   "execution_count": 57,
   "metadata": {},
   "outputs": [
    {
     "data": {
      "text/plain": [
       "Index([u'PPG', u'MPG3', u'FGM', u'FG%', u'FTMSR', u'FT%C', u'3PMSR', u'ORBSR',\n",
       "       u'APGCR', u'SPGSR', u'TOVSR', u'PF', u'Age at Draft SR',\n",
       "       u'Weight at Draft', u'Height Inches C'],\n",
       "      dtype='object')"
      ]
     },
     "execution_count": 57,
     "metadata": {},
     "output_type": "execute_result"
    }
   ],
   "source": [
    "dfkbest1.columns"
   ]
  },
  {
   "cell_type": "code",
   "execution_count": 121,
   "metadata": {
    "collapsed": true
   },
   "outputs": [],
   "source": [
    "x_train1, x_test1, y_train1, y_test1 = train_test_split(dfkbest1,y,test_size = 0.35)"
   ]
  },
  {
   "cell_type": "code",
   "execution_count": 122,
   "metadata": {},
   "outputs": [
    {
     "name": "stdout",
     "output_type": "stream",
     "text": [
      "0.364346956381\n",
      "0.417610588673\n"
     ]
    }
   ],
   "source": [
    "rg = RidgeCV(alphas = [0.001,0.01,0.1,1.0,10])\n",
    "rg.fit(x_train1,y_train1)\n",
    "print rg.score(x_train1, y_train1)\n",
    "print rg.score(x_test1, y_test1)"
   ]
  },
  {
   "cell_type": "code",
   "execution_count": 257,
   "metadata": {},
   "outputs": [
    {
     "name": "stdout",
     "output_type": "stream",
     "text": [
      "0.368401921368\n",
      "0.426871080573\n"
     ]
    }
   ],
   "source": [
    "ln1 = LinearRegression()\n",
    "ln1.fit(x_train1, y_train1)\n",
    "print ln1.score(x_train1, y_train1)\n",
    "print ln1.score(x_test1, y_test1)"
   ]
  },
  {
   "cell_type": "code",
   "execution_count": 258,
   "metadata": {},
   "outputs": [
    {
     "name": "stdout",
     "output_type": "stream",
     "text": [
      "0.361743348143\n",
      "0.434955417275\n"
     ]
    }
   ],
   "source": [
    "ls2 = LassoCV(alphas = [0.001,0.01,0.1,1.0,10])\n",
    "ls2.fit(x_train1, y_train1)\n",
    "print ls2.score(x_train1, y_train1)\n",
    "print ls2.score(x_test1, y_test1)"
   ]
  },
  {
   "cell_type": "code",
   "execution_count": null,
   "metadata": {
    "collapsed": true
   },
   "outputs": [],
   "source": [
    "trainpredln = ln1.predict(x_train1)\n",
    "trainpredrg = rg.predict(x_train1)\n",
    "trainpredls = ls2.predict(x_train1)\n",
    "dic = {}"
   ]
  },
  {
   "cell_type": "code",
   "execution_count": 69,
   "metadata": {},
   "outputs": [
    {
     "data": {
      "text/plain": [
       "{1: (0.072313837127968128, -0.12860087591930314),\n",
       " 2: (0.032524798675556243, 0.025088792960385908),\n",
       " 3: (0.0516459442956455, -0.0070669301125207973),\n",
       " 4: (0.12158153682512617, 0.065321698949661222),\n",
       " 5: (0.12486099060692457, 0.049456165317360412),\n",
       " 6: (0.12807159879454, 0.092955833700794521),\n",
       " 7: (0.29503781151838415, 0.1151447026707515),\n",
       " 8: (0.23357647549057214, 0.30238515461450854),\n",
       " 9: (0.28755519493707948, 0.21854697861434957),\n",
       " 10: (0.20726636605512871, 0.28307665720795216),\n",
       " 11: (0.38066206153095183, -0.068227827859798973),\n",
       " 12: (0.31980123079368461, 0.10823775697897109),\n",
       " 13: (0.25744161713653668, 0.34161702330368393),\n",
       " 14: (0.39400731030153868, -0.0098072873663428428),\n",
       " 15: (0.3634887716720937, 0.38508314128296012),\n",
       " 16: (0.39583756734794995, 0.34244510486705104)}"
      ]
     },
     "execution_count": 69,
     "metadata": {},
     "output_type": "execute_result"
    }
   ],
   "source": [
    "ls = LassoCV(alphas = [0.001,0.01,0.1,1.0,10])\n",
    "score_dict = {}\n",
    "for rng in range(1,17):\n",
    "    dfkbest2, scores2 = skb(x,y,rng)\n",
    "    x_train2, x_test2, y_train2, y_test2 = train_test_split(dfkbest2, y,\n",
    "                                                   test_size=0.35)\n",
    "    modelrg = rg.fit(x_train2, y_train2)\n",
    "    \n",
    "    score_dict[rng] = (modelrg.score(x_train2, y_train2),modelrg.score(x_test2, y_test2))\n",
    "score_dict\n",
    "#test out scores on how many features used"
   ]
  },
  {
   "cell_type": "code",
   "execution_count": 70,
   "metadata": {
    "collapsed": true
   },
   "outputs": [],
   "source": [
    "dfkbest2, scores2 = skb(x,y,15)"
   ]
  },
  {
   "cell_type": "code",
   "execution_count": 71,
   "metadata": {},
   "outputs": [
    {
     "data": {
      "text/plain": [
       "[('PPG', 0.046515489243359021),\n",
       " ('Games Played 4', 0.0),\n",
       " ('MPG3', 0.0),\n",
       " ('FGM', 0.093798510256184464),\n",
       " ('FG%', 0.016446086070185828),\n",
       " ('FTMSR', 0.12270360847482786),\n",
       " ('FT%C', 0.0047745051334184829),\n",
       " ('3PMSR', 0.026432413757863316),\n",
       " ('ORBSR', 0.0),\n",
       " ('APGCR', 0.0),\n",
       " ('SPGSR', 0.02361187978834467),\n",
       " ('TOVSR', 0.039246207078239337),\n",
       " ('PF', 0.0),\n",
       " ('Age at Draft SR', 0.04159362553974999),\n",
       " ('Weight at Draft', 0.0),\n",
       " ('Height Inches C', 0.0)]"
      ]
     },
     "execution_count": 71,
     "metadata": {},
     "output_type": "execute_result"
    }
   ],
   "source": [
    "scores2"
   ]
  },
  {
   "cell_type": "code",
   "execution_count": 73,
   "metadata": {},
   "outputs": [
    {
     "data": {
      "text/plain": [
       "Index([u'PPG', u'MPG3', u'FGM', u'FG%', u'FTMSR', u'FT%C', u'3PMSR', u'ORBSR',\n",
       "       u'APGCR', u'SPGSR', u'TOVSR', u'PF', u'Age at Draft SR',\n",
       "       u'Weight at Draft', u'Height Inches C'],\n",
       "      dtype='object')"
      ]
     },
     "execution_count": 73,
     "metadata": {},
     "output_type": "execute_result"
    }
   ],
   "source": [
    "dfkbest2.columns"
   ]
  },
  {
   "cell_type": "code",
   "execution_count": 184,
   "metadata": {
    "collapsed": true
   },
   "outputs": [],
   "source": [
    "x_train2, x_test2, y_train2, y_test2 = train_test_split(dfkbest2,y,test_size = 0.35)"
   ]
  },
  {
   "cell_type": "code",
   "execution_count": 185,
   "metadata": {},
   "outputs": [
    {
     "name": "stdout",
     "output_type": "stream",
     "text": [
      "0.382847098725\n",
      "0.395546626791\n"
     ]
    }
   ],
   "source": [
    "ls = LassoCV(alphas = [0.001,0.01,0.1,1.0,10])\n",
    "ls.fit(x_train2, y_train2)\n",
    "print ls.score(x_train2, y_train2)\n",
    "print ls.score(x_test2, y_test2)"
   ]
  },
  {
   "cell_type": "code",
   "execution_count": 259,
   "metadata": {},
   "outputs": [
    {
     "name": "stdout",
     "output_type": "stream",
     "text": [
      "0.343393796128\n",
      "0.371151821098\n"
     ]
    }
   ],
   "source": [
    "rg2 = RidgeCV(alphas = [0.001,0.01,0.1,1.0,10])\n",
    "rg2.fit(x_train2,y_train2)\n",
    "print rg2.score(x_train2, y_train2)\n",
    "print rg2.score(x_test2, y_test2)"
   ]
  },
  {
   "cell_type": "code",
   "execution_count": 260,
   "metadata": {},
   "outputs": [
    {
     "name": "stdout",
     "output_type": "stream",
     "text": [
      "0.389971498979\n",
      "0.381200490231\n"
     ]
    }
   ],
   "source": [
    "ln2 = LinearRegression()\n",
    "ln2.fit(x_train2, y_train2)\n",
    "print ln2.score(x_train2, y_train2)\n",
    "print ln2.score(x_test2, y_test2)"
   ]
  },
  {
   "cell_type": "code",
   "execution_count": 186,
   "metadata": {
    "collapsed": true
   },
   "outputs": [],
   "source": [
    "predictionsln = ln.predict(x_test)\n",
    "predictionsrg = rg.predict(x_test1)\n",
    "predictionsls = ls.predict(x_test2)"
   ]
  },
  {
   "cell_type": "code",
   "execution_count": 188,
   "metadata": {
    "collapsed": true
   },
   "outputs": [],
   "source": [
    "d = {'LinearPred': predictionsln,\n",
    "    'RidgeCVPred': predictionsrg,\n",
    "    'LassoCVPred': predictionsls}\n",
    "pred = pd.DataFrame.from_dict(d)"
   ]
  },
  {
   "cell_type": "code",
   "execution_count": 250,
   "metadata": {
    "collapsed": true
   },
   "outputs": [],
   "source": [
    "target = pd.DataFrame(y_test)"
   ]
  },
  {
   "cell_type": "code",
   "execution_count": 251,
   "metadata": {
    "collapsed": true
   },
   "outputs": [],
   "source": [
    "pred1 = pred.merge(target, left_index=True, right_index=True)"
   ]
  },
  {
   "cell_type": "code",
   "execution_count": 252,
   "metadata": {
    "scrolled": true
   },
   "outputs": [
    {
     "data": {
      "text/html": [
       "<div>\n",
       "<table border=\"1\" class=\"dataframe\">\n",
       "  <thead>\n",
       "    <tr style=\"text-align: right;\">\n",
       "      <th></th>\n",
       "      <th>LassoCVPred</th>\n",
       "      <th>LinearPred</th>\n",
       "      <th>RidgeCVPred</th>\n",
       "      <th>TotalWS</th>\n",
       "    </tr>\n",
       "  </thead>\n",
       "  <tbody>\n",
       "    <tr>\n",
       "      <th>60</th>\n",
       "      <td>1.894462</td>\n",
       "      <td>1.605649</td>\n",
       "      <td>2.221597</td>\n",
       "      <td>2.276406</td>\n",
       "    </tr>\n",
       "    <tr>\n",
       "      <th>67</th>\n",
       "      <td>1.727710</td>\n",
       "      <td>1.103618</td>\n",
       "      <td>1.591103</td>\n",
       "      <td>1.058064</td>\n",
       "    </tr>\n",
       "    <tr>\n",
       "      <th>38</th>\n",
       "      <td>1.738385</td>\n",
       "      <td>1.779059</td>\n",
       "      <td>1.486428</td>\n",
       "      <td>1.414325</td>\n",
       "    </tr>\n",
       "    <tr>\n",
       "      <th>8</th>\n",
       "      <td>1.650368</td>\n",
       "      <td>1.858015</td>\n",
       "      <td>1.303927</td>\n",
       "      <td>0.530262</td>\n",
       "    </tr>\n",
       "    <tr>\n",
       "      <th>82</th>\n",
       "      <td>1.583146</td>\n",
       "      <td>1.983100</td>\n",
       "      <td>2.129989</td>\n",
       "      <td>2.398064</td>\n",
       "    </tr>\n",
       "  </tbody>\n",
       "</table>\n",
       "</div>"
      ],
      "text/plain": [
       "    LassoCVPred  LinearPred  RidgeCVPred   TotalWS\n",
       "60     1.894462    1.605649     2.221597  2.276406\n",
       "67     1.727710    1.103618     1.591103  1.058064\n",
       "38     1.738385    1.779059     1.486428  1.414325\n",
       "8      1.650368    1.858015     1.303927  0.530262\n",
       "82     1.583146    1.983100     2.129989  2.398064"
      ]
     },
     "execution_count": 252,
     "metadata": {},
     "output_type": "execute_result"
    }
   ],
   "source": [
    "pred1.head()"
   ]
  },
  {
   "cell_type": "code",
   "execution_count": 202,
   "metadata": {
    "collapsed": true
   },
   "outputs": [],
   "source": [
    "xpred = pred1[['LassoCVPred','LinearPred','RidgeCVPred']]\n",
    "ypred = pred1['TotalWS']"
   ]
  },
  {
   "cell_type": "code",
   "execution_count": 203,
   "metadata": {
    "collapsed": true
   },
   "outputs": [],
   "source": [
    "x_trainp, x_testp, y_trainp, y_testp = train_test_split(xpred,ypred,test_size =0.35)"
   ]
  },
  {
   "cell_type": "code",
   "execution_count": 232,
   "metadata": {
    "collapsed": true
   },
   "outputs": [],
   "source": [
    "pred1['AVG'] = pred1[['LassoCVPred','LinearPred','RidgeCVPred']].mean(axis = 1)"
   ]
  },
  {
   "cell_type": "code",
   "execution_count": 235,
   "metadata": {},
   "outputs": [
    {
     "data": {
      "text/plain": [
       "-0.32905572292772911"
      ]
     },
     "execution_count": 235,
     "metadata": {},
     "output_type": "execute_result"
    }
   ],
   "source": [
    "metrics.r2_score(pred1['TotalWS'],pred1['AVG'])"
   ]
  },
  {
   "cell_type": "code",
   "execution_count": 236,
   "metadata": {},
   "outputs": [
    {
     "data": {
      "text/plain": [
       "0.44401522952194056"
      ]
     },
     "execution_count": 236,
     "metadata": {},
     "output_type": "execute_result"
    }
   ],
   "source": [
    "metrics.mean_squared_error(pred1['TotalWS'],pred1['AVG'])"
   ]
  },
  {
   "cell_type": "code",
   "execution_count": 240,
   "metadata": {
    "collapsed": true
   },
   "outputs": [],
   "source": [
    "names = df[['Name','Team']].merge(pred1[['LassoCVPred','LinearPred','RidgeCVPred']], left_index = True, \n",
    "                                  right_index = True)"
   ]
  },
  {
   "cell_type": "code",
   "execution_count": 241,
   "metadata": {},
   "outputs": [
    {
     "data": {
      "text/html": [
       "<div>\n",
       "<table border=\"1\" class=\"dataframe\">\n",
       "  <thead>\n",
       "    <tr style=\"text-align: right;\">\n",
       "      <th></th>\n",
       "      <th>Name</th>\n",
       "      <th>Team</th>\n",
       "      <th>LassoCVPred</th>\n",
       "      <th>LinearPred</th>\n",
       "      <th>RidgeCVPred</th>\n",
       "    </tr>\n",
       "  </thead>\n",
       "  <tbody>\n",
       "    <tr>\n",
       "      <th>0</th>\n",
       "      <td>A.J. Price</td>\n",
       "      <td>UConn</td>\n",
       "      <td>1.758375</td>\n",
       "      <td>1.386476</td>\n",
       "      <td>1.014273</td>\n",
       "    </tr>\n",
       "    <tr>\n",
       "      <th>1</th>\n",
       "      <td>Aaron Gray</td>\n",
       "      <td>PITT</td>\n",
       "      <td>1.440590</td>\n",
       "      <td>1.323929</td>\n",
       "      <td>1.146272</td>\n",
       "    </tr>\n",
       "    <tr>\n",
       "      <th>2</th>\n",
       "      <td>Al Horford</td>\n",
       "      <td>UF</td>\n",
       "      <td>0.856177</td>\n",
       "      <td>1.177713</td>\n",
       "      <td>2.185728</td>\n",
       "    </tr>\n",
       "    <tr>\n",
       "      <th>3</th>\n",
       "      <td>Al-Farouq Aminu</td>\n",
       "      <td>WF</td>\n",
       "      <td>2.314099</td>\n",
       "      <td>2.143435</td>\n",
       "      <td>2.257304</td>\n",
       "    </tr>\n",
       "    <tr>\n",
       "      <th>4</th>\n",
       "      <td>Alec Burks</td>\n",
       "      <td>UCOL</td>\n",
       "      <td>1.905359</td>\n",
       "      <td>1.146369</td>\n",
       "      <td>2.019202</td>\n",
       "    </tr>\n",
       "  </tbody>\n",
       "</table>\n",
       "</div>"
      ],
      "text/plain": [
       "              Name   Team  LassoCVPred  LinearPred  RidgeCVPred\n",
       "0       A.J. Price  UConn     1.758375    1.386476     1.014273\n",
       "1       Aaron Gray   PITT     1.440590    1.323929     1.146272\n",
       "2       Al Horford     UF     0.856177    1.177713     2.185728\n",
       "3  Al-Farouq Aminu     WF     2.314099    2.143435     2.257304\n",
       "4       Alec Burks   UCOL     1.905359    1.146369     2.019202"
      ]
     },
     "execution_count": 241,
     "metadata": {},
     "output_type": "execute_result"
    }
   ],
   "source": [
    "names.head()"
   ]
  },
  {
   "cell_type": "code",
   "execution_count": 243,
   "metadata": {
    "collapsed": true
   },
   "outputs": [],
   "source": [
    "allpredictionsln = ln.predict(x[dfkbest.columns])\n",
    "allpredictionsrg = rg.predict(x[dfkbest1.columns])\n",
    "allpredictionsls = ls.predict(x[dfkbest1.columns])"
   ]
  }
 ],
 "metadata": {
  "kernelspec": {
   "display_name": "Python 2",
   "language": "python",
   "name": "python2"
  },
  "language_info": {
   "codemirror_mode": {
    "name": "ipython",
    "version": 2
   },
   "file_extension": ".py",
   "mimetype": "text/x-python",
   "name": "python",
   "nbconvert_exporter": "python",
   "pygments_lexer": "ipython2",
   "version": "2.7.13"
  }
 },
 "nbformat": 4,
 "nbformat_minor": 2
}
