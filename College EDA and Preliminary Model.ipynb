{
 "cells": [
  {
   "cell_type": "code",
   "execution_count": 1,
   "metadata": {
    "collapsed": true
   },
   "outputs": [],
   "source": [
    "import pandas as pd\n",
    "import numpy as np\n",
    "import matplotlib.pyplot as plt\n",
    "import seaborn as sns\n",
    "from sklearn.model_selection import train_test_split, GridSearchCV, StratifiedKFold, cross_val_score\n",
    "from sklearn.feature_selection import SelectKBest, RFE\n",
    "from sklearn.svm import SVR\n",
    "from sklearn.linear_model import LinearRegression, LassoCV, RidgeCV\n",
    "from sklearn.neighbors import KNeighborsRegressor\n",
    "from sklearn.tree import DecisionTreeRegressor\n",
    "from sklearn.ensemble import RandomForestRegressor, AdaBoostRegressor, BaggingRegressor, ExtraTreesRegressor, GradientBoostingRegressor\n",
    "from xgboost import XGBRegressor\n",
    "from sklearn import metrics\n",
    "%matplotlib inline"
   ]
  },
  {
   "cell_type": "markdown",
   "metadata": {},
   "source": [
    "**We will be using the average statistics of a player's college career, and the average statistics of a player's first five seasons in the NBA**"
   ]
  },
  {
   "cell_type": "code",
   "execution_count": 2,
   "metadata": {
    "collapsed": true
   },
   "outputs": [],
   "source": [
    "pd.set_option('display.max_columns',50)\n",
    "pd.set_option('display.max_rows',10000)"
   ]
  },
  {
   "cell_type": "code",
   "execution_count": 4,
   "metadata": {
    "collapsed": true
   },
   "outputs": [],
   "source": [
    "df = pd.read_csv('/Users/mattlee/GA-Capstone-Project/inputcollegeavg.csv')"
   ]
  },
  {
   "cell_type": "code",
   "execution_count": 4,
   "metadata": {
    "collapsed": true
   },
   "outputs": [],
   "source": [
    "target = pd.read_csv('/Users/mattlee/GA-Capstone-Project/avg5metricsedit.csv')"
   ]
  },
  {
   "cell_type": "code",
   "execution_count": 6,
   "metadata": {},
   "outputs": [
    {
     "data": {
      "text/html": [
       "<div>\n",
       "<table border=\"1\" class=\"dataframe\">\n",
       "  <thead>\n",
       "    <tr style=\"text-align: right;\">\n",
       "      <th></th>\n",
       "      <th>Name</th>\n",
       "      <th>Team</th>\n",
       "      <th>PPG</th>\n",
       "      <th>Games Played</th>\n",
       "      <th>MPG</th>\n",
       "      <th>FGM</th>\n",
       "      <th>FGA</th>\n",
       "      <th>FG%</th>\n",
       "      <th>FTM</th>\n",
       "      <th>FTA</th>\n",
       "      <th>FT%</th>\n",
       "      <th>3PM</th>\n",
       "      <th>3PA</th>\n",
       "      <th>3P%</th>\n",
       "      <th>ORB</th>\n",
       "      <th>DRB</th>\n",
       "      <th>RPG</th>\n",
       "      <th>APG</th>\n",
       "      <th>SPG</th>\n",
       "      <th>BPG</th>\n",
       "      <th>TOV</th>\n",
       "      <th>PF</th>\n",
       "      <th>Year</th>\n",
       "      <th>NBATeam</th>\n",
       "      <th>CollegeName</th>\n",
       "      <th>Age at Draft</th>\n",
       "      <th>Weight at Draft</th>\n",
       "      <th>Height Inches</th>\n",
       "    </tr>\n",
       "  </thead>\n",
       "  <tbody>\n",
       "    <tr>\n",
       "      <th>0</th>\n",
       "      <td>A.J. Price</td>\n",
       "      <td>UConn</td>\n",
       "      <td>12.466667</td>\n",
       "      <td>33.000000</td>\n",
       "      <td>29.30</td>\n",
       "      <td>4.166667</td>\n",
       "      <td>10.10</td>\n",
       "      <td>0.410667</td>\n",
       "      <td>2.633333</td>\n",
       "      <td>3.600000</td>\n",
       "      <td>0.719000</td>\n",
       "      <td>1.50</td>\n",
       "      <td>4.166667</td>\n",
       "      <td>0.348</td>\n",
       "      <td>0.800</td>\n",
       "      <td>2.433333</td>\n",
       "      <td>3.233333</td>\n",
       "      <td>4.566667</td>\n",
       "      <td>1.066667</td>\n",
       "      <td>0.066667</td>\n",
       "      <td>2.300000</td>\n",
       "      <td>1.300000</td>\n",
       "      <td>2009.0</td>\n",
       "      <td>IND</td>\n",
       "      <td>University of Connecticut</td>\n",
       "      <td>22.5</td>\n",
       "      <td>193.0</td>\n",
       "      <td>74.0</td>\n",
       "    </tr>\n",
       "    <tr>\n",
       "      <th>1</th>\n",
       "      <td>Aaron Gray</td>\n",
       "      <td>PITT</td>\n",
       "      <td>8.750000</td>\n",
       "      <td>28.250000</td>\n",
       "      <td>18.40</td>\n",
       "      <td>3.425000</td>\n",
       "      <td>6.25</td>\n",
       "      <td>0.554250</td>\n",
       "      <td>1.900000</td>\n",
       "      <td>3.175000</td>\n",
       "      <td>0.590500</td>\n",
       "      <td>0.00</td>\n",
       "      <td>0.000000</td>\n",
       "      <td>0.000</td>\n",
       "      <td>2.275</td>\n",
       "      <td>3.975000</td>\n",
       "      <td>6.275000</td>\n",
       "      <td>1.175000</td>\n",
       "      <td>0.300000</td>\n",
       "      <td>1.025000</td>\n",
       "      <td>1.350000</td>\n",
       "      <td>1.975000</td>\n",
       "      <td>2007.0</td>\n",
       "      <td>CHI</td>\n",
       "      <td>University of Pittsburgh</td>\n",
       "      <td>22.3</td>\n",
       "      <td>280.0</td>\n",
       "      <td>85.0</td>\n",
       "    </tr>\n",
       "    <tr>\n",
       "      <th>2</th>\n",
       "      <td>Al Horford</td>\n",
       "      <td>UF</td>\n",
       "      <td>9.866667</td>\n",
       "      <td>36.333333</td>\n",
       "      <td>25.50</td>\n",
       "      <td>3.766667</td>\n",
       "      <td>6.40</td>\n",
       "      <td>0.565333</td>\n",
       "      <td>2.433333</td>\n",
       "      <td>3.966667</td>\n",
       "      <td>0.612333</td>\n",
       "      <td>0.00</td>\n",
       "      <td>0.066667</td>\n",
       "      <td>0.000</td>\n",
       "      <td>2.300</td>\n",
       "      <td>5.500000</td>\n",
       "      <td>7.766667</td>\n",
       "      <td>1.633333</td>\n",
       "      <td>0.833333</td>\n",
       "      <td>1.700000</td>\n",
       "      <td>1.533333</td>\n",
       "      <td>2.433333</td>\n",
       "      <td>2007.0</td>\n",
       "      <td>ATL</td>\n",
       "      <td>University of Florida</td>\n",
       "      <td>20.8</td>\n",
       "      <td>246.0</td>\n",
       "      <td>82.0</td>\n",
       "    </tr>\n",
       "    <tr>\n",
       "      <th>3</th>\n",
       "      <td>Al-Farouq Aminu</td>\n",
       "      <td>WF</td>\n",
       "      <td>13.300000</td>\n",
       "      <td>31.000000</td>\n",
       "      <td>30.15</td>\n",
       "      <td>4.650000</td>\n",
       "      <td>9.80</td>\n",
       "      <td>0.481500</td>\n",
       "      <td>3.600000</td>\n",
       "      <td>5.200000</td>\n",
       "      <td>0.684500</td>\n",
       "      <td>0.40</td>\n",
       "      <td>1.550000</td>\n",
       "      <td>0.226</td>\n",
       "      <td>3.050</td>\n",
       "      <td>5.650000</td>\n",
       "      <td>8.700000</td>\n",
       "      <td>1.300000</td>\n",
       "      <td>1.150000</td>\n",
       "      <td>1.250000</td>\n",
       "      <td>2.650000</td>\n",
       "      <td>2.550000</td>\n",
       "      <td>2010.0</td>\n",
       "      <td>LAC</td>\n",
       "      <td>Wake Forest University</td>\n",
       "      <td>19.5</td>\n",
       "      <td>216.0</td>\n",
       "      <td>80.0</td>\n",
       "    </tr>\n",
       "    <tr>\n",
       "      <th>4</th>\n",
       "      <td>Alec Burks</td>\n",
       "      <td>UCOL</td>\n",
       "      <td>18.450000</td>\n",
       "      <td>34.000000</td>\n",
       "      <td>30.80</td>\n",
       "      <td>6.100000</td>\n",
       "      <td>12.20</td>\n",
       "      <td>0.503000</td>\n",
       "      <td>5.650000</td>\n",
       "      <td>7.100000</td>\n",
       "      <td>0.798500</td>\n",
       "      <td>0.65</td>\n",
       "      <td>2.150000</td>\n",
       "      <td>0.322</td>\n",
       "      <td>2.100</td>\n",
       "      <td>3.500000</td>\n",
       "      <td>5.650000</td>\n",
       "      <td>2.300000</td>\n",
       "      <td>1.150000</td>\n",
       "      <td>0.350000</td>\n",
       "      <td>2.200000</td>\n",
       "      <td>2.350000</td>\n",
       "      <td>2011.0</td>\n",
       "      <td>UTA</td>\n",
       "      <td>University of Colorado</td>\n",
       "      <td>19.7</td>\n",
       "      <td>193.0</td>\n",
       "      <td>78.0</td>\n",
       "    </tr>\n",
       "  </tbody>\n",
       "</table>\n",
       "</div>"
      ],
      "text/plain": [
       "              Name   Team        PPG  Games Played    MPG       FGM    FGA  \\\n",
       "0       A.J. Price  UConn  12.466667     33.000000  29.30  4.166667  10.10   \n",
       "1       Aaron Gray   PITT   8.750000     28.250000  18.40  3.425000   6.25   \n",
       "2       Al Horford     UF   9.866667     36.333333  25.50  3.766667   6.40   \n",
       "3  Al-Farouq Aminu     WF  13.300000     31.000000  30.15  4.650000   9.80   \n",
       "4       Alec Burks   UCOL  18.450000     34.000000  30.80  6.100000  12.20   \n",
       "\n",
       "        FG%       FTM       FTA       FT%   3PM       3PA    3P%    ORB  \\\n",
       "0  0.410667  2.633333  3.600000  0.719000  1.50  4.166667  0.348  0.800   \n",
       "1  0.554250  1.900000  3.175000  0.590500  0.00  0.000000  0.000  2.275   \n",
       "2  0.565333  2.433333  3.966667  0.612333  0.00  0.066667  0.000  2.300   \n",
       "3  0.481500  3.600000  5.200000  0.684500  0.40  1.550000  0.226  3.050   \n",
       "4  0.503000  5.650000  7.100000  0.798500  0.65  2.150000  0.322  2.100   \n",
       "\n",
       "        DRB       RPG       APG       SPG       BPG       TOV        PF  \\\n",
       "0  2.433333  3.233333  4.566667  1.066667  0.066667  2.300000  1.300000   \n",
       "1  3.975000  6.275000  1.175000  0.300000  1.025000  1.350000  1.975000   \n",
       "2  5.500000  7.766667  1.633333  0.833333  1.700000  1.533333  2.433333   \n",
       "3  5.650000  8.700000  1.300000  1.150000  1.250000  2.650000  2.550000   \n",
       "4  3.500000  5.650000  2.300000  1.150000  0.350000  2.200000  2.350000   \n",
       "\n",
       "     Year NBATeam                CollegeName  Age at Draft  Weight at Draft  \\\n",
       "0  2009.0     IND  University of Connecticut          22.5            193.0   \n",
       "1  2007.0     CHI   University of Pittsburgh          22.3            280.0   \n",
       "2  2007.0     ATL      University of Florida          20.8            246.0   \n",
       "3  2010.0     LAC     Wake Forest University          19.5            216.0   \n",
       "4  2011.0     UTA     University of Colorado          19.7            193.0   \n",
       "\n",
       "   Height Inches  \n",
       "0           74.0  \n",
       "1           85.0  \n",
       "2           82.0  \n",
       "3           80.0  \n",
       "4           78.0  "
      ]
     },
     "execution_count": 6,
     "metadata": {},
     "output_type": "execute_result"
    }
   ],
   "source": [
    "df.head()"
   ]
  },
  {
   "cell_type": "code",
   "execution_count": 7,
   "metadata": {},
   "outputs": [
    {
     "data": {
      "text/html": [
       "<div>\n",
       "<table border=\"1\" class=\"dataframe\">\n",
       "  <thead>\n",
       "    <tr style=\"text-align: right;\">\n",
       "      <th></th>\n",
       "      <th>Name</th>\n",
       "      <th>G</th>\n",
       "      <th>MP</th>\n",
       "      <th>PER</th>\n",
       "      <th>TS%</th>\n",
       "      <th>3PAr</th>\n",
       "      <th>FTr</th>\n",
       "      <th>ORB%</th>\n",
       "      <th>DRB%</th>\n",
       "      <th>TRB%</th>\n",
       "      <th>AST%</th>\n",
       "      <th>STL%</th>\n",
       "      <th>BLK%</th>\n",
       "      <th>TOV%</th>\n",
       "      <th>USG%</th>\n",
       "      <th>OWS</th>\n",
       "      <th>DWS</th>\n",
       "      <th>WS</th>\n",
       "      <th>WS/48</th>\n",
       "      <th>OBPM</th>\n",
       "      <th>DBPM</th>\n",
       "      <th>BPM</th>\n",
       "      <th>VORP</th>\n",
       "      <th>eFG%</th>\n",
       "    </tr>\n",
       "  </thead>\n",
       "  <tbody>\n",
       "    <tr>\n",
       "      <th>0</th>\n",
       "      <td>A.J. Price</td>\n",
       "      <td>47.0</td>\n",
       "      <td>721.0</td>\n",
       "      <td>11.66</td>\n",
       "      <td>0.4816</td>\n",
       "      <td>0.4852</td>\n",
       "      <td>0.1718</td>\n",
       "      <td>1.84</td>\n",
       "      <td>9.06</td>\n",
       "      <td>5.40</td>\n",
       "      <td>23.00</td>\n",
       "      <td>1.50</td>\n",
       "      <td>0.16</td>\n",
       "      <td>13.28</td>\n",
       "      <td>20.86</td>\n",
       "      <td>1.1</td>\n",
       "      <td>3.2</td>\n",
       "      <td>4.4</td>\n",
       "      <td>0.0440</td>\n",
       "      <td>-0.66</td>\n",
       "      <td>-2.32</td>\n",
       "      <td>-2.98</td>\n",
       "      <td>-0.3</td>\n",
       "      <td>0.4562</td>\n",
       "    </tr>\n",
       "    <tr>\n",
       "      <th>1</th>\n",
       "      <td>Aaron Gray</td>\n",
       "      <td>47.8</td>\n",
       "      <td>596.6</td>\n",
       "      <td>12.82</td>\n",
       "      <td>0.5360</td>\n",
       "      <td>0.0022</td>\n",
       "      <td>0.3628</td>\n",
       "      <td>13.64</td>\n",
       "      <td>23.52</td>\n",
       "      <td>18.56</td>\n",
       "      <td>8.36</td>\n",
       "      <td>1.38</td>\n",
       "      <td>2.02</td>\n",
       "      <td>19.14</td>\n",
       "      <td>15.90</td>\n",
       "      <td>1.5</td>\n",
       "      <td>4.1</td>\n",
       "      <td>5.5</td>\n",
       "      <td>0.0952</td>\n",
       "      <td>-2.34</td>\n",
       "      <td>1.00</td>\n",
       "      <td>-1.32</td>\n",
       "      <td>0.3</td>\n",
       "      <td>0.5168</td>\n",
       "    </tr>\n",
       "    <tr>\n",
       "      <th>2</th>\n",
       "      <td>Aaron Mckie</td>\n",
       "      <td>68.0</td>\n",
       "      <td>1496.6</td>\n",
       "      <td>11.76</td>\n",
       "      <td>0.4844</td>\n",
       "      <td>0.1694</td>\n",
       "      <td>0.2526</td>\n",
       "      <td>3.80</td>\n",
       "      <td>12.56</td>\n",
       "      <td>8.14</td>\n",
       "      <td>15.76</td>\n",
       "      <td>2.70</td>\n",
       "      <td>0.78</td>\n",
       "      <td>15.48</td>\n",
       "      <td>15.44</td>\n",
       "      <td>3.1</td>\n",
       "      <td>10.5</td>\n",
       "      <td>13.8</td>\n",
       "      <td>0.0898</td>\n",
       "      <td>-1.60</td>\n",
       "      <td>1.54</td>\n",
       "      <td>-0.04</td>\n",
       "      <td>3.7</td>\n",
       "      <td>0.4442</td>\n",
       "    </tr>\n",
       "    <tr>\n",
       "      <th>3</th>\n",
       "      <td>Adam Keefe</td>\n",
       "      <td>72.8</td>\n",
       "      <td>1241.0</td>\n",
       "      <td>13.24</td>\n",
       "      <td>0.5694</td>\n",
       "      <td>0.0042</td>\n",
       "      <td>0.5914</td>\n",
       "      <td>12.16</td>\n",
       "      <td>18.62</td>\n",
       "      <td>15.42</td>\n",
       "      <td>5.48</td>\n",
       "      <td>1.58</td>\n",
       "      <td>1.26</td>\n",
       "      <td>16.96</td>\n",
       "      <td>15.18</td>\n",
       "      <td>7.9</td>\n",
       "      <td>7.8</td>\n",
       "      <td>15.7</td>\n",
       "      <td>0.1190</td>\n",
       "      <td>-1.04</td>\n",
       "      <td>0.50</td>\n",
       "      <td>-0.54</td>\n",
       "      <td>2.9</td>\n",
       "      <td>0.5122</td>\n",
       "    </tr>\n",
       "    <tr>\n",
       "      <th>4</th>\n",
       "      <td>Adonal Foyle</td>\n",
       "      <td>62.4</td>\n",
       "      <td>1173.2</td>\n",
       "      <td>11.74</td>\n",
       "      <td>0.4470</td>\n",
       "      <td>0.0012</td>\n",
       "      <td>0.2892</td>\n",
       "      <td>11.30</td>\n",
       "      <td>18.60</td>\n",
       "      <td>14.80</td>\n",
       "      <td>4.34</td>\n",
       "      <td>1.08</td>\n",
       "      <td>6.34</td>\n",
       "      <td>16.78</td>\n",
       "      <td>13.94</td>\n",
       "      <td>-1.4</td>\n",
       "      <td>6.2</td>\n",
       "      <td>4.8</td>\n",
       "      <td>0.0388</td>\n",
       "      <td>-4.54</td>\n",
       "      <td>2.48</td>\n",
       "      <td>-2.08</td>\n",
       "      <td>0.2</td>\n",
       "      <td>0.4408</td>\n",
       "    </tr>\n",
       "  </tbody>\n",
       "</table>\n",
       "</div>"
      ],
      "text/plain": [
       "           Name     G      MP    PER     TS%    3PAr     FTr   ORB%   DRB%  \\\n",
       "0    A.J. Price  47.0   721.0  11.66  0.4816  0.4852  0.1718   1.84   9.06   \n",
       "1    Aaron Gray  47.8   596.6  12.82  0.5360  0.0022  0.3628  13.64  23.52   \n",
       "2   Aaron Mckie  68.0  1496.6  11.76  0.4844  0.1694  0.2526   3.80  12.56   \n",
       "3    Adam Keefe  72.8  1241.0  13.24  0.5694  0.0042  0.5914  12.16  18.62   \n",
       "4  Adonal Foyle  62.4  1173.2  11.74  0.4470  0.0012  0.2892  11.30  18.60   \n",
       "\n",
       "    TRB%   AST%  STL%  BLK%   TOV%   USG%  OWS   DWS    WS   WS/48  OBPM  \\\n",
       "0   5.40  23.00  1.50  0.16  13.28  20.86  1.1   3.2   4.4  0.0440 -0.66   \n",
       "1  18.56   8.36  1.38  2.02  19.14  15.90  1.5   4.1   5.5  0.0952 -2.34   \n",
       "2   8.14  15.76  2.70  0.78  15.48  15.44  3.1  10.5  13.8  0.0898 -1.60   \n",
       "3  15.42   5.48  1.58  1.26  16.96  15.18  7.9   7.8  15.7  0.1190 -1.04   \n",
       "4  14.80   4.34  1.08  6.34  16.78  13.94 -1.4   6.2   4.8  0.0388 -4.54   \n",
       "\n",
       "   DBPM   BPM  VORP    eFG%  \n",
       "0 -2.32 -2.98  -0.3  0.4562  \n",
       "1  1.00 -1.32   0.3  0.5168  \n",
       "2  1.54 -0.04   3.7  0.4442  \n",
       "3  0.50 -0.54   2.9  0.5122  \n",
       "4  2.48 -2.08   0.2  0.4408  "
      ]
     },
     "execution_count": 7,
     "metadata": {},
     "output_type": "execute_result"
    }
   ],
   "source": [
    "target.head()"
   ]
  },
  {
   "cell_type": "markdown",
   "metadata": {},
   "source": [
    "**For overall skill list, we are considering PER, WS, WS/48, BPM, VORP. Lets only take these target metrics and merge them with the data and do some exploration**"
   ]
  },
  {
   "cell_type": "code",
   "execution_count": 8,
   "metadata": {
    "collapsed": true
   },
   "outputs": [],
   "source": [
    "data = pd.merge(df,target[['Name','PER','WS','WS/48','BPM','VORP']], on = 'Name', how = 'left')"
   ]
  },
  {
   "cell_type": "code",
   "execution_count": 11,
   "metadata": {},
   "outputs": [
    {
     "data": {
      "text/html": [
       "<div>\n",
       "<table border=\"1\" class=\"dataframe\">\n",
       "  <thead>\n",
       "    <tr style=\"text-align: right;\">\n",
       "      <th></th>\n",
       "      <th>Name</th>\n",
       "      <th>Team</th>\n",
       "      <th>PPG</th>\n",
       "      <th>Games Played</th>\n",
       "      <th>MPG</th>\n",
       "      <th>FGM</th>\n",
       "      <th>FGA</th>\n",
       "      <th>FG%</th>\n",
       "      <th>FTM</th>\n",
       "      <th>FTA</th>\n",
       "      <th>FT%</th>\n",
       "      <th>3PM</th>\n",
       "      <th>3PA</th>\n",
       "      <th>3P%</th>\n",
       "      <th>ORB</th>\n",
       "      <th>DRB</th>\n",
       "      <th>RPG</th>\n",
       "      <th>APG</th>\n",
       "      <th>SPG</th>\n",
       "      <th>BPG</th>\n",
       "      <th>TOV</th>\n",
       "      <th>PF</th>\n",
       "      <th>Year</th>\n",
       "      <th>NBATeam</th>\n",
       "      <th>CollegeName</th>\n",
       "      <th>Age at Draft</th>\n",
       "      <th>Weight at Draft</th>\n",
       "      <th>Height Inches</th>\n",
       "      <th>PER</th>\n",
       "      <th>WS</th>\n",
       "      <th>WS/48</th>\n",
       "      <th>BPM</th>\n",
       "      <th>VORP</th>\n",
       "    </tr>\n",
       "  </thead>\n",
       "  <tbody>\n",
       "    <tr>\n",
       "      <th>0</th>\n",
       "      <td>A.J. Price</td>\n",
       "      <td>UConn</td>\n",
       "      <td>12.466667</td>\n",
       "      <td>33.000000</td>\n",
       "      <td>29.30</td>\n",
       "      <td>4.166667</td>\n",
       "      <td>10.10</td>\n",
       "      <td>0.410667</td>\n",
       "      <td>2.633333</td>\n",
       "      <td>3.600000</td>\n",
       "      <td>0.719000</td>\n",
       "      <td>1.50</td>\n",
       "      <td>4.166667</td>\n",
       "      <td>0.348</td>\n",
       "      <td>0.800</td>\n",
       "      <td>2.433333</td>\n",
       "      <td>3.233333</td>\n",
       "      <td>4.566667</td>\n",
       "      <td>1.066667</td>\n",
       "      <td>0.066667</td>\n",
       "      <td>2.300000</td>\n",
       "      <td>1.300000</td>\n",
       "      <td>2009.0</td>\n",
       "      <td>IND</td>\n",
       "      <td>University of Connecticut</td>\n",
       "      <td>22.5</td>\n",
       "      <td>193.0</td>\n",
       "      <td>74.0</td>\n",
       "      <td>11.66</td>\n",
       "      <td>4.4</td>\n",
       "      <td>0.0440</td>\n",
       "      <td>-2.98</td>\n",
       "      <td>-0.3</td>\n",
       "    </tr>\n",
       "    <tr>\n",
       "      <th>1</th>\n",
       "      <td>Aaron Gray</td>\n",
       "      <td>PITT</td>\n",
       "      <td>8.750000</td>\n",
       "      <td>28.250000</td>\n",
       "      <td>18.40</td>\n",
       "      <td>3.425000</td>\n",
       "      <td>6.25</td>\n",
       "      <td>0.554250</td>\n",
       "      <td>1.900000</td>\n",
       "      <td>3.175000</td>\n",
       "      <td>0.590500</td>\n",
       "      <td>0.00</td>\n",
       "      <td>0.000000</td>\n",
       "      <td>0.000</td>\n",
       "      <td>2.275</td>\n",
       "      <td>3.975000</td>\n",
       "      <td>6.275000</td>\n",
       "      <td>1.175000</td>\n",
       "      <td>0.300000</td>\n",
       "      <td>1.025000</td>\n",
       "      <td>1.350000</td>\n",
       "      <td>1.975000</td>\n",
       "      <td>2007.0</td>\n",
       "      <td>CHI</td>\n",
       "      <td>University of Pittsburgh</td>\n",
       "      <td>22.3</td>\n",
       "      <td>280.0</td>\n",
       "      <td>85.0</td>\n",
       "      <td>12.82</td>\n",
       "      <td>5.5</td>\n",
       "      <td>0.0952</td>\n",
       "      <td>-1.32</td>\n",
       "      <td>0.3</td>\n",
       "    </tr>\n",
       "    <tr>\n",
       "      <th>2</th>\n",
       "      <td>Al Horford</td>\n",
       "      <td>UF</td>\n",
       "      <td>9.866667</td>\n",
       "      <td>36.333333</td>\n",
       "      <td>25.50</td>\n",
       "      <td>3.766667</td>\n",
       "      <td>6.40</td>\n",
       "      <td>0.565333</td>\n",
       "      <td>2.433333</td>\n",
       "      <td>3.966667</td>\n",
       "      <td>0.612333</td>\n",
       "      <td>0.00</td>\n",
       "      <td>0.066667</td>\n",
       "      <td>0.000</td>\n",
       "      <td>2.300</td>\n",
       "      <td>5.500000</td>\n",
       "      <td>7.766667</td>\n",
       "      <td>1.633333</td>\n",
       "      <td>0.833333</td>\n",
       "      <td>1.700000</td>\n",
       "      <td>1.533333</td>\n",
       "      <td>2.433333</td>\n",
       "      <td>2007.0</td>\n",
       "      <td>ATL</td>\n",
       "      <td>University of Florida</td>\n",
       "      <td>20.8</td>\n",
       "      <td>246.0</td>\n",
       "      <td>82.0</td>\n",
       "      <td>18.16</td>\n",
       "      <td>34.6</td>\n",
       "      <td>0.1580</td>\n",
       "      <td>2.52</td>\n",
       "      <td>12.3</td>\n",
       "    </tr>\n",
       "    <tr>\n",
       "      <th>3</th>\n",
       "      <td>Al-Farouq Aminu</td>\n",
       "      <td>WF</td>\n",
       "      <td>13.300000</td>\n",
       "      <td>31.000000</td>\n",
       "      <td>30.15</td>\n",
       "      <td>4.650000</td>\n",
       "      <td>9.80</td>\n",
       "      <td>0.481500</td>\n",
       "      <td>3.600000</td>\n",
       "      <td>5.200000</td>\n",
       "      <td>0.684500</td>\n",
       "      <td>0.40</td>\n",
       "      <td>1.550000</td>\n",
       "      <td>0.226</td>\n",
       "      <td>3.050</td>\n",
       "      <td>5.650000</td>\n",
       "      <td>8.700000</td>\n",
       "      <td>1.300000</td>\n",
       "      <td>1.150000</td>\n",
       "      <td>1.250000</td>\n",
       "      <td>2.650000</td>\n",
       "      <td>2.550000</td>\n",
       "      <td>2010.0</td>\n",
       "      <td>LAC</td>\n",
       "      <td>Wake Forest University</td>\n",
       "      <td>19.5</td>\n",
       "      <td>216.0</td>\n",
       "      <td>80.0</td>\n",
       "      <td>12.30</td>\n",
       "      <td>11.6</td>\n",
       "      <td>0.0652</td>\n",
       "      <td>-0.36</td>\n",
       "      <td>3.5</td>\n",
       "    </tr>\n",
       "    <tr>\n",
       "      <th>4</th>\n",
       "      <td>Alec Burks</td>\n",
       "      <td>UCOL</td>\n",
       "      <td>18.450000</td>\n",
       "      <td>34.000000</td>\n",
       "      <td>30.80</td>\n",
       "      <td>6.100000</td>\n",
       "      <td>12.20</td>\n",
       "      <td>0.503000</td>\n",
       "      <td>5.650000</td>\n",
       "      <td>7.100000</td>\n",
       "      <td>0.798500</td>\n",
       "      <td>0.65</td>\n",
       "      <td>2.150000</td>\n",
       "      <td>0.322</td>\n",
       "      <td>2.100</td>\n",
       "      <td>3.500000</td>\n",
       "      <td>5.650000</td>\n",
       "      <td>2.300000</td>\n",
       "      <td>1.150000</td>\n",
       "      <td>0.350000</td>\n",
       "      <td>2.200000</td>\n",
       "      <td>2.350000</td>\n",
       "      <td>2011.0</td>\n",
       "      <td>UTA</td>\n",
       "      <td>University of Colorado</td>\n",
       "      <td>19.7</td>\n",
       "      <td>193.0</td>\n",
       "      <td>78.0</td>\n",
       "      <td>13.72</td>\n",
       "      <td>8.9</td>\n",
       "      <td>0.0738</td>\n",
       "      <td>-2.10</td>\n",
       "      <td>0.2</td>\n",
       "    </tr>\n",
       "  </tbody>\n",
       "</table>\n",
       "</div>"
      ],
      "text/plain": [
       "              Name   Team        PPG  Games Played    MPG       FGM    FGA  \\\n",
       "0       A.J. Price  UConn  12.466667     33.000000  29.30  4.166667  10.10   \n",
       "1       Aaron Gray   PITT   8.750000     28.250000  18.40  3.425000   6.25   \n",
       "2       Al Horford     UF   9.866667     36.333333  25.50  3.766667   6.40   \n",
       "3  Al-Farouq Aminu     WF  13.300000     31.000000  30.15  4.650000   9.80   \n",
       "4       Alec Burks   UCOL  18.450000     34.000000  30.80  6.100000  12.20   \n",
       "\n",
       "        FG%       FTM       FTA       FT%   3PM       3PA    3P%    ORB  \\\n",
       "0  0.410667  2.633333  3.600000  0.719000  1.50  4.166667  0.348  0.800   \n",
       "1  0.554250  1.900000  3.175000  0.590500  0.00  0.000000  0.000  2.275   \n",
       "2  0.565333  2.433333  3.966667  0.612333  0.00  0.066667  0.000  2.300   \n",
       "3  0.481500  3.600000  5.200000  0.684500  0.40  1.550000  0.226  3.050   \n",
       "4  0.503000  5.650000  7.100000  0.798500  0.65  2.150000  0.322  2.100   \n",
       "\n",
       "        DRB       RPG       APG       SPG       BPG       TOV        PF  \\\n",
       "0  2.433333  3.233333  4.566667  1.066667  0.066667  2.300000  1.300000   \n",
       "1  3.975000  6.275000  1.175000  0.300000  1.025000  1.350000  1.975000   \n",
       "2  5.500000  7.766667  1.633333  0.833333  1.700000  1.533333  2.433333   \n",
       "3  5.650000  8.700000  1.300000  1.150000  1.250000  2.650000  2.550000   \n",
       "4  3.500000  5.650000  2.300000  1.150000  0.350000  2.200000  2.350000   \n",
       "\n",
       "     Year NBATeam                CollegeName  Age at Draft  Weight at Draft  \\\n",
       "0  2009.0     IND  University of Connecticut          22.5            193.0   \n",
       "1  2007.0     CHI   University of Pittsburgh          22.3            280.0   \n",
       "2  2007.0     ATL      University of Florida          20.8            246.0   \n",
       "3  2010.0     LAC     Wake Forest University          19.5            216.0   \n",
       "4  2011.0     UTA     University of Colorado          19.7            193.0   \n",
       "\n",
       "   Height Inches    PER    WS   WS/48   BPM  VORP  \n",
       "0           74.0  11.66   4.4  0.0440 -2.98  -0.3  \n",
       "1           85.0  12.82   5.5  0.0952 -1.32   0.3  \n",
       "2           82.0  18.16  34.6  0.1580  2.52  12.3  \n",
       "3           80.0  12.30  11.6  0.0652 -0.36   3.5  \n",
       "4           78.0  13.72   8.9  0.0738 -2.10   0.2  "
      ]
     },
     "execution_count": 11,
     "metadata": {},
     "output_type": "execute_result"
    }
   ],
   "source": [
    "data.head()"
   ]
  },
  {
   "cell_type": "code",
   "execution_count": 14,
   "metadata": {},
   "outputs": [
    {
     "data": {
      "text/plain": [
       "<matplotlib.axes._subplots.AxesSubplot at 0x116e10050>"
      ]
     },
     "execution_count": 14,
     "metadata": {},
     "output_type": "execute_result"
    },
    {
     "data": {
      "image/png": "[encoded data removed]",
      "text/plain": [
       "<matplotlib.figure.Figure at 0x116d7f390>"
      ]
     },
     "metadata": {},
     "output_type": "display_data"
    }
   ],
   "source": [
    "sns.heatmap(data.corr())"
   ]
  },
  {
   "cell_type": "markdown",
   "metadata": {},
   "source": [
    "**There are a few notable features that correlate with the metrics, such as SPG, FTA, FG%, ORB, and RPG**"
   ]
  },
  {
   "cell_type": "code",
   "execution_count": 15,
   "metadata": {},
   "outputs": [
    {
     "data": {
      "text/plain": [
       "(array([  3.,   5.,  24.,  59.,  61.,  44.,  23.,  13.,   2.,   2.]),\n",
       " array([  4.25 ,   6.455,   8.66 ,  10.865,  13.07 ,  15.275,  17.48 ,\n",
       "         19.685,  21.89 ,  24.095,  26.3  ]),\n",
       " <a list of 10 Patch objects>)"
      ]
     },
     "execution_count": 15,
     "metadata": {},
     "output_type": "execute_result"
    },
    {
     "data": {
      "image/png": "[encoded data removed]",
      "text/plain": [
       "<matplotlib.figure.Figure at 0x116d7f550>"
      ]
     },
     "metadata": {},
     "output_type": "display_data"
    }
   ],
   "source": [
    "plt.hist(data['PER'])"
   ]
  },
  {
   "cell_type": "markdown",
   "metadata": {},
   "source": [
    "**Fairly uniform distribution of PER**"
   ]
  },
  {
   "cell_type": "code",
   "execution_count": 16,
   "metadata": {},
   "outputs": [
    {
     "data": {
      "text/plain": [
       "(array([ 37.,  62.,  54.,  34.,  18.,  18.,   8.,   3.,   1.,   1.]),\n",
       " array([ -1.  ,   5.36,  11.72,  18.08,  24.44,  30.8 ,  37.16,  43.52,\n",
       "         49.88,  56.24,  62.6 ]),\n",
       " <a list of 10 Patch objects>)"
      ]
     },
     "execution_count": 16,
     "metadata": {},
     "output_type": "execute_result"
    },
    {
     "data": {
      "image/png": "[encoded data removed]",
      "text/plain": [
       "<matplotlib.figure.Figure at 0x11a487c90>"
      ]
     },
     "metadata": {},
     "output_type": "display_data"
    }
   ],
   "source": [
    "plt.hist(data['WS'])"
   ]
  },
  {
   "cell_type": "markdown",
   "metadata": {},
   "source": [
    "**Win Shares are skewed right**"
   ]
  },
  {
   "cell_type": "code",
   "execution_count": 17,
   "metadata": {},
   "outputs": [
    {
     "data": {
      "text/plain": [
       "(array([  2.,   1.,   2.,  14.,  44.,  74.,  59.,  30.,   7.,   3.]),\n",
       " array([-0.09533333, -0.06306   , -0.03078667,  0.00148667,  0.03376   ,\n",
       "         0.06603333,  0.09830667,  0.13058   ,  0.16285333,  0.19512667,\n",
       "         0.2274    ]),\n",
       " <a list of 10 Patch objects>)"
      ]
     },
     "execution_count": 17,
     "metadata": {},
     "output_type": "execute_result"
    },
    {
     "data": {
      "image/png": "[encoded data removed]",
      "text/plain": [
       "<matplotlib.figure.Figure at 0x11a5db790>"
      ]
     },
     "metadata": {},
     "output_type": "display_data"
    }
   ],
   "source": [
    "plt.hist(data['WS/48'])"
   ]
  },
  {
   "cell_type": "markdown",
   "metadata": {},
   "source": [
    "**Win shares per 48 minutes is more uniform**"
   ]
  },
  {
   "cell_type": "code",
   "execution_count": 18,
   "metadata": {},
   "outputs": [
    {
     "data": {
      "text/plain": [
       "(array([  2.,   2.,   4.,  30.,  62.,  72.,  42.,  16.,   4.,   2.]),\n",
       " array([-9.925 , -8.2125, -6.5   , -4.7875, -3.075 , -1.3625,  0.35  ,\n",
       "         2.0625,  3.775 ,  5.4875,  7.2   ]),\n",
       " <a list of 10 Patch objects>)"
      ]
     },
     "execution_count": 18,
     "metadata": {},
     "output_type": "execute_result"
    },
    {
     "data": {
      "image/png": "[encoded data removed]",
      "text/plain": [
       "<matplotlib.figure.Figure at 0x11a6d6990>"
      ]
     },
     "metadata": {},
     "output_type": "display_data"
    }
   ],
   "source": [
    "plt.hist(data['BPM'])"
   ]
  },
  {
   "cell_type": "markdown",
   "metadata": {},
   "source": [
    "**Fairly uniform distribution of BPM**"
   ]
  },
  {
   "cell_type": "code",
   "execution_count": 19,
   "metadata": {},
   "outputs": [
    {
     "data": {
      "text/plain": [
       "(array([ 30.,  88.,  58.,  24.,  21.,   5.,   8.,   1.,   0.,   1.]),\n",
       " array([ -4.4 ,  -0.85,   2.7 ,   6.25,   9.8 ,  13.35,  16.9 ,  20.45,\n",
       "         24.  ,  27.55,  31.1 ]),\n",
       " <a list of 10 Patch objects>)"
      ]
     },
     "execution_count": 19,
     "metadata": {},
     "output_type": "execute_result"
    },
    {
     "data": {
      "image/png": "[encoded data removed]",
      "text/plain": [
       "<matplotlib.figure.Figure at 0x11a82b150>"
      ]
     },
     "metadata": {},
     "output_type": "display_data"
    }
   ],
   "source": [
    "plt.hist(data['VORP'])"
   ]
  },
  {
   "cell_type": "markdown",
   "metadata": {},
   "source": [
    "**VORP is skewed right**"
   ]
  },
  {
   "cell_type": "code",
   "execution_count": 20,
   "metadata": {},
   "outputs": [
    {
     "data": {
      "text/plain": [
       "(array([ 14.,  43.,  41.,  48.,  31.,  32.,  11.,  10.,   4.,   2.]),\n",
       " array([ 0.2 ,  0.46,  0.72,  0.98,  1.24,  1.5 ,  1.76,  2.02,  2.28,\n",
       "         2.54,  2.8 ]),\n",
       " <a list of 10 Patch objects>)"
      ]
     },
     "execution_count": 20,
     "metadata": {},
     "output_type": "execute_result"
    },
    {
     "data": {
      "image/png": "[encoded data removed]",
      "text/plain": [
       "<matplotlib.figure.Figure at 0x11a97dc10>"
      ]
     },
     "metadata": {},
     "output_type": "display_data"
    }
   ],
   "source": [
    "plt.hist(data['SPG'])"
   ]
  },
  {
   "cell_type": "code",
   "execution_count": 21,
   "metadata": {},
   "outputs": [
    {
     "data": {
      "text/plain": [
       "(array([ 12.,  35.,  60.,  39.,  37.,  20.,  14.,   9.,   6.,   4.]),\n",
       " array([ 1.425 ,  2.2275,  3.03  ,  3.8325,  4.635 ,  5.4375,  6.24  ,\n",
       "         7.0425,  7.845 ,  8.6475,  9.45  ]),\n",
       " <a list of 10 Patch objects>)"
      ]
     },
     "execution_count": 21,
     "metadata": {},
     "output_type": "execute_result"
    },
    {
     "data": {
      "image/png": "[encoded data removed]",
      "text/plain": [
       "<matplotlib.figure.Figure at 0x11a9bbf90>"
      ]
     },
     "metadata": {},
     "output_type": "display_data"
    }
   ],
   "source": [
    "plt.hist(data['FTA'])"
   ]
  },
  {
   "cell_type": "code",
   "execution_count": 22,
   "metadata": {},
   "outputs": [
    {
     "data": {
      "text/plain": [
       "(array([ 17.,  32.,  47.,  37.,  31.,  24.,  21.,  12.,   9.,   6.]),\n",
       " array([ 0.394  ,  0.41935,  0.4447 ,  0.47005,  0.4954 ,  0.52075,\n",
       "         0.5461 ,  0.57145,  0.5968 ,  0.62215,  0.6475 ]),\n",
       " <a list of 10 Patch objects>)"
      ]
     },
     "execution_count": 22,
     "metadata": {},
     "output_type": "execute_result"
    },
    {
     "data": {
      "image/png": "[encoded data removed]",
      "text/plain": [
       "<matplotlib.figure.Figure at 0x11ac08610>"
      ]
     },
     "metadata": {},
     "output_type": "display_data"
    }
   ],
   "source": [
    "plt.hist(data['FG%'])"
   ]
  },
  {
   "cell_type": "code",
   "execution_count": 23,
   "metadata": {},
   "outputs": [
    {
     "data": {
      "text/plain": [
       "(array([ 45.,  39.,  38.,  44.,  32.,  23.,  10.,   1.,   2.,   2.]),\n",
       " array([ 0.3       ,  0.81333333,  1.32666667,  1.84      ,  2.35333333,\n",
       "         2.86666667,  3.38      ,  3.89333333,  4.40666667,  4.92      ,\n",
       "         5.43333333]),\n",
       " <a list of 10 Patch objects>)"
      ]
     },
     "execution_count": 23,
     "metadata": {},
     "output_type": "execute_result"
    },
    {
     "data": {
      "image/png": "[encoded data removed]",
      "text/plain": [
       "<matplotlib.figure.Figure at 0x11ad55fd0>"
      ]
     },
     "metadata": {},
     "output_type": "display_data"
    }
   ],
   "source": [
    "plt.hist(data['ORB'])"
   ]
  },
  {
   "cell_type": "code",
   "execution_count": 24,
   "metadata": {},
   "outputs": [
    {
     "data": {
      "text/plain": [
       "(array([ 25.,  56.,  55.,  30.,  42.,  14.,   9.,   4.,   0.,   1.]),\n",
       " array([  2.  ,   3.37,   4.74,   6.11,   7.48,   8.85,  10.22,  11.59,\n",
       "         12.96,  14.33,  15.7 ]),\n",
       " <a list of 10 Patch objects>)"
      ]
     },
     "execution_count": 24,
     "metadata": {},
     "output_type": "execute_result"
    },
    {
     "data": {
      "image/png": "[encoded data removed]",
      "text/plain": [
       "<matplotlib.figure.Figure at 0x11adfcfd0>"
      ]
     },
     "metadata": {},
     "output_type": "display_data"
    }
   ],
   "source": [
    "plt.hist(data['RPG'])"
   ]
  },
  {
   "cell_type": "markdown",
   "metadata": {},
   "source": [
    "**Seems like all these statistics are right skewed, meaning there are only a few players who are above average in these categories. These players that excel at these statistics will have high target metrics that measure their performance more accurately.**"
   ]
  },
  {
   "cell_type": "code",
   "execution_count": 28,
   "metadata": {},
   "outputs": [
    {
     "data": {
      "text/plain": [
       "UNC       12\n",
       "UK        11\n",
       "UCLA      10\n",
       "UT        10\n",
       "UConn     10\n",
       "KU         9\n",
       "DUKE       9\n",
       "U of A     7\n",
       "UF         7\n",
       "Name: Team, dtype: int64"
      ]
     },
     "execution_count": 28,
     "metadata": {},
     "output_type": "execute_result"
    }
   ],
   "source": [
    "data['Team'].value_counts().head(9)"
   ]
  },
  {
   "cell_type": "code",
   "execution_count": 43,
   "metadata": {},
   "outputs": [
    {
     "data": {
      "text/plain": [
       "count     7.000000\n",
       "mean     16.197143\n",
       "std       2.555450\n",
       "min      11.260000\n",
       "25%      15.450000\n",
       "50%      16.440000\n",
       "75%      17.910000\n",
       "max      18.960000\n",
       "Name: PER, dtype: float64"
      ]
     },
     "execution_count": 43,
     "metadata": {},
     "output_type": "execute_result"
    }
   ],
   "source": [
    "data.loc[data['Team'] == 'UF','PER'].describe()"
   ]
  },
  {
   "cell_type": "code",
   "execution_count": 30,
   "metadata": {
    "scrolled": true
   },
   "outputs": [
    {
     "data": {
      "text/plain": [
       "count    236.000000\n",
       "mean      14.292083\n",
       "std        3.485483\n",
       "min        4.250000\n",
       "25%       12.075000\n",
       "50%       14.010000\n",
       "75%       16.450000\n",
       "max       26.300000\n",
       "Name: PER, dtype: float64"
      ]
     },
     "execution_count": 30,
     "metadata": {},
     "output_type": "execute_result"
    }
   ],
   "source": [
    "data['PER'].describe()"
   ]
  },
  {
   "cell_type": "code",
   "execution_count": 85,
   "metadata": {},
   "outputs": [
    {
     "data": {
      "text/plain": [
       "count     9.000000\n",
       "mean      2.766667\n",
       "std       5.211766\n",
       "min      -2.300000\n",
       "25%      -1.500000\n",
       "50%       2.600000\n",
       "75%       3.500000\n",
       "max      13.400000\n",
       "Name: VORP, dtype: float64"
      ]
     },
     "execution_count": 85,
     "metadata": {},
     "output_type": "execute_result"
    }
   ],
   "source": [
    "data.loc[data['Team'] == 'DUKE','VORP'].describe()"
   ]
  },
  {
   "cell_type": "code",
   "execution_count": 76,
   "metadata": {},
   "outputs": [
    {
     "data": {
      "text/plain": [
       "count    2.360000e+02\n",
       "mean     3.969915e+00\n",
       "std      5.471775e+00\n",
       "min     -4.400000e+00\n",
       "25%     -1.387779e-17\n",
       "50%      2.650000e+00\n",
       "75%      6.400000e+00\n",
       "max      3.110000e+01\n",
       "Name: VORP, dtype: float64"
      ]
     },
     "execution_count": 76,
     "metadata": {},
     "output_type": "execute_result"
    }
   ],
   "source": [
    "data['VORP'].describe()"
   ]
  },
  {
   "cell_type": "markdown",
   "metadata": {},
   "source": [
    "* Schools that have PER higher than average are UK, UF, and UConn\n",
    "\n",
    "* Schools that have Win Shares higher than average are UK, UCLA, UConn, and UF\n",
    "\n",
    "* Schools that have Win Shares per 48 higher than average are UK, UNC, and UF\n",
    "\n",
    "* Schools that have BPM higher than average are UK, UCLA, and UF\n",
    "\n",
    "* Schools that have VORP higher than average are UK, UCLA, and UF\n",
    "\n",
    "**Seems that UK, UCLA, and UF produce above average talent. We can create a dummy variable that separates these three schools**"
   ]
  },
  {
   "cell_type": "code",
   "execution_count": 86,
   "metadata": {
    "collapsed": true
   },
   "outputs": [],
   "source": [
    "data['TopSchool'] = data['Team'].apply(lambda x: 1 if x == 'UK' else 1 if x == 'UCLA' else 1 if x == 'UF' else 0)"
   ]
  },
  {
   "cell_type": "markdown",
   "metadata": {},
   "source": [
    "**We will begin modelling with default regression models, and no feature selection methods, and test out the target metrics combined through normalization and dimensionality reduction**\n",
    "\n",
    "**Again, the target metrics we are interested in are:**\n",
    "* Overall skill - PER, WS, WS/48, BPM, VORP\n",
    "* Offensive - eFG%, TS%, FTr, Usage, ORB%, OWS\n",
    "* Defensive - DRB%, DWS, DBPM\n",
    "* Try everything"
   ]
  },
  {
   "cell_type": "code",
   "execution_count": 91,
   "metadata": {},
   "outputs": [
    {
     "data": {
      "text/html": [
       "<div>\n",
       "<table border=\"1\" class=\"dataframe\">\n",
       "  <thead>\n",
       "    <tr style=\"text-align: right;\">\n",
       "      <th></th>\n",
       "      <th>Name</th>\n",
       "      <th>PER</th>\n",
       "      <th>WS</th>\n",
       "      <th>WS/48</th>\n",
       "      <th>BPM</th>\n",
       "      <th>VORP</th>\n",
       "    </tr>\n",
       "  </thead>\n",
       "  <tbody>\n",
       "    <tr>\n",
       "      <th>0</th>\n",
       "      <td>A.J. Price</td>\n",
       "      <td>11.66</td>\n",
       "      <td>4.4</td>\n",
       "      <td>0.0440</td>\n",
       "      <td>-2.98</td>\n",
       "      <td>-0.3</td>\n",
       "    </tr>\n",
       "    <tr>\n",
       "      <th>1</th>\n",
       "      <td>Aaron Gray</td>\n",
       "      <td>12.82</td>\n",
       "      <td>5.5</td>\n",
       "      <td>0.0952</td>\n",
       "      <td>-1.32</td>\n",
       "      <td>0.3</td>\n",
       "    </tr>\n",
       "    <tr>\n",
       "      <th>2</th>\n",
       "      <td>Aaron Mckie</td>\n",
       "      <td>11.76</td>\n",
       "      <td>13.8</td>\n",
       "      <td>0.0898</td>\n",
       "      <td>-0.04</td>\n",
       "      <td>3.7</td>\n",
       "    </tr>\n",
       "    <tr>\n",
       "      <th>3</th>\n",
       "      <td>Adam Keefe</td>\n",
       "      <td>13.24</td>\n",
       "      <td>15.7</td>\n",
       "      <td>0.1190</td>\n",
       "      <td>-0.54</td>\n",
       "      <td>2.9</td>\n",
       "    </tr>\n",
       "    <tr>\n",
       "      <th>4</th>\n",
       "      <td>Adonal Foyle</td>\n",
       "      <td>11.74</td>\n",
       "      <td>4.8</td>\n",
       "      <td>0.0388</td>\n",
       "      <td>-2.08</td>\n",
       "      <td>0.2</td>\n",
       "    </tr>\n",
       "  </tbody>\n",
       "</table>\n",
       "</div>"
      ],
      "text/plain": [
       "           Name    PER    WS   WS/48   BPM  VORP\n",
       "0    A.J. Price  11.66   4.4  0.0440 -2.98  -0.3\n",
       "1    Aaron Gray  12.82   5.5  0.0952 -1.32   0.3\n",
       "2   Aaron Mckie  11.76  13.8  0.0898 -0.04   3.7\n",
       "3    Adam Keefe  13.24  15.7  0.1190 -0.54   2.9\n",
       "4  Adonal Foyle  11.74   4.8  0.0388 -2.08   0.2"
      ]
     },
     "execution_count": 91,
     "metadata": {},
     "output_type": "execute_result"
    }
   ],
   "source": [
    "target[['Name','PER','WS','WS/48','BPM','VORP']].head()"
   ]
  },
  {
   "cell_type": "markdown",
   "metadata": {},
   "source": [
    "**Use unity-based normalization**"
   ]
  },
  {
   "cell_type": "code",
   "execution_count": 6,
   "metadata": {
    "collapsed": true
   },
   "outputs": [],
   "source": [
    "def normal(series):\n",
    "    mini = series.min()\n",
    "    maxi = series.max()\n",
    "    return (series - mini)/(maxi - mini)"
   ]
  },
  {
   "cell_type": "code",
   "execution_count": 103,
   "metadata": {
    "collapsed": true
   },
   "outputs": [],
   "source": [
    "test = target[['PER','WS','WS/48','BPM','VORP']].apply(normal)"
   ]
  },
  {
   "cell_type": "code",
   "execution_count": 98,
   "metadata": {},
   "outputs": [
    {
     "data": {
      "text/html": [
       "<div>\n",
       "<table border=\"1\" class=\"dataframe\">\n",
       "  <thead>\n",
       "    <tr style=\"text-align: right;\">\n",
       "      <th></th>\n",
       "      <th>PER</th>\n",
       "      <th>WS</th>\n",
       "      <th>WS/48</th>\n",
       "      <th>BPM</th>\n",
       "      <th>VORP</th>\n",
       "    </tr>\n",
       "  </thead>\n",
       "  <tbody>\n",
       "    <tr>\n",
       "      <th>0</th>\n",
       "      <td>0.395012</td>\n",
       "      <td>0.083958</td>\n",
       "      <td>0.531904</td>\n",
       "      <td>0.538026</td>\n",
       "      <td>0.137856</td>\n",
       "    </tr>\n",
       "    <tr>\n",
       "      <th>1</th>\n",
       "      <td>0.441673</td>\n",
       "      <td>0.100450</td>\n",
       "      <td>0.662583</td>\n",
       "      <td>0.610373</td>\n",
       "      <td>0.150985</td>\n",
       "    </tr>\n",
       "    <tr>\n",
       "      <th>2</th>\n",
       "      <td>0.399035</td>\n",
       "      <td>0.224888</td>\n",
       "      <td>0.648800</td>\n",
       "      <td>0.666158</td>\n",
       "      <td>0.225383</td>\n",
       "    </tr>\n",
       "    <tr>\n",
       "      <th>3</th>\n",
       "      <td>0.458568</td>\n",
       "      <td>0.253373</td>\n",
       "      <td>0.723328</td>\n",
       "      <td>0.644367</td>\n",
       "      <td>0.207877</td>\n",
       "    </tr>\n",
       "    <tr>\n",
       "      <th>4</th>\n",
       "      <td>0.398230</td>\n",
       "      <td>0.089955</td>\n",
       "      <td>0.518632</td>\n",
       "      <td>0.577250</td>\n",
       "      <td>0.148796</td>\n",
       "    </tr>\n",
       "  </tbody>\n",
       "</table>\n",
       "</div>"
      ],
      "text/plain": [
       "        PER        WS     WS/48       BPM      VORP\n",
       "0  0.395012  0.083958  0.531904  0.538026  0.137856\n",
       "1  0.441673  0.100450  0.662583  0.610373  0.150985\n",
       "2  0.399035  0.224888  0.648800  0.666158  0.225383\n",
       "3  0.458568  0.253373  0.723328  0.644367  0.207877\n",
       "4  0.398230  0.089955  0.518632  0.577250  0.148796"
      ]
     },
     "execution_count": 98,
     "metadata": {},
     "output_type": "execute_result"
    }
   ],
   "source": [
    "test.head()"
   ]
  },
  {
   "cell_type": "markdown",
   "metadata": {},
   "source": [
    "**Here we have the normalized values of the five metrics, we can add them up to a single sum to be our target variable**"
   ]
  },
  {
   "cell_type": "code",
   "execution_count": 104,
   "metadata": {
    "collapsed": true
   },
   "outputs": [],
   "source": [
    "test['Total'] = test['PER'] + test['WS'] + test['WS/48'] + test['BPM'] + test['VORP']"
   ]
  },
  {
   "cell_type": "code",
   "execution_count": 371,
   "metadata": {
    "collapsed": true
   },
   "outputs": [],
   "source": [
    "test['TotalPERWS'] = test['PER'] + test['WS']"
   ]
  },
  {
   "cell_type": "code",
   "execution_count": 372,
   "metadata": {
    "collapsed": true
   },
   "outputs": [],
   "source": [
    "test['TotalPERWSBPM'] = test['PER'] + test['WS'] + test['BPM']"
   ]
  },
  {
   "cell_type": "code",
   "execution_count": 373,
   "metadata": {
    "collapsed": true
   },
   "outputs": [],
   "source": [
    "test['TotalWSBPM'] = test['WS'] + test['BPM']"
   ]
  },
  {
   "cell_type": "code",
   "execution_count": 374,
   "metadata": {
    "collapsed": true
   },
   "outputs": [],
   "source": [
    "test['TotalWSBPMV'] = test['WS'] + test['BPM'] + test['VORP']"
   ]
  },
  {
   "cell_type": "code",
   "execution_count": 375,
   "metadata": {
    "collapsed": true
   },
   "outputs": [],
   "source": [
    "test['PERVORP'] = test['PER'] + test['VORP']"
   ]
  },
  {
   "cell_type": "code",
   "execution_count": 376,
   "metadata": {
    "collapsed": true
   },
   "outputs": [],
   "source": [
    "test['TotalWV'] = test['WS'] + test['VORP']"
   ]
  },
  {
   "cell_type": "code",
   "execution_count": 129,
   "metadata": {
    "collapsed": true
   },
   "outputs": [],
   "source": [
    "test['TotalWS'] = test['PER'] + test['WS'] + test['BPM'] + test['VORP']"
   ]
  },
  {
   "cell_type": "code",
   "execution_count": 130,
   "metadata": {
    "collapsed": true
   },
   "outputs": [],
   "source": [
    "test['TotalWS48'] = test['PER'] + test['WS/48'] + test['BPM'] + test['VORP']"
   ]
  },
  {
   "cell_type": "code",
   "execution_count": 377,
   "metadata": {
    "collapsed": true
   },
   "outputs": [],
   "source": [
    "test1 = test.merge(pd.DataFrame(target['Name']), left_index = True, right_index = True)"
   ]
  },
  {
   "cell_type": "code",
   "execution_count": 378,
   "metadata": {
    "collapsed": true
   },
   "outputs": [],
   "source": [
    "test1.to_csv('normalizedtest.csv', index = False)"
   ]
  },
  {
   "cell_type": "markdown",
   "metadata": {},
   "source": [
    "** We will add this column to our input dataframe**"
   ]
  },
  {
   "cell_type": "code",
   "execution_count": 134,
   "metadata": {
    "collapsed": true
   },
   "outputs": [],
   "source": [
    "data1 = data.merge(test1[['Name','Total','TotalWS','TotalWS48']], on = 'Name')"
   ]
  },
  {
   "cell_type": "code",
   "execution_count": 135,
   "metadata": {},
   "outputs": [
    {
     "data": {
      "text/html": [
       "<div>\n",
       "<table border=\"1\" class=\"dataframe\">\n",
       "  <thead>\n",
       "    <tr style=\"text-align: right;\">\n",
       "      <th></th>\n",
       "      <th>Name</th>\n",
       "      <th>Team</th>\n",
       "      <th>PPG</th>\n",
       "      <th>Games Played</th>\n",
       "      <th>MPG</th>\n",
       "      <th>FGM</th>\n",
       "      <th>FGA</th>\n",
       "      <th>FG%</th>\n",
       "      <th>FTM</th>\n",
       "      <th>FTA</th>\n",
       "      <th>FT%</th>\n",
       "      <th>3PM</th>\n",
       "      <th>3PA</th>\n",
       "      <th>3P%</th>\n",
       "      <th>ORB</th>\n",
       "      <th>DRB</th>\n",
       "      <th>RPG</th>\n",
       "      <th>APG</th>\n",
       "      <th>SPG</th>\n",
       "      <th>BPG</th>\n",
       "      <th>TOV</th>\n",
       "      <th>PF</th>\n",
       "      <th>Year</th>\n",
       "      <th>NBATeam</th>\n",
       "      <th>CollegeName</th>\n",
       "      <th>Age at Draft</th>\n",
       "      <th>Weight at Draft</th>\n",
       "      <th>Height Inches</th>\n",
       "      <th>PER</th>\n",
       "      <th>WS</th>\n",
       "      <th>WS/48</th>\n",
       "      <th>BPM</th>\n",
       "      <th>VORP</th>\n",
       "      <th>TopSchool</th>\n",
       "      <th>Total</th>\n",
       "      <th>TotalWS</th>\n",
       "      <th>TotalWS48</th>\n",
       "    </tr>\n",
       "  </thead>\n",
       "  <tbody>\n",
       "    <tr>\n",
       "      <th>0</th>\n",
       "      <td>A.J. Price</td>\n",
       "      <td>UConn</td>\n",
       "      <td>12.466667</td>\n",
       "      <td>33.000000</td>\n",
       "      <td>29.30</td>\n",
       "      <td>4.166667</td>\n",
       "      <td>10.10</td>\n",
       "      <td>0.410667</td>\n",
       "      <td>2.633333</td>\n",
       "      <td>3.600000</td>\n",
       "      <td>0.719000</td>\n",
       "      <td>1.50</td>\n",
       "      <td>4.166667</td>\n",
       "      <td>0.348</td>\n",
       "      <td>0.800</td>\n",
       "      <td>2.433333</td>\n",
       "      <td>3.233333</td>\n",
       "      <td>4.566667</td>\n",
       "      <td>1.066667</td>\n",
       "      <td>0.066667</td>\n",
       "      <td>2.300000</td>\n",
       "      <td>1.300000</td>\n",
       "      <td>2009.0</td>\n",
       "      <td>IND</td>\n",
       "      <td>University of Connecticut</td>\n",
       "      <td>22.5</td>\n",
       "      <td>193.0</td>\n",
       "      <td>74.0</td>\n",
       "      <td>11.66</td>\n",
       "      <td>4.4</td>\n",
       "      <td>0.0440</td>\n",
       "      <td>-2.98</td>\n",
       "      <td>-0.3</td>\n",
       "      <td>0</td>\n",
       "      <td>1.686755</td>\n",
       "      <td>1.154851</td>\n",
       "      <td>1.602797</td>\n",
       "    </tr>\n",
       "    <tr>\n",
       "      <th>1</th>\n",
       "      <td>Aaron Gray</td>\n",
       "      <td>PITT</td>\n",
       "      <td>8.750000</td>\n",
       "      <td>28.250000</td>\n",
       "      <td>18.40</td>\n",
       "      <td>3.425000</td>\n",
       "      <td>6.25</td>\n",
       "      <td>0.554250</td>\n",
       "      <td>1.900000</td>\n",
       "      <td>3.175000</td>\n",
       "      <td>0.590500</td>\n",
       "      <td>0.00</td>\n",
       "      <td>0.000000</td>\n",
       "      <td>0.000</td>\n",
       "      <td>2.275</td>\n",
       "      <td>3.975000</td>\n",
       "      <td>6.275000</td>\n",
       "      <td>1.175000</td>\n",
       "      <td>0.300000</td>\n",
       "      <td>1.025000</td>\n",
       "      <td>1.350000</td>\n",
       "      <td>1.975000</td>\n",
       "      <td>2007.0</td>\n",
       "      <td>CHI</td>\n",
       "      <td>University of Pittsburgh</td>\n",
       "      <td>22.3</td>\n",
       "      <td>280.0</td>\n",
       "      <td>85.0</td>\n",
       "      <td>12.82</td>\n",
       "      <td>5.5</td>\n",
       "      <td>0.0952</td>\n",
       "      <td>-1.32</td>\n",
       "      <td>0.3</td>\n",
       "      <td>0</td>\n",
       "      <td>1.966063</td>\n",
       "      <td>1.303480</td>\n",
       "      <td>1.865614</td>\n",
       "    </tr>\n",
       "    <tr>\n",
       "      <th>2</th>\n",
       "      <td>Al Horford</td>\n",
       "      <td>UF</td>\n",
       "      <td>9.866667</td>\n",
       "      <td>36.333333</td>\n",
       "      <td>25.50</td>\n",
       "      <td>3.766667</td>\n",
       "      <td>6.40</td>\n",
       "      <td>0.565333</td>\n",
       "      <td>2.433333</td>\n",
       "      <td>3.966667</td>\n",
       "      <td>0.612333</td>\n",
       "      <td>0.00</td>\n",
       "      <td>0.066667</td>\n",
       "      <td>0.000</td>\n",
       "      <td>2.300</td>\n",
       "      <td>5.500000</td>\n",
       "      <td>7.766667</td>\n",
       "      <td>1.633333</td>\n",
       "      <td>0.833333</td>\n",
       "      <td>1.700000</td>\n",
       "      <td>1.533333</td>\n",
       "      <td>2.433333</td>\n",
       "      <td>2007.0</td>\n",
       "      <td>ATL</td>\n",
       "      <td>University of Florida</td>\n",
       "      <td>20.8</td>\n",
       "      <td>246.0</td>\n",
       "      <td>82.0</td>\n",
       "      <td>18.16</td>\n",
       "      <td>34.6</td>\n",
       "      <td>0.1580</td>\n",
       "      <td>2.52</td>\n",
       "      <td>12.3</td>\n",
       "      <td>1</td>\n",
       "      <td>3.207373</td>\n",
       "      <td>2.384504</td>\n",
       "      <td>2.670641</td>\n",
       "    </tr>\n",
       "    <tr>\n",
       "      <th>3</th>\n",
       "      <td>Al-Farouq Aminu</td>\n",
       "      <td>WF</td>\n",
       "      <td>13.300000</td>\n",
       "      <td>31.000000</td>\n",
       "      <td>30.15</td>\n",
       "      <td>4.650000</td>\n",
       "      <td>9.80</td>\n",
       "      <td>0.481500</td>\n",
       "      <td>3.600000</td>\n",
       "      <td>5.200000</td>\n",
       "      <td>0.684500</td>\n",
       "      <td>0.40</td>\n",
       "      <td>1.550000</td>\n",
       "      <td>0.226</td>\n",
       "      <td>3.050</td>\n",
       "      <td>5.650000</td>\n",
       "      <td>8.700000</td>\n",
       "      <td>1.300000</td>\n",
       "      <td>1.150000</td>\n",
       "      <td>1.250000</td>\n",
       "      <td>2.650000</td>\n",
       "      <td>2.550000</td>\n",
       "      <td>2010.0</td>\n",
       "      <td>LAC</td>\n",
       "      <td>Wake Forest University</td>\n",
       "      <td>19.5</td>\n",
       "      <td>216.0</td>\n",
       "      <td>80.0</td>\n",
       "      <td>12.30</td>\n",
       "      <td>11.6</td>\n",
       "      <td>0.0652</td>\n",
       "      <td>-0.36</td>\n",
       "      <td>3.5</td>\n",
       "      <td>0</td>\n",
       "      <td>2.071892</td>\n",
       "      <td>1.485879</td>\n",
       "      <td>1.879988</td>\n",
       "    </tr>\n",
       "    <tr>\n",
       "      <th>4</th>\n",
       "      <td>Alec Burks</td>\n",
       "      <td>UCOL</td>\n",
       "      <td>18.450000</td>\n",
       "      <td>34.000000</td>\n",
       "      <td>30.80</td>\n",
       "      <td>6.100000</td>\n",
       "      <td>12.20</td>\n",
       "      <td>0.503000</td>\n",
       "      <td>5.650000</td>\n",
       "      <td>7.100000</td>\n",
       "      <td>0.798500</td>\n",
       "      <td>0.65</td>\n",
       "      <td>2.150000</td>\n",
       "      <td>0.322</td>\n",
       "      <td>2.100</td>\n",
       "      <td>3.500000</td>\n",
       "      <td>5.650000</td>\n",
       "      <td>2.300000</td>\n",
       "      <td>1.150000</td>\n",
       "      <td>0.350000</td>\n",
       "      <td>2.200000</td>\n",
       "      <td>2.350000</td>\n",
       "      <td>2011.0</td>\n",
       "      <td>UTA</td>\n",
       "      <td>University of Colorado</td>\n",
       "      <td>19.7</td>\n",
       "      <td>193.0</td>\n",
       "      <td>78.0</td>\n",
       "      <td>13.72</td>\n",
       "      <td>8.9</td>\n",
       "      <td>0.0738</td>\n",
       "      <td>-2.10</td>\n",
       "      <td>0.2</td>\n",
       "      <td>0</td>\n",
       "      <td>1.962438</td>\n",
       "      <td>1.354475</td>\n",
       "      <td>1.811014</td>\n",
       "    </tr>\n",
       "  </tbody>\n",
       "</table>\n",
       "</div>"
      ],
      "text/plain": [
       "              Name   Team        PPG  Games Played    MPG       FGM    FGA  \\\n",
       "0       A.J. Price  UConn  12.466667     33.000000  29.30  4.166667  10.10   \n",
       "1       Aaron Gray   PITT   8.750000     28.250000  18.40  3.425000   6.25   \n",
       "2       Al Horford     UF   9.866667     36.333333  25.50  3.766667   6.40   \n",
       "3  Al-Farouq Aminu     WF  13.300000     31.000000  30.15  4.650000   9.80   \n",
       "4       Alec Burks   UCOL  18.450000     34.000000  30.80  6.100000  12.20   \n",
       "\n",
       "        FG%       FTM       FTA       FT%   3PM       3PA    3P%    ORB  \\\n",
       "0  0.410667  2.633333  3.600000  0.719000  1.50  4.166667  0.348  0.800   \n",
       "1  0.554250  1.900000  3.175000  0.590500  0.00  0.000000  0.000  2.275   \n",
       "2  0.565333  2.433333  3.966667  0.612333  0.00  0.066667  0.000  2.300   \n",
       "3  0.481500  3.600000  5.200000  0.684500  0.40  1.550000  0.226  3.050   \n",
       "4  0.503000  5.650000  7.100000  0.798500  0.65  2.150000  0.322  2.100   \n",
       "\n",
       "        DRB       RPG       APG       SPG       BPG       TOV        PF  \\\n",
       "0  2.433333  3.233333  4.566667  1.066667  0.066667  2.300000  1.300000   \n",
       "1  3.975000  6.275000  1.175000  0.300000  1.025000  1.350000  1.975000   \n",
       "2  5.500000  7.766667  1.633333  0.833333  1.700000  1.533333  2.433333   \n",
       "3  5.650000  8.700000  1.300000  1.150000  1.250000  2.650000  2.550000   \n",
       "4  3.500000  5.650000  2.300000  1.150000  0.350000  2.200000  2.350000   \n",
       "\n",
       "     Year NBATeam                CollegeName  Age at Draft  Weight at Draft  \\\n",
       "0  2009.0     IND  University of Connecticut          22.5            193.0   \n",
       "1  2007.0     CHI   University of Pittsburgh          22.3            280.0   \n",
       "2  2007.0     ATL      University of Florida          20.8            246.0   \n",
       "3  2010.0     LAC     Wake Forest University          19.5            216.0   \n",
       "4  2011.0     UTA     University of Colorado          19.7            193.0   \n",
       "\n",
       "   Height Inches    PER    WS   WS/48   BPM  VORP  TopSchool     Total  \\\n",
       "0           74.0  11.66   4.4  0.0440 -2.98  -0.3          0  1.686755   \n",
       "1           85.0  12.82   5.5  0.0952 -1.32   0.3          0  1.966063   \n",
       "2           82.0  18.16  34.6  0.1580  2.52  12.3          1  3.207373   \n",
       "3           80.0  12.30  11.6  0.0652 -0.36   3.5          0  2.071892   \n",
       "4           78.0  13.72   8.9  0.0738 -2.10   0.2          0  1.962438   \n",
       "\n",
       "    TotalWS  TotalWS48  \n",
       "0  1.154851   1.602797  \n",
       "1  1.303480   1.865614  \n",
       "2  2.384504   2.670641  \n",
       "3  1.485879   1.879988  \n",
       "4  1.354475   1.811014  "
      ]
     },
     "execution_count": 135,
     "metadata": {},
     "output_type": "execute_result"
    }
   ],
   "source": [
    "data1.head()"
   ]
  },
  {
   "cell_type": "code",
   "execution_count": 136,
   "metadata": {
    "collapsed": true
   },
   "outputs": [],
   "source": [
    "data1.to_csv('normalizedf.csv', index = False)"
   ]
  },
  {
   "cell_type": "code",
   "execution_count": 7,
   "metadata": {
    "collapsed": true
   },
   "outputs": [],
   "source": [
    "offense = target[['eFG%','TS%','FTr','USG%', 'ORB%','OWS']].apply(normal)"
   ]
  },
  {
   "cell_type": "code",
   "execution_count": 8,
   "metadata": {
    "collapsed": true
   },
   "outputs": [],
   "source": [
    "offense['TotalOff'] = offense['eFG%'] + offense['TS%'] + offense['FTr'] + offense['USG%'] + offense['ORB%'] + offense['OWS']"
   ]
  },
  {
   "cell_type": "code",
   "execution_count": 9,
   "metadata": {
    "collapsed": true
   },
   "outputs": [],
   "source": [
    "offense1 = offense.merge(pd.DataFrame(target['Name']), left_index = True, right_index = True)"
   ]
  },
  {
   "cell_type": "code",
   "execution_count": 10,
   "metadata": {
    "collapsed": true
   },
   "outputs": [],
   "source": [
    "offense1.to_csv('normalizedoffense.csv', index = False)"
   ]
  },
  {
   "cell_type": "code",
   "execution_count": 330,
   "metadata": {
    "collapsed": true
   },
   "outputs": [],
   "source": [
    "offensedf = data.merge(offense1[['Name','TotalOff']], on = 'Name')"
   ]
  },
  {
   "cell_type": "code",
   "execution_count": 331,
   "metadata": {
    "collapsed": true
   },
   "outputs": [],
   "source": [
    "offensedf.to_csv('normalizedoffdf.csv', index = False)"
   ]
  },
  {
   "cell_type": "code",
   "execution_count": 332,
   "metadata": {
    "collapsed": true
   },
   "outputs": [],
   "source": [
    "defense = target[['DRB%', 'DWS','DBPM']].apply(normal)"
   ]
  },
  {
   "cell_type": "code",
   "execution_count": 333,
   "metadata": {
    "collapsed": true
   },
   "outputs": [],
   "source": [
    "defense['TotalDef'] = defense['DRB%'] + defense['DWS'] + defense['DBPM']"
   ]
  },
  {
   "cell_type": "code",
   "execution_count": 334,
   "metadata": {
    "collapsed": true
   },
   "outputs": [],
   "source": [
    "defense1 = defense.merge(pd.DataFrame(target['Name']), left_index= True, right_index= True)"
   ]
  },
  {
   "cell_type": "code",
   "execution_count": 336,
   "metadata": {
    "collapsed": true
   },
   "outputs": [],
   "source": [
    "defense1.to_csv('normalizeddefense.csv', index = False)"
   ]
  },
  {
   "cell_type": "code",
   "execution_count": 337,
   "metadata": {
    "collapsed": true
   },
   "outputs": [],
   "source": [
    "defensedf = data.merge(defense1[['Name','TotalDef']], on = 'Name')"
   ]
  },
  {
   "cell_type": "code",
   "execution_count": 338,
   "metadata": {
    "collapsed": true
   },
   "outputs": [],
   "source": [
    "defensedf.to_csv('normalizeddefdf.csv', index = False)"
   ]
  },
  {
   "cell_type": "markdown",
   "metadata": {},
   "source": [
    "**Using all features, even though we know that certain statistics are highly correlated with each other**"
   ]
  },
  {
   "cell_type": "code",
   "execution_count": 114,
   "metadata": {
    "collapsed": true
   },
   "outputs": [],
   "source": [
    "features = ['PPG','MPG','FGM','FGA','FG%','FTM','FTA','FT%','3PM','3PA','3P%','ORB','DRB','RPG','APG','SPG',\n",
    "           'BPG','TOV','PF','Age at Draft','Weight at Draft','Height Inches']"
   ]
  },
  {
   "cell_type": "code",
   "execution_count": 115,
   "metadata": {
    "collapsed": true
   },
   "outputs": [],
   "source": [
    "x = data1[features]\n",
    "y = data1['Total']"
   ]
  },
  {
   "cell_type": "code",
   "execution_count": 121,
   "metadata": {
    "collapsed": true
   },
   "outputs": [],
   "source": [
    "x_train, x_test, y_train, y_test = train_test_split(x,y, test_size = 0.3)"
   ]
  },
  {
   "cell_type": "code",
   "execution_count": 359,
   "metadata": {
    "collapsed": true
   },
   "outputs": [],
   "source": [
    "def rundefaultmodels(x,y,xtest,ytest):\n",
    "    ln = LinearRegression()\n",
    "    modelln = ln.fit(x,y)\n",
    "    predictionsln = modelln.predict(xtest)\n",
    "    print 'Linear Regression'\n",
    "    print 'Cross-validation score:', cross_val_score(modelln, x,y)\n",
    "    print 'Training R^2:', modelln.score(x,y)\n",
    "    print 'Test R^2:', modelln.score(xtest,ytest)\n",
    "    print 'MAE:', metrics.mean_absolute_error(ytest, predictionsln)\n",
    "    print 'MSE:', metrics.mean_squared_error(ytest, predictionsln)\n",
    "    print 'RMSE:', np.sqrt(metrics.mean_squared_error(ytest, predictionsln))\n",
    "    print '\\n'\n",
    "    \n",
    "    ls = LassoCV()\n",
    "    modells = ls.fit(x,y)\n",
    "    predictionsls = modells.predict(xtest)\n",
    "    print 'Lasso Regression'\n",
    "    print 'Cross-validation score:', cross_val_score(modells, x,y)\n",
    "    print 'Training R^2:', modells.score(x,y)\n",
    "    print 'Test R^2:', modells.score(xtest,ytest)\n",
    "    print 'MAE:', metrics.mean_absolute_error(ytest, predictionsls)\n",
    "    print 'MSE:', metrics.mean_squared_error(ytest, predictionsls)\n",
    "    print 'RMSE:', np.sqrt(metrics.mean_squared_error(ytest, predictionsls))\n",
    "    print '\\n'\n",
    "    \n",
    "    rg = RidgeCV()\n",
    "    modelrg = rg.fit(x,y)\n",
    "    predictionsrg = modelrg.predict(xtest)\n",
    "    print 'Ridge Regression'\n",
    "    print 'Cross-validation score:', cross_val_score(modelrg, x,y)\n",
    "    print 'Training R^2:', modelrg.score(x,y)\n",
    "    print 'Test R^2:', modelrg.score(xtest,ytest)\n",
    "    print 'MAE:', metrics.mean_absolute_error(ytest, predictionsrg)\n",
    "    print 'MSE:', metrics.mean_squared_error(ytest, predictionsrg)\n",
    "    print 'RMSE:', np.sqrt(metrics.mean_squared_error(ytest, predictionsrg))\n",
    "    print '\\n'\n",
    "    \n",
    "    knn = KNeighborsRegressor()\n",
    "    modelknn = knn.fit(x,y)\n",
    "    predictionsknn = modelknn.predict(xtest)\n",
    "    print 'K-Nearest Neighbors Regression'\n",
    "    print 'Cross-validation score:', cross_val_score(modelknn, x,y)\n",
    "    print 'Training R^2:', modelknn.score(x,y)\n",
    "    print 'Test R^2:', modelknn.score(xtest,ytest)\n",
    "    print 'MAE:', metrics.mean_absolute_error(ytest, predictionsknn)\n",
    "    print 'MSE:', metrics.mean_squared_error(ytest, predictionsknn)\n",
    "    print 'RMSE:', np.sqrt(metrics.mean_squared_error(ytest, predictionsknn))\n",
    "    print '\\n'\n",
    "    \n",
    "    dt = DecisionTreeRegressor()\n",
    "    modeldt = dt.fit(x,y)\n",
    "    predictionsdt = modeldt.predict(xtest)\n",
    "    print 'Decision Tree Regression'\n",
    "    print 'Cross-validation score:', cross_val_score(modeldt, x,y)\n",
    "    print 'Training R^2:', modeldt.score(x,y)\n",
    "    print 'Test R^2:', modeldt.score(xtest,ytest)\n",
    "    print 'MAE:', metrics.mean_absolute_error(ytest, predictionsdt)\n",
    "    print 'MSE:', metrics.mean_squared_error(ytest, predictionsdt)\n",
    "    print 'RMSE:', np.sqrt(metrics.mean_squared_error(ytest, predictionsdt))\n",
    "    print '\\n'\n",
    "    \n",
    "    rf = RandomForestRegressor()\n",
    "    modelrf = rf.fit(x,y)\n",
    "    predictionsrf = modelrf.predict(xtest)\n",
    "    print 'Random Forest Regression'\n",
    "    print 'Cross-validation score:', cross_val_score(modelrf, x,y)\n",
    "    print 'Training R^2:', modelrf.score(x,y)\n",
    "    print 'Test R^2:', modelrf.score(xtest,ytest)\n",
    "    print 'MAE:', metrics.mean_absolute_error(ytest, predictionsrf)\n",
    "    print 'MSE:', metrics.mean_squared_error(ytest, predictionsrf)\n",
    "    print 'RMSE:', np.sqrt(metrics.mean_squared_error(ytest, predictionsrf))\n",
    "    print '\\n'\n",
    "    \n",
    "    et = ExtraTreesRegressor()\n",
    "    modelet = et.fit(x,y)\n",
    "    predictionset = modelet.predict(xtest)\n",
    "    print 'Extra Trees Regression'\n",
    "    print 'Cross-validation score:', cross_val_score(modelet, x,y)\n",
    "    print 'Training R^2:', modelet.score(x,y)\n",
    "    print 'Test R^2:', modelet.score(xtest,ytest)\n",
    "    print 'MAE:', metrics.mean_absolute_error(ytest, predictionset)\n",
    "    print 'MSE:', metrics.mean_squared_error(ytest, predictionset)\n",
    "    print 'RMSE:', np.sqrt(metrics.mean_squared_error(ytest, predictionset))\n",
    "    print '\\n'\n",
    "    \n",
    "    ada = AdaBoostRegressor()\n",
    "    modelada = ada.fit(x,y)\n",
    "    predictionsada = modelada.predict(xtest)\n",
    "    print 'AdaBoost Regression'\n",
    "    print 'Cross-validation score:', cross_val_score(modelada, x,y)\n",
    "    print 'Training R^2:', modelada.score(x,y)\n",
    "    print 'Test R^2:', modelada.score(xtest,ytest)\n",
    "    print 'MAE:', metrics.mean_absolute_error(ytest, predictionsada)\n",
    "    print 'MSE:', metrics.mean_squared_error(ytest, predictionsada)\n",
    "    print 'RMSE:', np.sqrt(metrics.mean_squared_error(ytest, predictionsada))\n",
    "    print '\\n'\n",
    "    \n",
    "    gb = GradientBoostingRegressor()\n",
    "    modelgb = gb.fit(x,y)\n",
    "    predictionsgb = modelgb.predict(xtest)\n",
    "    print 'GradientBoost Regression'\n",
    "    print 'Cross-validation score:', cross_val_score(modelgb, x,y)\n",
    "    print 'Training R^2:', modelgb.score(x,y)\n",
    "    print 'Test R^2:', modelgb.score(xtest,ytest)\n",
    "    print 'MAE:', metrics.mean_absolute_error(ytest, predictionsgb)\n",
    "    print 'MSE:', metrics.mean_squared_error(ytest, predictionsgb)\n",
    "    print 'RMSE:', np.sqrt(metrics.mean_squared_error(ytest, predictionsgb))\n",
    "    print '\\n'\n",
    "    \n",
    "    bag = BaggingRegressor()\n",
    "    modelbag = bag.fit(x,y)\n",
    "    predictionsbag = modelbag.predict(xtest)\n",
    "    print 'Bagging Regression'\n",
    "    print 'Cross-validation score:', cross_val_score(modelbag, x,y)\n",
    "    print 'Training R^2:', modelbag.score(x,y)\n",
    "    print 'Test R^2:', modelbag.score(xtest,ytest)\n",
    "    print 'MAE:', metrics.mean_absolute_error(ytest, predictionsbag)\n",
    "    print 'MSE:', metrics.mean_squared_error(ytest, predictionsbag)\n",
    "    print 'RMSE:', np.sqrt(metrics.mean_squared_error(ytest, predictionsbag))\n",
    "    print '\\n'\n",
    "    \n",
    "    xgb = XGBRegressor()\n",
    "    modelxgb = xgb.fit(x,y)\n",
    "    predictionsxgb = modelxgb.predict(xtest)\n",
    "    print 'XGBoost Regression'\n",
    "    print 'Cross-validation score:', cross_val_score(modelxgb, x,y)\n",
    "    print 'Training R^2:', modelxgb.score(x,y)\n",
    "    print 'Test R^2:', modelxgb.score(xtest,ytest)\n",
    "    print 'MAE:', metrics.mean_absolute_error(ytest, predictionsxgb)\n",
    "    print 'MSE:', metrics.mean_squared_error(ytest, predictionsxgb)\n",
    "    print 'RMSE:', np.sqrt(metrics.mean_squared_error(ytest, predictionsxgb))\n",
    "    print '\\n'"
   ]
  },
  {
   "cell_type": "code",
   "execution_count": 360,
   "metadata": {},
   "outputs": [
    {
     "name": "stdout",
     "output_type": "stream",
     "text": [
      "Linear Regression\n",
      "Cross-validation score: [ 0.27124845  0.28167111  0.06719888]\n",
      "Training R^2: 0.478415224824\n",
      "Test R^2: 0.0903693650982\n",
      "MAE: 0.362708438567\n",
      "MSE: 0.221251086383\n",
      "RMSE: 0.470373347866\n",
      "\n",
      "\n",
      "Lasso Regression\n",
      "Cross-validation score: [ 0.26528949  0.07343487  0.12855879]\n",
      "Training R^2: 0.42794249747\n",
      "Test R^2: 0.104176209317\n",
      "MAE: 0.356592272698\n",
      "MSE: 0.217892822967\n",
      "RMSE: 0.466789913095\n",
      "\n",
      "\n",
      "Ridge Regression\n",
      "Cross-validation score: [ 0.2693659   0.32260668  0.06278256]\n",
      "Training R^2: 0.465799772561\n",
      "Test R^2: 0.0817853748368\n",
      "MAE: 0.363069523227\n",
      "MSE: 0.223338985688\n",
      "RMSE: 0.472587542883\n",
      "\n",
      "\n",
      "K-Nearest Neighbors Regression\n",
      "Cross-validation score: [-0.15294024 -0.07153712 -0.03371287]\n",
      "Training R^2: 0.324690359012\n",
      "Test R^2: -0.30864379341\n",
      "MAE: 0.422341272788\n",
      "MSE: 0.318303770641\n",
      "RMSE: 0.564184163763\n",
      "\n",
      "\n",
      "Decision Tree Regression\n",
      "Cross-validation score: [-1.77345653 -0.32334049 -0.6513563 ]\n",
      "Training R^2: 1.0\n",
      "Test R^2: -1.72419209687\n",
      "MAE: 0.630124081362\n",
      "MSE: 0.662610116482\n",
      "RMSE: 0.814008671012\n",
      "\n",
      "\n",
      "Random Forest Regression\n",
      "Cross-validation score: [ 0.09079542  0.12110063  0.02144807]\n",
      "Training R^2: 0.826996904875\n",
      "Test R^2: -0.0794275698252\n",
      "MAE: 0.384189666693\n",
      "MSE: 0.26255109858\n",
      "RMSE: 0.512397402979\n",
      "\n",
      "\n",
      "Extra Trees Regression\n",
      "Cross-validation score: [-0.09144598  0.03393518 -0.19130316]\n",
      "Training R^2: 0.999999999807\n",
      "Test R^2: -0.263791299273\n",
      "MAE: 0.412411763834\n",
      "MSE: 0.307394218265\n",
      "RMSE: 0.554431436938\n",
      "\n",
      "\n",
      "AdaBoost Regression\n",
      "Cross-validation score: [ 0.02881343  0.1306265   0.05024043]\n",
      "Training R^2: 0.63010803794\n",
      "Test R^2: -0.108363477171\n",
      "MAE: 0.397378455401\n",
      "MSE: 0.269589231081\n",
      "RMSE: 0.519219829245\n",
      "\n",
      "\n",
      "GradientBoost Regression\n",
      "Cross-validation score: [-0.05091337  0.15323402  0.01588972]\n",
      "Training R^2: 0.961818384926\n",
      "Test R^2: -0.0667192203217\n",
      "MAE: 0.402399892166\n",
      "MSE: 0.259460023999\n",
      "RMSE: 0.509372186126\n",
      "\n",
      "\n",
      "Bagging Regression\n",
      "Cross-validation score: [-0.00381239  0.12745773  0.00408354]\n",
      "Training R^2: 0.834486161682\n",
      "Test R^2: 0.0827344435631\n",
      "MAE: 0.358383624846\n",
      "MSE: 0.223108142004\n",
      "RMSE: 0.47234324596\n",
      "\n",
      "\n",
      "XGBoost Regression\n",
      "Cross-validation score: [-0.05199933  0.10229614 -0.05366903]\n",
      "Training R^2: 0.951049500692\n",
      "Test R^2: -0.0205845958427\n",
      "MAE: 0.371122340339\n",
      "MSE: 0.248238616766\n",
      "RMSE: 0.498235503317\n",
      "\n",
      "\n"
     ]
    }
   ],
   "source": [
    "rundefaultmodels(x_train, y_train, x_test, y_test)"
   ]
  },
  {
   "cell_type": "markdown",
   "metadata": {},
   "source": [
    "**Nothing of interest with just default parameters. We will try taking out one of the win share targets since they are correlated. We will try feature selection techniques before changing model parameters**"
   ]
  },
  {
   "cell_type": "code",
   "execution_count": 137,
   "metadata": {
    "collapsed": true
   },
   "outputs": [],
   "source": [
    "x1 = data1[features]\n",
    "y1 = data1['TotalWS']"
   ]
  },
  {
   "cell_type": "code",
   "execution_count": 138,
   "metadata": {
    "collapsed": true
   },
   "outputs": [],
   "source": [
    "x_train1, x_test1, y_train1, y_test1 = train_test_split(x1,y1,test_size = 0.3)"
   ]
  },
  {
   "cell_type": "code",
   "execution_count": 361,
   "metadata": {},
   "outputs": [
    {
     "name": "stdout",
     "output_type": "stream",
     "text": [
      "Linear Regression\n",
      "Cross-validation score: [ 0.22998997 -3.97999078  0.10492579]\n",
      "Training R^2: 0.449901118528\n",
      "Test R^2: 0.311651283145\n",
      "MAE: 0.33959643779\n",
      "MSE: 0.173002724491\n",
      "RMSE: 0.415935962007\n",
      "\n",
      "\n",
      "Lasso Regression\n",
      "Cross-validation score: [ 0.18161155 -0.21026646  0.24766219]\n",
      "Training R^2: 0.355000283506\n",
      "Test R^2: 0.264451228542\n",
      "MAE: 0.357207174089\n",
      "MSE: 0.184865517059\n",
      "RMSE: 0.429959901687\n",
      "\n",
      "\n",
      "Ridge Regression\n",
      "Cross-validation score: [ 0.24681985  0.05341724  0.21367503]\n",
      "Training R^2: 0.437548456486\n",
      "Test R^2: 0.324990930882\n",
      "MAE: 0.338894884907\n",
      "MSE: 0.169650070021\n",
      "RMSE: 0.411885991533\n",
      "\n",
      "\n",
      "K-Nearest Neighbors Regression\n",
      "Cross-validation score: [-0.20652665  0.07838932 -0.07117381]\n",
      "Training R^2: 0.320323234806\n",
      "Test R^2: -0.205206075501\n",
      "MAE: 0.42936143722\n",
      "MSE: 0.302904515588\n",
      "RMSE: 0.550367618586\n",
      "\n",
      "\n",
      "Decision Tree Regression\n",
      "Cross-validation score: [-0.2298832  -0.7051972  -0.49827896]\n",
      "Training R^2: 0.999999999023\n",
      "Test R^2: -0.585951812658\n",
      "MAE: 0.464171874487\n",
      "MSE: 0.398597364654\n",
      "RMSE: 0.631345677624\n",
      "\n",
      "\n",
      "Random Forest Regression\n",
      "Cross-validation score: [-0.1620162  -0.04813905  0.11482489]\n",
      "Training R^2: 0.826057313492\n",
      "Test R^2: 0.162293973508\n",
      "MAE: 0.365710743926\n",
      "MSE: 0.210540706123\n",
      "RMSE: 0.458847148976\n",
      "\n",
      "\n",
      "Extra Trees Regression\n",
      "Cross-validation score: [ 0.05839326  0.02042563  0.11265615]\n",
      "Training R^2: 1.0\n",
      "Test R^2: 0.0383725346889\n",
      "MAE: 0.393195652617\n",
      "MSE: 0.24168588881\n",
      "RMSE: 0.491615590487\n",
      "\n",
      "\n",
      "AdaBoost Regression\n",
      "Cross-validation score: [-0.0360133  -0.04081719  0.03526331]\n",
      "Training R^2: 0.625084929855\n",
      "Test R^2: 0.0861962828264\n",
      "MAE: 0.388836526091\n",
      "MSE: 0.229666343308\n",
      "RMSE: 0.479235164933\n",
      "\n",
      "\n",
      "GradientBoost Regression\n",
      "Cross-validation score: [-0.00176782 -0.00021625  0.00134108]\n",
      "Training R^2: 0.956077357625\n",
      "Test R^2: 0.154611862532\n",
      "MAE: 0.363771626881\n",
      "MSE: 0.212471451538\n",
      "RMSE: 0.46094625667\n",
      "\n",
      "\n",
      "Bagging Regression\n",
      "Cross-validation score: [-0.1665957  -0.22908657  0.07701689]\n",
      "Training R^2: 0.836550656342\n",
      "Test R^2: -0.0100870893896\n",
      "MAE: 0.39629092341\n",
      "MSE: 0.25386524905\n",
      "RMSE: 0.503850423291\n",
      "\n",
      "\n",
      "XGBoost Regression\n",
      "Cross-validation score: [-0.0739568  -0.04380473  0.04516444]\n",
      "Training R^2: 0.941309929441\n",
      "Test R^2: 0.052426894947\n",
      "MAE: 0.377615458167\n",
      "MSE: 0.238153605599\n",
      "RMSE: 0.488009841703\n",
      "\n",
      "\n"
     ]
    }
   ],
   "source": [
    "rundefaultmodels(x_train1, y_train1, x_test1, y_test1)"
   ]
  },
  {
   "cell_type": "code",
   "execution_count": 262,
   "metadata": {},
   "outputs": [
    {
     "name": "stdout",
     "output_type": "stream",
     "text": [
      "0.456611083935\n",
      "0.194141177624\n"
     ]
    }
   ],
   "source": [
    "rf1 = RandomForestRegressor(n_estimators=1000, n_jobs=-1, criterion = 'mse', max_depth= 20, min_samples_leaf= 10,\n",
    "                           min_impurity_split = 0.000001)\n",
    "rf1.fit(x_train1, y_train1)\n",
    "print rf1.score(x_train1, y_train1)\n",
    "print rf1.score(x_test1, y_test1)"
   ]
  },
  {
   "cell_type": "code",
   "execution_count": 313,
   "metadata": {},
   "outputs": [
    {
     "name": "stdout",
     "output_type": "stream",
     "text": [
      "0.814909786344\n",
      "0.163851860301\n"
     ]
    }
   ],
   "source": [
    "xgr1 = XGBRegressor(n_estimators=500, min_child_weight=4, gamma = 0.2, max_delta_step=1)\n",
    "gsxgr1 = GridSearchCV(xgr1, param_grid={})\n",
    "gsxgr1.fit(x_train1, y_train1)\n",
    "gsxgr1.best_estimator_.fit(x_train1, y_train1)\n",
    "print gsxgr1.best_estimator_.score(x_train1, y_train1)\n",
    "print gsxgr1.best_estimator_.score(x_test1, y_test1)"
   ]
  },
  {
   "cell_type": "markdown",
   "metadata": {},
   "source": [
    "**Results are much better, will try with WS/48**"
   ]
  },
  {
   "cell_type": "code",
   "execution_count": 140,
   "metadata": {
    "collapsed": true
   },
   "outputs": [],
   "source": [
    "x2 = data1[features]\n",
    "y2 = data1['TotalWS48']"
   ]
  },
  {
   "cell_type": "code",
   "execution_count": 141,
   "metadata": {
    "collapsed": true
   },
   "outputs": [],
   "source": [
    "x_train2, x_test2, y_train2, y_test2 = train_test_split(x2,y2,test_size = 0.3)"
   ]
  },
  {
   "cell_type": "code",
   "execution_count": 362,
   "metadata": {},
   "outputs": [
    {
     "name": "stdout",
     "output_type": "stream",
     "text": [
      "Linear Regression\n",
      "Cross-validation score: [ 0.10710213  0.15606626  0.01894054]\n",
      "Training R^2: 0.453988777254\n",
      "Test R^2: 0.249875942729\n",
      "MAE: 0.305812903249\n",
      "MSE: 0.14730264224\n",
      "RMSE: 0.38380026347\n",
      "\n",
      "\n",
      "Lasso Regression\n",
      "Cross-validation score: [ 0.17037567  0.20951368  0.06612992]\n",
      "Training R^2: 0.367468610162\n",
      "Test R^2: 0.270357063378\n",
      "MAE: 0.298519982421\n",
      "MSE: 0.14328074325\n",
      "RMSE: 0.378524428869\n",
      "\n",
      "\n",
      "Ridge Regression\n",
      "Cross-validation score: [ 0.25454116  0.19889664  0.20252371]\n",
      "Training R^2: 0.440974506713\n",
      "Test R^2: 0.287589822494\n",
      "MAE: 0.298121089296\n",
      "MSE: 0.139896728398\n",
      "RMSE: 0.374027710736\n",
      "\n",
      "\n",
      "K-Nearest Neighbors Regression\n",
      "Cross-validation score: [ 0.02124998 -0.05335631 -0.21732657]\n",
      "Training R^2: 0.227246109405\n",
      "Test R^2: -0.034089816803\n",
      "MAE: 0.33664839323\n",
      "MSE: 0.203065294136\n",
      "RMSE: 0.450627666856\n",
      "\n",
      "\n",
      "Decision Tree Regression\n",
      "Cross-validation score: [-0.77492332 -1.3494114  -0.44306568]\n",
      "Training R^2: 0.999999995877\n",
      "Test R^2: -1.27766840618\n",
      "MAE: 0.501904484487\n",
      "MSE: 0.447268116685\n",
      "RMSE: 0.668781067828\n",
      "\n",
      "\n",
      "Random Forest Regression\n",
      "Cross-validation score: [ 0.05244662 -0.12983387  0.05631401]\n",
      "Training R^2: 0.84501009962\n",
      "Test R^2: -0.0195874906973\n",
      "MAE: 0.342745680906\n",
      "MSE: 0.200217457257\n",
      "RMSE: 0.447456654054\n",
      "\n",
      "\n",
      "Extra Trees Regression\n",
      "Cross-validation score: [ 0.01386282  0.05219222  0.18977577]\n",
      "Training R^2: 0.999999999656\n",
      "Test R^2: -0.141097826352\n",
      "MAE: 0.36525261812\n",
      "MSE: 0.2240785684\n",
      "RMSE: 0.473369378393\n",
      "\n",
      "\n",
      "AdaBoost Regression\n",
      "Cross-validation score: [ 0.03078522  0.06508161  0.21487995]\n",
      "Training R^2: 0.669174941909\n",
      "Test R^2: 0.00339336962971\n",
      "MAE: 0.341234090271\n",
      "MSE: 0.195704681784\n",
      "RMSE: 0.442385218768\n",
      "\n",
      "\n",
      "GradientBoost Regression\n",
      "Cross-validation score: [-0.09949259  0.10363777  0.14484405]\n",
      "Training R^2: 0.957490836812\n",
      "Test R^2: -0.0602796880561\n",
      "MAE: 0.346860733232\n",
      "MSE: 0.208208226426\n",
      "RMSE: 0.456298396256\n",
      "\n",
      "\n",
      "Bagging Regression\n",
      "Cross-validation score: [-0.06219134 -0.00166625  0.07712549]\n",
      "Training R^2: 0.824163810561\n",
      "Test R^2: 0.0264548496624\n",
      "MAE: 0.334270948605\n",
      "MSE: 0.191176074936\n",
      "RMSE: 0.437236863652\n",
      "\n",
      "\n",
      "XGBoost Regression\n",
      "Cross-validation score: [ 0.01882108  0.12150371  0.13479061]\n",
      "Training R^2: 0.958296694836\n",
      "Test R^2: 0.01877811548\n",
      "MAE: 0.334353599624\n",
      "MSE: 0.192683563221\n",
      "RMSE: 0.438957359229\n",
      "\n",
      "\n"
     ]
    }
   ],
   "source": [
    "rundefaultmodels(x_train2, y_train2, x_test2, y_test2)"
   ]
  },
  {
   "cell_type": "markdown",
   "metadata": {},
   "source": [
    "**Seems like including WS did better overall, but we still need to tune the tree and ensemble models to prevent overfitting before we can make a conclusion**"
   ]
  },
  {
   "cell_type": "markdown",
   "metadata": {},
   "source": [
    "**We will also test with PCA targets**"
   ]
  },
  {
   "cell_type": "code",
   "execution_count": 143,
   "metadata": {},
   "outputs": [
    {
     "data": {
      "text/html": [
       "<div>\n",
       "<table border=\"1\" class=\"dataframe\">\n",
       "  <thead>\n",
       "    <tr style=\"text-align: right;\">\n",
       "      <th></th>\n",
       "      <th>PER</th>\n",
       "      <th>WS</th>\n",
       "      <th>WS/48</th>\n",
       "      <th>BPM</th>\n",
       "      <th>VORP</th>\n",
       "      <th>Total</th>\n",
       "      <th>TotalWS</th>\n",
       "      <th>TotalWS48</th>\n",
       "      <th>Name</th>\n",
       "      <th>TotalPCAWS</th>\n",
       "      <th>TotalPCAWS48</th>\n",
       "    </tr>\n",
       "  </thead>\n",
       "  <tbody>\n",
       "    <tr>\n",
       "      <th>0</th>\n",
       "      <td>0.395012</td>\n",
       "      <td>0.083958</td>\n",
       "      <td>0.531904</td>\n",
       "      <td>0.538026</td>\n",
       "      <td>0.137856</td>\n",
       "      <td>1.686755</td>\n",
       "      <td>1.154851</td>\n",
       "      <td>1.602797</td>\n",
       "      <td>A.J. Price</td>\n",
       "      <td>-0.222778</td>\n",
       "      <td>-0.178794</td>\n",
       "    </tr>\n",
       "    <tr>\n",
       "      <th>1</th>\n",
       "      <td>0.441673</td>\n",
       "      <td>0.100450</td>\n",
       "      <td>0.662583</td>\n",
       "      <td>0.610373</td>\n",
       "      <td>0.150985</td>\n",
       "      <td>1.966063</td>\n",
       "      <td>1.303480</td>\n",
       "      <td>1.865614</td>\n",
       "      <td>Aaron Gray</td>\n",
       "      <td>-0.155401</td>\n",
       "      <td>-0.050713</td>\n",
       "    </tr>\n",
       "    <tr>\n",
       "      <th>2</th>\n",
       "      <td>0.399035</td>\n",
       "      <td>0.224888</td>\n",
       "      <td>0.648800</td>\n",
       "      <td>0.666158</td>\n",
       "      <td>0.225383</td>\n",
       "      <td>2.164264</td>\n",
       "      <td>1.515463</td>\n",
       "      <td>1.939376</td>\n",
       "      <td>Aaron Mckie</td>\n",
       "      <td>-0.040903</td>\n",
       "      <td>-0.019673</td>\n",
       "    </tr>\n",
       "    <tr>\n",
       "      <th>3</th>\n",
       "      <td>0.458568</td>\n",
       "      <td>0.253373</td>\n",
       "      <td>0.723328</td>\n",
       "      <td>0.644367</td>\n",
       "      <td>0.207877</td>\n",
       "      <td>2.287514</td>\n",
       "      <td>1.564186</td>\n",
       "      <td>2.034141</td>\n",
       "      <td>Adam Keefe</td>\n",
       "      <td>-0.010397</td>\n",
       "      <td>0.030822</td>\n",
       "    </tr>\n",
       "    <tr>\n",
       "      <th>4</th>\n",
       "      <td>0.398230</td>\n",
       "      <td>0.089955</td>\n",
       "      <td>0.518632</td>\n",
       "      <td>0.577250</td>\n",
       "      <td>0.148796</td>\n",
       "      <td>1.732864</td>\n",
       "      <td>1.214232</td>\n",
       "      <td>1.642908</td>\n",
       "      <td>Adonal Foyle</td>\n",
       "      <td>-0.197064</td>\n",
       "      <td>-0.159620</td>\n",
       "    </tr>\n",
       "  </tbody>\n",
       "</table>\n",
       "</div>"
      ],
      "text/plain": [
       "        PER        WS     WS/48       BPM      VORP     Total   TotalWS  \\\n",
       "0  0.395012  0.083958  0.531904  0.538026  0.137856  1.686755  1.154851   \n",
       "1  0.441673  0.100450  0.662583  0.610373  0.150985  1.966063  1.303480   \n",
       "2  0.399035  0.224888  0.648800  0.666158  0.225383  2.164264  1.515463   \n",
       "3  0.458568  0.253373  0.723328  0.644367  0.207877  2.287514  1.564186   \n",
       "4  0.398230  0.089955  0.518632  0.577250  0.148796  1.732864  1.214232   \n",
       "\n",
       "   TotalWS48          Name  TotalPCAWS  TotalPCAWS48  \n",
       "0   1.602797    A.J. Price   -0.222778     -0.178794  \n",
       "1   1.865614    Aaron Gray   -0.155401     -0.050713  \n",
       "2   1.939376   Aaron Mckie   -0.040903     -0.019673  \n",
       "3   2.034141    Adam Keefe   -0.010397      0.030822  \n",
       "4   1.642908  Adonal Foyle   -0.197064     -0.159620  "
      ]
     },
     "execution_count": 143,
     "metadata": {},
     "output_type": "execute_result"
    }
   ],
   "source": [
    "pcatest = pd.read_csv('/Users/mattlee/GA-Capstone-Project/pcatest.csv')\n",
    "pcatest.head()"
   ]
  },
  {
   "cell_type": "code",
   "execution_count": 144,
   "metadata": {
    "collapsed": true
   },
   "outputs": [],
   "source": [
    "data2 = data1.merge(pcatest[['Name', 'TotalPCAWS','TotalPCAWS48']], on = 'Name', how = 'left')"
   ]
  },
  {
   "cell_type": "code",
   "execution_count": 146,
   "metadata": {
    "collapsed": true
   },
   "outputs": [],
   "source": [
    "x3 = data2[features]\n",
    "y3 = data2['TotalPCAWS']"
   ]
  },
  {
   "cell_type": "code",
   "execution_count": 147,
   "metadata": {
    "collapsed": true
   },
   "outputs": [],
   "source": [
    "x_train3, x_test3, y_train3, y_test3 = train_test_split(x3,y3,test_size = 0.3)"
   ]
  },
  {
   "cell_type": "code",
   "execution_count": 363,
   "metadata": {},
   "outputs": [
    {
     "name": "stdout",
     "output_type": "stream",
     "text": [
      "Linear Regression\n",
      "Cross-validation score: [ 0.29302254  0.29888875  0.4236072 ]\n",
      "Training R^2: 0.517378639333\n",
      "Test R^2: 0.203786473254\n",
      "MAE: 0.194619849213\n",
      "MSE: 0.0623858630651\n",
      "RMSE: 0.249771621817\n",
      "\n",
      "\n",
      "Lasso Regression\n",
      "Cross-validation score: [ 0.3122424   0.43721605  0.36518297]\n",
      "Training R^2: 0.502172718349\n",
      "Test R^2: 0.184490815052\n",
      "MAE: 0.195729889232\n",
      "MSE: 0.0638977392766\n",
      "RMSE: 0.252780021514\n",
      "\n",
      "\n",
      "Ridge Regression\n",
      "Cross-validation score: [ 0.31531114  0.43490681  0.36612739]\n",
      "Training R^2: 0.500133962464\n",
      "Test R^2: 0.179763056996\n",
      "MAE: 0.196439942078\n",
      "MSE: 0.0642681741622\n",
      "RMSE: 0.253511684469\n",
      "\n",
      "\n",
      "K-Nearest Neighbors Regression\n",
      "Cross-validation score: [ 0.07279543  0.02653404 -0.09917394]\n",
      "Training R^2: 0.334773863844\n",
      "Test R^2: -0.100475157756\n",
      "MAE: 0.226884116237\n",
      "MSE: 0.086225729898\n",
      "RMSE: 0.293642180039\n",
      "\n",
      "\n",
      "Decision Tree Regression\n",
      "Cross-validation score: [-0.70559525 -0.99991279 -1.44797095]\n",
      "Training R^2: 0.999999992039\n",
      "Test R^2: -0.537788756665\n",
      "MAE: 0.266369759957\n",
      "MSE: 0.120490641736\n",
      "RMSE: 0.347117619455\n",
      "\n",
      "\n",
      "Random Forest Regression\n",
      "Cross-validation score: [ 0.34503738  0.06146662  0.1215644 ]\n",
      "Training R^2: 0.858046980025\n",
      "Test R^2: -0.00906259797095\n",
      "MAE: 0.216142626671\n",
      "MSE: 0.0790632649993\n",
      "RMSE: 0.281181907311\n",
      "\n",
      "\n",
      "Extra Trees Regression\n",
      "Cross-validation score: [ 0.31119282  0.00622315  0.17517873]\n",
      "Training R^2: 0.999999998234\n",
      "Test R^2: -0.0106781136841\n",
      "MAE: 0.21798667849\n",
      "MSE: 0.0791898457954\n",
      "RMSE: 0.281406904314\n",
      "\n",
      "\n",
      "AdaBoost Regression\n",
      "Cross-validation score: [ 0.29315621  0.23944694  0.19020123]\n",
      "Training R^2: 0.708406811734\n",
      "Test R^2: 0.0412549396485\n",
      "MAE: 0.219735254022\n",
      "MSE: 0.0751207258358\n",
      "RMSE: 0.274081604337\n",
      "\n",
      "\n",
      "GradientBoost Regression\n",
      "Cross-validation score: [ 0.27265354  0.40814263  0.23091123]\n",
      "Training R^2: 0.972615694084\n",
      "Test R^2: -0.199785076114\n",
      "MAE: 0.24330783729\n",
      "MSE: 0.0940069779672\n",
      "RMSE: 0.306605573934\n",
      "\n",
      "\n",
      "Bagging Regression\n",
      "Cross-validation score: [ 0.3408682   0.18228755  0.13431998]\n",
      "Training R^2: 0.846227068799\n",
      "Test R^2: -0.0233443259611\n",
      "MAE: 0.224088744663\n",
      "MSE: 0.0801822838263\n",
      "RMSE: 0.28316476445\n",
      "\n",
      "\n",
      "XGBoost Regression\n",
      "Cross-validation score: [ 0.32317951  0.30844293  0.21350844]\n",
      "Training R^2: 0.969885901965\n",
      "Test R^2: -0.103831093966\n",
      "MAE: 0.229637541452\n",
      "MSE: 0.0864886781773\n",
      "RMSE: 0.294089575091\n",
      "\n",
      "\n"
     ]
    }
   ],
   "source": [
    "rundefaultmodels(x_train3, y_train3, x_test3, y_test3)"
   ]
  },
  {
   "cell_type": "code",
   "execution_count": 149,
   "metadata": {
    "collapsed": true
   },
   "outputs": [],
   "source": [
    "x4 = data2[features]\n",
    "y4 = data2['TotalPCAWS48']"
   ]
  },
  {
   "cell_type": "code",
   "execution_count": 150,
   "metadata": {
    "collapsed": true
   },
   "outputs": [],
   "source": [
    "x_train4, x_test4, y_train4, y_test4 = train_test_split(x4,y4,test_size = 0.3)"
   ]
  },
  {
   "cell_type": "code",
   "execution_count": 364,
   "metadata": {},
   "outputs": [
    {
     "name": "stdout",
     "output_type": "stream",
     "text": [
      "Linear Regression\n",
      "Cross-validation score: [-0.16068663  0.2019638   0.45733681]\n",
      "Training R^2: 0.483905047852\n",
      "Test R^2: -0.0739114137987\n",
      "MAE: 0.152053954054\n",
      "MSE: 0.0390910048581\n",
      "RMSE: 0.197714452831\n",
      "\n",
      "\n",
      "Lasso Regression\n",
      "Cross-validation score: [ 0.12312063  0.1589859   0.04707754]\n",
      "Training R^2: 0.434867784487\n",
      "Test R^2: 0.0936733978956\n",
      "MAE: 0.137755157951\n",
      "MSE: 0.0329908194947\n",
      "RMSE: 0.181633750979\n",
      "\n",
      "\n",
      "Ridge Regression\n",
      "Cross-validation score: [ 0.07509643  0.17012823  0.41958647]\n",
      "Training R^2: 0.458784534697\n",
      "Test R^2: 0.0755440190684\n",
      "MAE: 0.140119660912\n",
      "MSE: 0.0336507395092\n",
      "RMSE: 0.183441378945\n",
      "\n",
      "\n",
      "K-Nearest Neighbors Regression\n",
      "Cross-validation score: [-0.35037574 -0.20900971 -0.08382386]\n",
      "Training R^2: 0.292308031526\n",
      "Test R^2: -0.135839019994\n",
      "MAE: 0.160347584546\n",
      "MSE: 0.041345206018\n",
      "RMSE: 0.203335206047\n",
      "\n",
      "\n",
      "Decision Tree Regression\n",
      "Cross-validation score: [-0.69132156 -0.3204127  -0.90960118]\n",
      "Training R^2: 0.999999974537\n",
      "Test R^2: -0.298357293448\n",
      "MAE: 0.161563221126\n",
      "MSE: 0.0472609664201\n",
      "RMSE: 0.217395874892\n",
      "\n",
      "\n",
      "Random Forest Regression\n",
      "Cross-validation score: [-0.09325593 -0.36690188  0.01827503]\n",
      "Training R^2: 0.782846467263\n",
      "Test R^2: 0.076598129799\n",
      "MAE: 0.138269012693\n",
      "MSE: 0.0336123692608\n",
      "RMSE: 0.183336764619\n",
      "\n",
      "\n",
      "Extra Trees Regression\n",
      "Cross-validation score: [-0.16808716 -0.44725632  0.01112324]\n",
      "Training R^2: 0.999999998925\n",
      "Test R^2: -0.0725744006176\n",
      "MAE: 0.14602918595\n",
      "MSE: 0.0390423367947\n",
      "RMSE: 0.197591337853\n",
      "\n",
      "\n",
      "AdaBoost Regression\n",
      "Cross-validation score: [ 0.07598939 -0.22575398  0.170107  ]\n",
      "Training R^2: 0.634041594907\n",
      "Test R^2: 0.168109686319\n",
      "MAE: 0.134372120434\n",
      "MSE: 0.0302812949706\n",
      "RMSE: 0.174015214768\n",
      "\n",
      "\n",
      "GradientBoost Regression\n",
      "Cross-validation score: [ 0.0157571  -0.41217818  0.12414072]\n",
      "Training R^2: 0.959032882678\n",
      "Test R^2: 0.0975722632238\n",
      "MAE: 0.139589783519\n",
      "MSE: 0.0328488985117\n",
      "RMSE: 0.181242650918\n",
      "\n",
      "\n",
      "Bagging Regression\n",
      "Cross-validation score: [-0.02441022 -0.33147703  0.08783072]\n",
      "Training R^2: 0.832662717087\n",
      "Test R^2: 0.162747317873\n",
      "MAE: 0.133019389389\n",
      "MSE: 0.0304764883248\n",
      "RMSE: 0.174575165258\n",
      "\n",
      "\n",
      "XGBoost Regression\n",
      "Cross-validation score: [ 0.01021884 -0.26416269  0.16356501]\n",
      "Training R^2: 0.940399206514\n",
      "Test R^2: 0.0977675719195\n",
      "MAE: 0.142279794036\n",
      "MSE: 0.0328417891607\n",
      "RMSE: 0.181223037058\n",
      "\n",
      "\n"
     ]
    }
   ],
   "source": [
    "rundefaultmodels(x_train4,y_train4,x_test4,y_test4)"
   ]
  },
  {
   "cell_type": "markdown",
   "metadata": {},
   "source": [
    "**Looks like normalized targets did better and Win Shares seems better for the model than Win Shares per 48 with default models**"
   ]
  },
  {
   "cell_type": "code",
   "execution_count": 339,
   "metadata": {},
   "outputs": [
    {
     "data": {
      "text/html": [
       "<div>\n",
       "<table border=\"1\" class=\"dataframe\">\n",
       "  <thead>\n",
       "    <tr style=\"text-align: right;\">\n",
       "      <th></th>\n",
       "      <th>Name</th>\n",
       "      <th>Team</th>\n",
       "      <th>PPG</th>\n",
       "      <th>Games Played</th>\n",
       "      <th>MPG</th>\n",
       "      <th>FGM</th>\n",
       "      <th>FGA</th>\n",
       "      <th>FG%</th>\n",
       "      <th>FTM</th>\n",
       "      <th>FTA</th>\n",
       "      <th>FT%</th>\n",
       "      <th>3PM</th>\n",
       "      <th>3PA</th>\n",
       "      <th>3P%</th>\n",
       "      <th>ORB</th>\n",
       "      <th>DRB</th>\n",
       "      <th>RPG</th>\n",
       "      <th>APG</th>\n",
       "      <th>SPG</th>\n",
       "      <th>BPG</th>\n",
       "      <th>TOV</th>\n",
       "      <th>PF</th>\n",
       "      <th>Year</th>\n",
       "      <th>NBATeam</th>\n",
       "      <th>CollegeName</th>\n",
       "      <th>Age at Draft</th>\n",
       "      <th>Weight at Draft</th>\n",
       "      <th>Height Inches</th>\n",
       "      <th>PER</th>\n",
       "      <th>WS</th>\n",
       "      <th>WS/48</th>\n",
       "      <th>BPM</th>\n",
       "      <th>VORP</th>\n",
       "      <th>TopSchool</th>\n",
       "      <th>Total</th>\n",
       "      <th>TotalWS</th>\n",
       "      <th>TotalWS48</th>\n",
       "      <th>TotalPCAWS</th>\n",
       "      <th>TotalPCAWS48</th>\n",
       "      <th>TotalOff</th>\n",
       "      <th>TotalDef</th>\n",
       "    </tr>\n",
       "  </thead>\n",
       "  <tbody>\n",
       "    <tr>\n",
       "      <th>0</th>\n",
       "      <td>A.J. Price</td>\n",
       "      <td>UConn</td>\n",
       "      <td>12.466667</td>\n",
       "      <td>33.000000</td>\n",
       "      <td>29.30</td>\n",
       "      <td>4.166667</td>\n",
       "      <td>10.10</td>\n",
       "      <td>0.410667</td>\n",
       "      <td>2.633333</td>\n",
       "      <td>3.600000</td>\n",
       "      <td>0.719000</td>\n",
       "      <td>1.50</td>\n",
       "      <td>4.166667</td>\n",
       "      <td>0.348</td>\n",
       "      <td>0.800</td>\n",
       "      <td>2.433333</td>\n",
       "      <td>3.233333</td>\n",
       "      <td>4.566667</td>\n",
       "      <td>1.066667</td>\n",
       "      <td>0.066667</td>\n",
       "      <td>2.300000</td>\n",
       "      <td>1.300000</td>\n",
       "      <td>2009.0</td>\n",
       "      <td>IND</td>\n",
       "      <td>University of Connecticut</td>\n",
       "      <td>22.5</td>\n",
       "      <td>193.0</td>\n",
       "      <td>74.0</td>\n",
       "      <td>11.66</td>\n",
       "      <td>4.4</td>\n",
       "      <td>0.0440</td>\n",
       "      <td>-2.98</td>\n",
       "      <td>-0.3</td>\n",
       "      <td>0</td>\n",
       "      <td>1.686755</td>\n",
       "      <td>1.154851</td>\n",
       "      <td>1.602797</td>\n",
       "      <td>-0.222778</td>\n",
       "      <td>-0.178794</td>\n",
       "      <td>1.545085</td>\n",
       "      <td>0.672569</td>\n",
       "    </tr>\n",
       "    <tr>\n",
       "      <th>1</th>\n",
       "      <td>Aaron Gray</td>\n",
       "      <td>PITT</td>\n",
       "      <td>8.750000</td>\n",
       "      <td>28.250000</td>\n",
       "      <td>18.40</td>\n",
       "      <td>3.425000</td>\n",
       "      <td>6.25</td>\n",
       "      <td>0.554250</td>\n",
       "      <td>1.900000</td>\n",
       "      <td>3.175000</td>\n",
       "      <td>0.590500</td>\n",
       "      <td>0.00</td>\n",
       "      <td>0.000000</td>\n",
       "      <td>0.000</td>\n",
       "      <td>2.275</td>\n",
       "      <td>3.975000</td>\n",
       "      <td>6.275000</td>\n",
       "      <td>1.175000</td>\n",
       "      <td>0.300000</td>\n",
       "      <td>1.025000</td>\n",
       "      <td>1.350000</td>\n",
       "      <td>1.975000</td>\n",
       "      <td>2007.0</td>\n",
       "      <td>CHI</td>\n",
       "      <td>University of Pittsburgh</td>\n",
       "      <td>22.3</td>\n",
       "      <td>280.0</td>\n",
       "      <td>85.0</td>\n",
       "      <td>12.82</td>\n",
       "      <td>5.5</td>\n",
       "      <td>0.0952</td>\n",
       "      <td>-1.32</td>\n",
       "      <td>0.3</td>\n",
       "      <td>0</td>\n",
       "      <td>1.966063</td>\n",
       "      <td>1.303480</td>\n",
       "      <td>1.865614</td>\n",
       "      <td>-0.155401</td>\n",
       "      <td>-0.050713</td>\n",
       "      <td>2.490563</td>\n",
       "      <td>1.537938</td>\n",
       "    </tr>\n",
       "    <tr>\n",
       "      <th>2</th>\n",
       "      <td>Al Horford</td>\n",
       "      <td>UF</td>\n",
       "      <td>9.866667</td>\n",
       "      <td>36.333333</td>\n",
       "      <td>25.50</td>\n",
       "      <td>3.766667</td>\n",
       "      <td>6.40</td>\n",
       "      <td>0.565333</td>\n",
       "      <td>2.433333</td>\n",
       "      <td>3.966667</td>\n",
       "      <td>0.612333</td>\n",
       "      <td>0.00</td>\n",
       "      <td>0.066667</td>\n",
       "      <td>0.000</td>\n",
       "      <td>2.300</td>\n",
       "      <td>5.500000</td>\n",
       "      <td>7.766667</td>\n",
       "      <td>1.633333</td>\n",
       "      <td>0.833333</td>\n",
       "      <td>1.700000</td>\n",
       "      <td>1.533333</td>\n",
       "      <td>2.433333</td>\n",
       "      <td>2007.0</td>\n",
       "      <td>ATL</td>\n",
       "      <td>University of Florida</td>\n",
       "      <td>20.8</td>\n",
       "      <td>246.0</td>\n",
       "      <td>82.0</td>\n",
       "      <td>18.16</td>\n",
       "      <td>34.6</td>\n",
       "      <td>0.1580</td>\n",
       "      <td>2.52</td>\n",
       "      <td>12.3</td>\n",
       "      <td>1</td>\n",
       "      <td>3.207373</td>\n",
       "      <td>2.384504</td>\n",
       "      <td>2.670641</td>\n",
       "      <td>0.411597</td>\n",
       "      <td>0.352678</td>\n",
       "      <td>2.423414</td>\n",
       "      <td>1.949977</td>\n",
       "    </tr>\n",
       "    <tr>\n",
       "      <th>3</th>\n",
       "      <td>Al-Farouq Aminu</td>\n",
       "      <td>WF</td>\n",
       "      <td>13.300000</td>\n",
       "      <td>31.000000</td>\n",
       "      <td>30.15</td>\n",
       "      <td>4.650000</td>\n",
       "      <td>9.80</td>\n",
       "      <td>0.481500</td>\n",
       "      <td>3.600000</td>\n",
       "      <td>5.200000</td>\n",
       "      <td>0.684500</td>\n",
       "      <td>0.40</td>\n",
       "      <td>1.550000</td>\n",
       "      <td>0.226</td>\n",
       "      <td>3.050</td>\n",
       "      <td>5.650000</td>\n",
       "      <td>8.700000</td>\n",
       "      <td>1.300000</td>\n",
       "      <td>1.150000</td>\n",
       "      <td>1.250000</td>\n",
       "      <td>2.650000</td>\n",
       "      <td>2.550000</td>\n",
       "      <td>2010.0</td>\n",
       "      <td>LAC</td>\n",
       "      <td>Wake Forest University</td>\n",
       "      <td>19.5</td>\n",
       "      <td>216.0</td>\n",
       "      <td>80.0</td>\n",
       "      <td>12.30</td>\n",
       "      <td>11.6</td>\n",
       "      <td>0.0652</td>\n",
       "      <td>-0.36</td>\n",
       "      <td>3.5</td>\n",
       "      <td>0</td>\n",
       "      <td>2.071892</td>\n",
       "      <td>1.485879</td>\n",
       "      <td>1.879988</td>\n",
       "      <td>-0.058963</td>\n",
       "      <td>-0.045261</td>\n",
       "      <td>1.831858</td>\n",
       "      <td>1.621651</td>\n",
       "    </tr>\n",
       "    <tr>\n",
       "      <th>4</th>\n",
       "      <td>Alec Burks</td>\n",
       "      <td>UCOL</td>\n",
       "      <td>18.450000</td>\n",
       "      <td>34.000000</td>\n",
       "      <td>30.80</td>\n",
       "      <td>6.100000</td>\n",
       "      <td>12.20</td>\n",
       "      <td>0.503000</td>\n",
       "      <td>5.650000</td>\n",
       "      <td>7.100000</td>\n",
       "      <td>0.798500</td>\n",
       "      <td>0.65</td>\n",
       "      <td>2.150000</td>\n",
       "      <td>0.322</td>\n",
       "      <td>2.100</td>\n",
       "      <td>3.500000</td>\n",
       "      <td>5.650000</td>\n",
       "      <td>2.300000</td>\n",
       "      <td>1.150000</td>\n",
       "      <td>0.350000</td>\n",
       "      <td>2.200000</td>\n",
       "      <td>2.350000</td>\n",
       "      <td>2011.0</td>\n",
       "      <td>UTA</td>\n",
       "      <td>University of Colorado</td>\n",
       "      <td>19.7</td>\n",
       "      <td>193.0</td>\n",
       "      <td>78.0</td>\n",
       "      <td>13.72</td>\n",
       "      <td>8.9</td>\n",
       "      <td>0.0738</td>\n",
       "      <td>-2.10</td>\n",
       "      <td>0.2</td>\n",
       "      <td>0</td>\n",
       "      <td>1.962438</td>\n",
       "      <td>1.354475</td>\n",
       "      <td>1.811014</td>\n",
       "      <td>-0.119639</td>\n",
       "      <td>-0.072433</td>\n",
       "      <td>2.119826</td>\n",
       "      <td>0.824115</td>\n",
       "    </tr>\n",
       "  </tbody>\n",
       "</table>\n",
       "</div>"
      ],
      "text/plain": [
       "              Name   Team        PPG  Games Played    MPG       FGM    FGA  \\\n",
       "0       A.J. Price  UConn  12.466667     33.000000  29.30  4.166667  10.10   \n",
       "1       Aaron Gray   PITT   8.750000     28.250000  18.40  3.425000   6.25   \n",
       "2       Al Horford     UF   9.866667     36.333333  25.50  3.766667   6.40   \n",
       "3  Al-Farouq Aminu     WF  13.300000     31.000000  30.15  4.650000   9.80   \n",
       "4       Alec Burks   UCOL  18.450000     34.000000  30.80  6.100000  12.20   \n",
       "\n",
       "        FG%       FTM       FTA       FT%   3PM       3PA    3P%    ORB  \\\n",
       "0  0.410667  2.633333  3.600000  0.719000  1.50  4.166667  0.348  0.800   \n",
       "1  0.554250  1.900000  3.175000  0.590500  0.00  0.000000  0.000  2.275   \n",
       "2  0.565333  2.433333  3.966667  0.612333  0.00  0.066667  0.000  2.300   \n",
       "3  0.481500  3.600000  5.200000  0.684500  0.40  1.550000  0.226  3.050   \n",
       "4  0.503000  5.650000  7.100000  0.798500  0.65  2.150000  0.322  2.100   \n",
       "\n",
       "        DRB       RPG       APG       SPG       BPG       TOV        PF  \\\n",
       "0  2.433333  3.233333  4.566667  1.066667  0.066667  2.300000  1.300000   \n",
       "1  3.975000  6.275000  1.175000  0.300000  1.025000  1.350000  1.975000   \n",
       "2  5.500000  7.766667  1.633333  0.833333  1.700000  1.533333  2.433333   \n",
       "3  5.650000  8.700000  1.300000  1.150000  1.250000  2.650000  2.550000   \n",
       "4  3.500000  5.650000  2.300000  1.150000  0.350000  2.200000  2.350000   \n",
       "\n",
       "     Year NBATeam                CollegeName  Age at Draft  Weight at Draft  \\\n",
       "0  2009.0     IND  University of Connecticut          22.5            193.0   \n",
       "1  2007.0     CHI   University of Pittsburgh          22.3            280.0   \n",
       "2  2007.0     ATL      University of Florida          20.8            246.0   \n",
       "3  2010.0     LAC     Wake Forest University          19.5            216.0   \n",
       "4  2011.0     UTA     University of Colorado          19.7            193.0   \n",
       "\n",
       "   Height Inches    PER    WS   WS/48   BPM  VORP  TopSchool     Total  \\\n",
       "0           74.0  11.66   4.4  0.0440 -2.98  -0.3          0  1.686755   \n",
       "1           85.0  12.82   5.5  0.0952 -1.32   0.3          0  1.966063   \n",
       "2           82.0  18.16  34.6  0.1580  2.52  12.3          1  3.207373   \n",
       "3           80.0  12.30  11.6  0.0652 -0.36   3.5          0  2.071892   \n",
       "4           78.0  13.72   8.9  0.0738 -2.10   0.2          0  1.962438   \n",
       "\n",
       "    TotalWS  TotalWS48  TotalPCAWS  TotalPCAWS48  TotalOff  TotalDef  \n",
       "0  1.154851   1.602797   -0.222778     -0.178794  1.545085  0.672569  \n",
       "1  1.303480   1.865614   -0.155401     -0.050713  2.490563  1.537938  \n",
       "2  2.384504   2.670641    0.411597      0.352678  2.423414  1.949977  \n",
       "3  1.485879   1.879988   -0.058963     -0.045261  1.831858  1.621651  \n",
       "4  1.354475   1.811014   -0.119639     -0.072433  2.119826  0.824115  "
      ]
     },
     "execution_count": 339,
     "metadata": {},
     "output_type": "execute_result"
    }
   ],
   "source": [
    "data3 = data2.merge(offense1[['Name','TotalOff']], on = 'Name')\n",
    "data4 = data3.merge(defense1[['Name','TotalDef']], on = 'Name')\n",
    "data4.head()"
   ]
  },
  {
   "cell_type": "code",
   "execution_count": 340,
   "metadata": {
    "collapsed": true
   },
   "outputs": [],
   "source": [
    "x5 = data4[features]\n",
    "y5 = data4['TotalOff']"
   ]
  },
  {
   "cell_type": "code",
   "execution_count": 341,
   "metadata": {
    "collapsed": true
   },
   "outputs": [],
   "source": [
    "x_train5, x_test5, y_train5, y_test5 = train_test_split(x5,y5, test_size = 0.3)"
   ]
  },
  {
   "cell_type": "code",
   "execution_count": 365,
   "metadata": {},
   "outputs": [
    {
     "name": "stdout",
     "output_type": "stream",
     "text": [
      "Linear Regression\n",
      "Cross-validation score: [ 0.16703379  0.55070764  0.36409867]\n",
      "Training R^2: 0.56267565639\n",
      "Test R^2: 0.43491948074\n",
      "MAE: 0.245528163751\n",
      "MSE: 0.0915269847137\n",
      "RMSE: 0.302534270313\n",
      "\n",
      "\n",
      "Lasso Regression\n",
      "Cross-validation score: [ 0.19639496  0.47769652  0.42295918]\n",
      "Training R^2: 0.490261915747\n",
      "Test R^2: 0.415151364325\n",
      "MAE: 0.246683450454\n",
      "MSE: 0.0947288577694\n",
      "RMSE: 0.307780535072\n",
      "\n",
      "\n",
      "Ridge Regression\n",
      "Cross-validation score: [ 0.19465163  0.53375085  0.36923749]\n",
      "Training R^2: 0.510264755309\n",
      "Test R^2: 0.389767088817\n",
      "MAE: 0.248446337583\n",
      "MSE: 0.0988403889887\n",
      "RMSE: 0.314388913591\n",
      "\n",
      "\n",
      "K-Nearest Neighbors Regression\n",
      "Cross-validation score: [-0.10788473  0.06234261  0.16977669]\n",
      "Training R^2: 0.45167230371\n",
      "Test R^2: 0.304032717806\n",
      "MAE: 0.269849572771\n",
      "MSE: 0.112726920549\n",
      "RMSE: 0.335748299399\n",
      "\n",
      "\n",
      "Decision Tree Regression\n",
      "Cross-validation score: [-0.88746511 -0.286176    0.15026099]\n",
      "Training R^2: 0.999999999757\n",
      "Test R^2: -0.23327807641\n",
      "MAE: 0.335265491323\n",
      "MSE: 0.199755999012\n",
      "RMSE: 0.446940710847\n",
      "\n",
      "\n",
      "Random Forest Regression\n",
      "Cross-validation score: [-0.00066729  0.29767681  0.38555571]\n",
      "Training R^2: 0.871185348005\n",
      "Test R^2: 0.314284628826\n",
      "MAE: 0.25822899762\n",
      "MSE: 0.11106640232\n",
      "RMSE: 0.333266263399\n",
      "\n",
      "\n",
      "Extra Trees Regression\n",
      "Cross-validation score: [-0.15085574  0.25399402  0.35511427]\n",
      "Training R^2: 0.999999999956\n",
      "Test R^2: 0.318993302461\n",
      "MAE: 0.264820700314\n",
      "MSE: 0.11030373101\n",
      "RMSE: 0.332120055116\n",
      "\n",
      "\n",
      "AdaBoost Regression\n",
      "Cross-validation score: [-0.06225714  0.34615499  0.41542393]\n",
      "Training R^2: 0.747900560329\n",
      "Test R^2: 0.355768599794\n",
      "MAE: 0.25607121292\n",
      "MSE: 0.104347177984\n",
      "RMSE: 0.323028138069\n",
      "\n",
      "\n",
      "GradientBoost Regression\n",
      "Cross-validation score: [-0.15911556  0.34793967  0.38704823]\n",
      "Training R^2: 0.968824458809\n",
      "Test R^2: 0.284927351627\n",
      "MAE: 0.273437617677\n",
      "MSE: 0.115821446902\n",
      "RMSE: 0.340325501398\n",
      "\n",
      "\n",
      "Bagging Regression\n",
      "Cross-validation score: [-0.01462773  0.33328199  0.39838278]\n",
      "Training R^2: 0.882273636813\n",
      "Test R^2: 0.386261944229\n",
      "MAE: 0.245500722586\n",
      "MSE: 0.0994081227969\n",
      "RMSE: 0.315290537119\n",
      "\n",
      "\n",
      "XGBoost Regression\n",
      "Cross-validation score: [-0.18379033  0.2307601   0.36991105]\n",
      "Training R^2: 0.961765708473\n",
      "Test R^2: 0.281769365712\n",
      "MAE: 0.271540039317\n",
      "MSE: 0.116332950871\n",
      "RMSE: 0.341076165792\n",
      "\n",
      "\n"
     ]
    }
   ],
   "source": [
    "rundefaultmodels(x_train5, y_train5, x_test5, y_test5)"
   ]
  },
  {
   "cell_type": "markdown",
   "metadata": {},
   "source": [
    "**Better results with predicting offensive metric**"
   ]
  },
  {
   "cell_type": "code",
   "execution_count": 343,
   "metadata": {
    "collapsed": true
   },
   "outputs": [],
   "source": [
    "x6 = data4[features]\n",
    "y6 = data4['TotalDef']"
   ]
  },
  {
   "cell_type": "code",
   "execution_count": 344,
   "metadata": {
    "collapsed": true
   },
   "outputs": [],
   "source": [
    "x_train6, x_test6, y_train6, y_test6 = train_test_split(x6,y6, test_size = 0.3)"
   ]
  },
  {
   "cell_type": "code",
   "execution_count": 366,
   "metadata": {},
   "outputs": [
    {
     "name": "stdout",
     "output_type": "stream",
     "text": [
      "Linear Regression\n",
      "Cross-validation score: [ 0.57518281  0.61271229  0.61291472]\n",
      "Training R^2: 0.710294948769\n",
      "Test R^2: 0.669554588097\n",
      "MAE: 0.168425456984\n",
      "MSE: 0.0487785046075\n",
      "RMSE: 0.22085856245\n",
      "\n",
      "\n",
      "Lasso Regression\n",
      "Cross-validation score: [ 0.5890526   0.57517493  0.6125764 ]\n",
      "Training R^2: 0.673278727699\n",
      "Test R^2: 0.700916584017\n",
      "MAE: 0.158748450591\n",
      "MSE: 0.0441490220746\n",
      "RMSE: 0.210116686807\n",
      "\n",
      "\n",
      "Ridge Regression\n",
      "Cross-validation score: [ 0.60180375  0.56730913  0.6206612 ]\n",
      "Training R^2: 0.705697047065\n",
      "Test R^2: 0.675684688132\n",
      "MAE: 0.167756967292\n",
      "MSE: 0.0478736135058\n",
      "RMSE: 0.218800396494\n",
      "\n",
      "\n",
      "K-Nearest Neighbors Regression\n",
      "Cross-validation score: [ 0.13266774  0.39165676  0.33519676]\n",
      "Training R^2: 0.550845722483\n",
      "Test R^2: 0.538668713998\n",
      "MAE: 0.203594634843\n",
      "MSE: 0.0680991457265\n",
      "RMSE: 0.260958130217\n",
      "\n",
      "\n",
      "Decision Tree Regression\n",
      "Cross-validation score: [-0.47863643  0.03870645  0.38377027]\n",
      "Training R^2: 0.999999985981\n",
      "Test R^2: 0.0348671619047\n",
      "MAE: 0.288504235423\n",
      "MSE: 0.142467514736\n",
      "RMSE: 0.377448691528\n",
      "\n",
      "\n",
      "Random Forest Regression\n",
      "Cross-validation score: [ 0.49222017  0.3982412   0.4188748 ]\n",
      "Training R^2: 0.921478495161\n",
      "Test R^2: 0.558864831055\n",
      "MAE: 0.20142003686\n",
      "MSE: 0.0651179078173\n",
      "RMSE: 0.255182107165\n",
      "\n",
      "\n",
      "Extra Trees Regression\n",
      "Cross-validation score: [ 0.29877238  0.33812825  0.55029417]\n",
      "Training R^2: 0.999999999276\n",
      "Test R^2: 0.562631191523\n",
      "MAE: 0.199700954337\n",
      "MSE: 0.0645619387378\n",
      "RMSE: 0.254090414494\n",
      "\n",
      "\n",
      "AdaBoost Regression\n",
      "Cross-validation score: [ 0.46706057  0.38568188  0.53028212]\n",
      "Training R^2: 0.795088433581\n",
      "Test R^2: 0.634017922694\n",
      "MAE: 0.175178613244\n",
      "MSE: 0.0540242285142\n",
      "RMSE: 0.232431126388\n",
      "\n",
      "\n",
      "GradientBoost Regression\n",
      "Cross-validation score: [ 0.38973193  0.46185294  0.57557776]\n",
      "Training R^2: 0.980144750434\n",
      "Test R^2: 0.594493645366\n",
      "MAE: 0.190268419255\n",
      "MSE: 0.0598585814038\n",
      "RMSE: 0.24466013448\n",
      "\n",
      "\n",
      "Bagging Regression\n",
      "Cross-validation score: [ 0.38716432  0.39012193  0.44249205]\n",
      "Training R^2: 0.894551693878\n",
      "Test R^2: 0.624343651153\n",
      "MAE: 0.186486437696\n",
      "MSE: 0.0554522904027\n",
      "RMSE: 0.235483100036\n",
      "\n",
      "\n",
      "XGBoost Regression\n",
      "Cross-validation score: [ 0.43000171  0.43667208  0.52773823]\n",
      "Training R^2: 0.977618684843\n",
      "Test R^2: 0.533592494568\n",
      "MAE: 0.199247529975\n",
      "MSE: 0.0688484688641\n",
      "RMSE: 0.262389917611\n",
      "\n",
      "\n"
     ]
    }
   ],
   "source": [
    "rundefaultmodels(x_train6, y_train6, x_test6, y_test6)"
   ]
  },
  {
   "cell_type": "markdown",
   "metadata": {},
   "source": [
    "**Good results with defensive metrics as well**"
   ]
  },
  {
   "cell_type": "markdown",
   "metadata": {},
   "source": [
    "**We will try to see if single target metrics perform better**"
   ]
  },
  {
   "cell_type": "code",
   "execution_count": 367,
   "metadata": {
    "collapsed": true
   },
   "outputs": [],
   "source": [
    "xper = data4[features]\n",
    "yper = data4['PER']"
   ]
  },
  {
   "cell_type": "code",
   "execution_count": 369,
   "metadata": {
    "collapsed": true
   },
   "outputs": [],
   "source": [
    "x_trainper, x_testper, y_trainper, y_testper = train_test_split(xper,yper,test_size = 0.3)"
   ]
  },
  {
   "cell_type": "code",
   "execution_count": 370,
   "metadata": {},
   "outputs": [
    {
     "name": "stdout",
     "output_type": "stream",
     "text": [
      "Linear Regression\n",
      "Cross-validation score: [-1.1378714   0.33243148  0.2137813 ]\n",
      "Training R^2: 0.490202137224\n",
      "Test R^2: 0.00548139752509\n",
      "MAE: 2.38591134852\n",
      "MSE: 9.2520957836\n",
      "RMSE: 3.04172579034\n",
      "\n",
      "\n",
      "Lasso Regression\n",
      "Cross-validation score: [ 0.21529915  0.3055426   0.19715075]\n",
      "Training R^2: 0.438375806722\n",
      "Test R^2: 0.00290572698483\n",
      "MAE: 2.27823345499\n",
      "MSE: 9.27605747771\n",
      "RMSE: 3.04566207543\n",
      "\n",
      "\n",
      "Ridge Regression\n",
      "Cross-validation score: [ 0.22348361  0.34962928  0.18092971]\n",
      "Training R^2: 0.449932020551\n",
      "Test R^2: 0.0333732296801\n",
      "MAE: 2.23522092675\n",
      "MSE: 8.9926155667\n",
      "RMSE: 2.99876900856\n",
      "\n",
      "\n",
      "K-Nearest Neighbors Regression\n",
      "Cross-validation score: [ 0.11076612 -0.14246288  0.00122279]\n",
      "Training R^2: 0.343126786704\n",
      "Test R^2: -0.223527177708\n",
      "MAE: 2.68170892019\n",
      "MSE: 11.3825831049\n",
      "RMSE: 3.37380839777\n",
      "\n",
      "\n",
      "Decision Tree Regression\n",
      "Cross-validation score: [-2.03071035 -0.11893985 -0.18984931]\n",
      "Training R^2: 1.0\n",
      "Test R^2: -1.10575154878\n",
      "MAE: 3.38307511737\n",
      "MSE: 19.589995579\n",
      "RMSE: 4.42605869584\n",
      "\n",
      "\n",
      "Random Forest Regression\n",
      "Cross-validation score: [-0.00915173  0.25631318  0.05703767]\n",
      "Training R^2: 0.836961268952\n",
      "Test R^2: -0.218565498587\n",
      "MAE: 2.77956807512\n",
      "MSE: 11.3364241588\n",
      "RMSE: 3.36696067082\n",
      "\n",
      "\n",
      "Extra Trees Regression\n",
      "Cross-validation score: [-0.5526458   0.1761998   0.09803653]\n",
      "Training R^2: 1.0\n",
      "Test R^2: -0.0999154750987\n",
      "MAE: 2.55809624413\n",
      "MSE: 10.2326123455\n",
      "RMSE: 3.19884547071\n",
      "\n",
      "\n",
      "AdaBoost Regression\n",
      "Cross-validation score: [ 0.07581133  0.15286146  0.06868963]\n",
      "Training R^2: 0.718972477062\n",
      "Test R^2: -0.0454013411641\n",
      "MAE: 2.55906274434\n",
      "MSE: 9.72546246665\n",
      "RMSE: 3.11856737408\n",
      "\n",
      "\n",
      "GradientBoost Regression\n",
      "Cross-validation score: [-0.28710207  0.08184881  0.04223406]\n",
      "Training R^2: 0.951219508749\n",
      "Test R^2: 0.0178889843258\n",
      "MAE: 2.42831804508\n",
      "MSE: 9.13666689042\n",
      "RMSE: 3.02269199397\n",
      "\n",
      "\n",
      "Bagging Regression\n",
      "Cross-validation score: [ 0.07093617  0.17387339  0.1044811 ]\n",
      "Training R^2: 0.837423216342\n",
      "Test R^2: -0.115419279959\n",
      "MAE: 2.41558215962\n",
      "MSE: 10.376845633\n",
      "RMSE: 3.22131116675\n",
      "\n",
      "\n",
      "XGBoost Regression\n",
      "Cross-validation score: [-0.22987751  0.12943642  0.05718561]\n",
      "Training R^2: 0.931882131688\n",
      "Test R^2: -0.102134843059\n",
      "MAE: 2.57252902277\n",
      "MSE: 10.2532593247\n",
      "RMSE: 3.20207109926\n",
      "\n",
      "\n"
     ]
    }
   ],
   "source": [
    "rundefaultmodels(x_trainper, y_trainper, x_testper, y_testper)"
   ]
  },
  {
   "cell_type": "code",
   "execution_count": 381,
   "metadata": {
    "collapsed": true
   },
   "outputs": [],
   "source": [
    "data5 = data4.merge(test1[['Name','TotalPERWS','TotalPERWSBPM','TotalWSBPM','TotalWSBPMV','PERVORP','TotalWV']],\n",
    "                   on = 'Name')"
   ]
  },
  {
   "cell_type": "code",
   "execution_count": 403,
   "metadata": {
    "collapsed": true
   },
   "outputs": [],
   "source": [
    "data5.to_csv('normdfedit.csv',index = False)"
   ]
  },
  {
   "cell_type": "code",
   "execution_count": 400,
   "metadata": {
    "collapsed": true
   },
   "outputs": [],
   "source": [
    "x7 = data5[features]\n",
    "y7 = data5['TotalPERWS']"
   ]
  },
  {
   "cell_type": "code",
   "execution_count": 401,
   "metadata": {
    "collapsed": true
   },
   "outputs": [],
   "source": [
    "x_train7, x_test7, y_train7, y_test7 = train_test_split(x7,y7,test_size = 0.3)"
   ]
  },
  {
   "cell_type": "code",
   "execution_count": 402,
   "metadata": {},
   "outputs": [
    {
     "name": "stdout",
     "output_type": "stream",
     "text": [
      "Linear Regression\n",
      "Cross-validation score: [ 0.10750829  0.22108636 -0.38603256]\n",
      "Training R^2: 0.457008499792\n",
      "Test R^2: 0.235149826954\n",
      "MAE: 0.200997607542\n",
      "MSE: 0.0679645245664\n",
      "RMSE: 0.260700066295\n",
      "\n",
      "\n",
      "Lasso Regression\n",
      "Cross-validation score: [ 0.20995261  0.20392838 -0.16217317]\n",
      "Training R^2: 0.409752553117\n",
      "Test R^2: 0.221284940169\n",
      "MAE: 0.19901531924\n",
      "MSE: 0.0691965572857\n",
      "RMSE: 0.26305238506\n",
      "\n",
      "\n",
      "Ridge Regression\n",
      "Cross-validation score: [ 0.13201511  0.2607708  -0.21256292]\n",
      "Training R^2: 0.4396457976\n",
      "Test R^2: 0.259735740441\n",
      "MAE: 0.196811529245\n",
      "MSE: 0.0657798222808\n",
      "RMSE: 0.256475773282\n",
      "\n",
      "\n",
      "K-Nearest Neighbors Regression\n",
      "Cross-validation score: [-0.05079784 -0.08531785 -0.80350582]\n",
      "Training R^2: 0.280139494195\n",
      "Test R^2: -0.235506827277\n",
      "MAE: 0.255307728219\n",
      "MSE: 0.109787036826\n",
      "RMSE: 0.331341269428\n",
      "\n",
      "\n",
      "Decision Tree Regression\n",
      "Cross-validation score: [-0.42434802 -0.13470463 -2.02881719]\n",
      "Training R^2: 1.0\n",
      "Test R^2: -0.500463928258\n",
      "MAE: 0.282572069319\n",
      "MSE: 0.133331103407\n",
      "RMSE: 0.365145318205\n",
      "\n",
      "\n",
      "Random Forest Regression\n",
      "Cross-validation score: [-0.1163644   0.08385917 -0.62017919]\n",
      "Training R^2: 0.789908189555\n",
      "Test R^2: 0.067647465285\n",
      "MAE: 0.225039860867\n",
      "MSE: 0.0828487708878\n",
      "RMSE: 0.287834624199\n",
      "\n",
      "\n",
      "Extra Trees Regression\n",
      "Cross-validation score: [ 0.04780757  0.04927779 -0.41664301]\n",
      "Training R^2: 0.99999999992\n",
      "Test R^2: 0.026355642759\n",
      "MAE: 0.222561279783\n",
      "MSE: 0.0865179589005\n",
      "RMSE: 0.294139352859\n",
      "\n",
      "\n",
      "AdaBoost Regression\n",
      "Cross-validation score: [-0.08695006  0.06814688 -0.43892793]\n",
      "Training R^2: 0.697030516676\n",
      "Test R^2: 0.0597798210557\n",
      "MAE: 0.226791866069\n",
      "MSE: 0.0835478891182\n",
      "RMSE: 0.289046517222\n",
      "\n",
      "\n",
      "GradientBoost Regression\n",
      "Cross-validation score: [-0.02181513 -0.00151686 -0.3695852 ]\n",
      "Training R^2: 0.95396794572\n",
      "Test R^2: 0.120255040137\n",
      "MAE: 0.208363516219\n",
      "MSE: 0.0781740660379\n",
      "RMSE: 0.279596255407\n",
      "\n",
      "\n",
      "Bagging Regression\n",
      "Cross-validation score: [-0.13972505  0.07460277 -0.36194566]\n",
      "Training R^2: 0.84166828257\n",
      "Test R^2: 0.0010069711981\n",
      "MAE: 0.226031716247\n",
      "MSE: 0.0887704398069\n",
      "RMSE: 0.29794368563\n",
      "\n",
      "\n",
      "XGBoost Regression\n",
      "Cross-validation score: [-0.06501814  0.05318553 -0.33043245]\n",
      "Training R^2: 0.956206784848\n",
      "Test R^2: 0.042057398302\n",
      "MAE: 0.227870396487\n",
      "MSE: 0.0851227021719\n",
      "RMSE: 0.291757951343\n",
      "\n",
      "\n"
     ]
    }
   ],
   "source": [
    "rundefaultmodels(x_train7,y_train7,x_test7,y_test7)"
   ]
  },
  {
   "cell_type": "code",
   "execution_count": 409,
   "metadata": {
    "collapsed": true
   },
   "outputs": [],
   "source": [
    "features1 = ['PPG','MPG','FGM','FG%','FTM','FT%','3PM','3P%','ORB','DRB','APG','SPG',\n",
    "           'BPG','TOV','PF','Age at Draft','Weight at Draft','Height Inches']"
   ]
  },
  {
   "cell_type": "code",
   "execution_count": 408,
   "metadata": {},
   "outputs": [
    {
     "data": {
      "text/plain": [
       "<matplotlib.axes._subplots.AxesSubplot at 0x11eed6950>"
      ]
     },
     "execution_count": 408,
     "metadata": {},
     "output_type": "execute_result"
    },
    {
     "data": {
      "image/png": "[encoded data removed]",
      "text/plain": [
       "<matplotlib.figure.Figure at 0x11effc650>"
      ]
     },
     "metadata": {},
     "output_type": "display_data"
    }
   ],
   "source": [
    "plt.subplots(figsize=(14,10))\n",
    "sns.heatmap(data5.corr())"
   ]
  },
  {
   "cell_type": "markdown",
   "metadata": {},
   "source": [
    "**We removed some features that were correlated**"
   ]
  },
  {
   "cell_type": "code",
   "execution_count": 410,
   "metadata": {
    "collapsed": true
   },
   "outputs": [],
   "source": [
    "x8 = data5[features1]\n",
    "y8 = data5['TotalWS']"
   ]
  },
  {
   "cell_type": "code",
   "execution_count": 411,
   "metadata": {
    "collapsed": true
   },
   "outputs": [],
   "source": [
    "x_train8, x_test8, y_train8, y_test8 = train_test_split(x8,y8, test_size = 0.3)"
   ]
  },
  {
   "cell_type": "code",
   "execution_count": 412,
   "metadata": {},
   "outputs": [
    {
     "name": "stdout",
     "output_type": "stream",
     "text": [
      "Linear Regression\n",
      "Cross-validation score: [ 0.41040306  0.17530937  0.16644035]\n",
      "Training R^2: 0.442401568588\n",
      "Test R^2: 0.327054544932\n",
      "MAE: 0.354037932908\n",
      "MSE: 0.197690861936\n",
      "RMSE: 0.444624405466\n",
      "\n",
      "\n",
      "Lasso Regression\n",
      "Cross-validation score: [ 0.18882538  0.19045104  0.07189485]\n",
      "Training R^2: 0.44073258459\n",
      "Test R^2: 0.321713185549\n",
      "MAE: 0.356333712373\n",
      "MSE: 0.199259990507\n",
      "RMSE: 0.446385473002\n",
      "\n",
      "\n",
      "Ridge Regression\n",
      "Cross-validation score: [ 0.35244774  0.18935949  0.09095929]\n",
      "Training R^2: 0.439755983503\n",
      "Test R^2: 0.318690768481\n",
      "MAE: 0.358753916311\n",
      "MSE: 0.200147884512\n",
      "RMSE: 0.447378904858\n",
      "\n",
      "\n",
      "K-Nearest Neighbors Regression\n",
      "Cross-validation score: [ 0.19041179 -0.04836033 -0.13544485]\n",
      "Training R^2: 0.328623936581\n",
      "Test R^2: -0.175599125194\n",
      "MAE: 0.490689925125\n",
      "MSE: 0.3453551883\n",
      "RMSE: 0.587669284802\n",
      "\n",
      "\n",
      "Decision Tree Regression\n",
      "Cross-validation score: [ 0.00170055 -1.06362803 -1.25844345]\n",
      "Training R^2: 1.0\n",
      "Test R^2: -0.676621571767\n",
      "MAE: 0.530841718806\n",
      "MSE: 0.492540310908\n",
      "RMSE: 0.701812162126\n",
      "\n",
      "\n",
      "Random Forest Regression\n",
      "Cross-validation score: [ 0.13871203  0.1110308   0.03057019]\n",
      "Training R^2: 0.851916233542\n",
      "Test R^2: 0.0191073609428\n",
      "MAE: 0.417921366935\n",
      "MSE: 0.288156357728\n",
      "RMSE: 0.536801972545\n",
      "\n",
      "\n",
      "Extra Trees Regression\n",
      "Cross-validation score: [ 0.25828849  0.02410322  0.01095128]\n",
      "Training R^2: 0.999999999974\n",
      "Test R^2: 0.0529284756164\n",
      "MAE: 0.426436420514\n",
      "MSE: 0.278220745174\n",
      "RMSE: 0.527466345063\n",
      "\n",
      "\n",
      "AdaBoost Regression\n",
      "Cross-validation score: [ 0.15939799  0.12617713 -0.13003791]\n",
      "Training R^2: 0.682440476671\n",
      "Test R^2: 0.0752213896357\n",
      "MAE: 0.412664584683\n",
      "MSE: 0.271671766569\n",
      "RMSE: 0.521221417988\n",
      "\n",
      "\n",
      "GradientBoost Regression\n",
      "Cross-validation score: [ 0.18890103  0.06623229  0.00204498]\n",
      "Training R^2: 0.953478466843\n",
      "Test R^2: 0.0663376588688\n",
      "MAE: 0.423395263481\n",
      "MSE: 0.274281535874\n",
      "RMSE: 0.523718947408\n",
      "\n",
      "\n",
      "Bagging Regression\n",
      "Cross-validation score: [ 0.17021318  0.07032225  0.01796077]\n",
      "Training R^2: 0.85169066005\n",
      "Test R^2: -0.0368188832764\n",
      "MAE: 0.435652160888\n",
      "MSE: 0.304585783532\n",
      "RMSE: 0.551892909478\n",
      "\n",
      "\n",
      "XGBoost Regression\n",
      "Cross-validation score: [ 0.19798529  0.12092614 -0.04941739]\n",
      "Training R^2: 0.93667502651\n",
      "Test R^2: 0.0680477284018\n",
      "MAE: 0.425271215607\n",
      "MSE: 0.273779169572\n",
      "RMSE: 0.52323911319\n",
      "\n",
      "\n"
     ]
    }
   ],
   "source": [
    "rundefaultmodels(x_train8, y_train8, x_test8, y_test8)"
   ]
  },
  {
   "cell_type": "markdown",
   "metadata": {},
   "source": [
    "**We will perform further parameter tuning for overall, offense, and defense models in other notebooks.**"
   ]
  }
 ],
 "metadata": {
  "kernelspec": {
   "display_name": "Python 2",
   "language": "python",
   "name": "python2"
  },
  "language_info": {
   "codemirror_mode": {
    "name": "ipython",
    "version": 2
   },
   "file_extension": ".py",
   "mimetype": "text/x-python",
   "name": "python",
   "nbconvert_exporter": "python",
   "pygments_lexer": "ipython2",
   "version": "2.7.13"
  }
 },
 "nbformat": 4,
 "nbformat_minor": 2
}
