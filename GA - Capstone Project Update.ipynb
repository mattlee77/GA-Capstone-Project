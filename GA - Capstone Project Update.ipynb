{
 "cells": [
  {
   "cell_type": "markdown",
   "metadata": {},
   "source": [
    "Main Goal\n",
    "=="
   ]
  },
  {
   "cell_type": "markdown",
   "metadata": {},
   "source": [
    "The main goal of this project is to predict the potential of incoming NBA players. The success metrics that I will use will be a combination of advanced NBA statistics such as Value Over Replacement Player, Win Shares per 48 minutes, Box Score +/-, etc., styles of play (offensive scorer, 3 Point Specialist, Defender, etc.), and cohorts of different talent levels (Superstar, All-star, Average, Bench, Bust). "
   ]
  },
  {
   "cell_type": "markdown",
   "metadata": {},
   "source": [
    "Methodology\n",
    "=="
   ]
  },
  {
   "cell_type": "markdown",
   "metadata": {},
   "source": [
    "I have collected pre-NBA data of players such as college statistics, draft measurements, and general demographic statistics to use as features to predict NBA-level data.\n",
    "\n",
    "Predicting advanced metrics and general statistics will be done by using regression models.\n",
    "\n",
    "For classifying incoming players into their cohorts, we will analyze NBA statistics and draw thresholds between each cohort that will capture the specific identity of that cohort. Then we will use classification models to predict the outcome of the players.\n",
    "\n",
    "I will be using voting classifiers and regressors to weigh models in order to maximize our accuracy. "
   ]
  },
  {
   "cell_type": "markdown",
   "metadata": {},
   "source": [
    "Risks and Assumptions\n",
    "=="
   ]
  },
  {
   "cell_type": "markdown",
   "metadata": {},
   "source": [
    "Pre-NBA data is difficult to acquire. Most specific measurements, such as hand lengh or wingspan, only started to be recorded after year 2000. The scope of players go back to 1991, as the most basic draft measurements were recorded from then on. \n",
    "\n",
    "Due to the scattered availability of data, I can only approach this project using different subsets of the entire dataset based on what kind of data is available. Therefore, I will have different models producing results from different sample sizes. \n",
    "\n",
    "International players' pre-NBA statistics will be harder to acquire and NBA players who went undrafted are not included in my scope. The number of undrafted players are low, and we have to assume that our models will still give us accurate predictions. \n",
    "\n",
    "Another concept that I am struggling with is time. Players stay in college for a varying amount of time. Some are 'one-and-done' players, some do not even finish one season, while others may stay for a full four years. Highschool players were also being drafted up until 2006. Their pre-NBA statistics will need to be aggregated or normalized, and I plan to create multiple scenarios (e.g. average through years, maximum of years). \n",
    "\n",
    "Time also applies to our target metrics. I have to ensure to select metrics that are not influenced greatly by the amount of time a player has been in the NBA, or transform and normalize these metrics to mitigate the effect of time in the NBA. \n",
    "\n",
    "Lastly, NBA success isn't based on pure quantitative results. Personal characteristics such as leadership, work ethic, basketball IQ, and perseverance play a huge role in a player's success in the NBA. I will attempt to incorporate features that in my opinion embed these qualitative values in the models (e.g. environment of birthplace, family members, etc.)"
   ]
  },
  {
   "cell_type": "markdown",
   "metadata": {},
   "source": [
    "Data Summary\n",
    "=="
   ]
  },
  {
   "cell_type": "markdown",
   "metadata": {},
   "source": [
    "Currently, I am working with nine different data sources, with a total of 1,539 players, 1,167 of which are Americans, and 372 international players. \n",
    "\n",
    "I am currently in the process of creating a general dataframe of players and common features, which I will then breakdown into different subsets and add features that are available to certain groups only.  "
   ]
  },
  {
   "cell_type": "code",
   "execution_count": null,
   "metadata": {
    "collapsed": true
   },
   "outputs": [],
   "source": []
  }
 ],
 "metadata": {
  "kernelspec": {
   "display_name": "Python 2",
   "language": "python",
   "name": "python2"
  },
  "language_info": {
   "codemirror_mode": {
    "name": "ipython",
    "version": 2
   },
   "file_extension": ".py",
   "mimetype": "text/x-python",
   "name": "python",
   "nbconvert_exporter": "python",
   "pygments_lexer": "ipython2",
   "version": "2.7.13"
  }
 },
 "nbformat": 4,
 "nbformat_minor": 2
}
